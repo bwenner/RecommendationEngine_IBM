{
 "cells": [
  {
   "cell_type": "markdown",
   "metadata": {},
   "source": [
    "# Recommendations with IBM\n",
    "\n",
    "In this notebook, you will be putting your recommendation skills to use on real data from the IBM Watson Studio platform. \n",
    "\n",
    "\n",
    "You may either submit your notebook through the workspace here, or you may work from your local machine and submit through the next page.  Either way assure that your code passes the project [RUBRIC](https://review.udacity.com/#!/rubrics/2322/view).  **Please save regularly.**\n",
    "\n",
    "By following the table of contents, you will build out a number of different methods for making recommendations that can be used for different situations. \n",
    "\n",
    "\n",
    "## Table of Contents\n",
    "\n",
    "I. [Exploratory Data Analysis](#Exploratory-Data-Analysis)<br>\n",
    "II. [Rank Based Recommendations](#Rank)<br>\n",
    "III. [User-User Based Collaborative Filtering](#User-User)<br>\n",
    "IV. [Content Based Recommendations (EXTRA - NOT REQUIRED)](#Content-Recs)<br>\n",
    "V. [Matrix Factorization](#Matrix-Fact)<br>\n",
    "VI. [Extras & Concluding](#conclusions)\n",
    "\n",
    "At the end of the notebook, you will find directions for how to submit your work.  Let's get started by importing the necessary libraries and reading in the data."
   ]
  },
  {
   "cell_type": "code",
   "execution_count": 1,
   "metadata": {},
   "outputs": [],
   "source": [
    "import pandas as pd\n",
    "import numpy as np\n",
    "import matplotlib.pyplot as plt\n",
    "import project_tests as t\n",
    "import pickle\n",
    "import random\n",
    "\n",
    "import DataScienceHelperLibrary as dsh\n",
    "\n",
    "%matplotlib inline\n",
    "\n",
    "df = pd.read_csv('data/user-item-interactions.csv')\n",
    "df_content = pd.read_csv('data/articles_community.csv')\n",
    "del df['Unnamed: 0']\n",
    "del df_content['Unnamed: 0']"
   ]
  },
  {
   "cell_type": "code",
   "execution_count": 2,
   "metadata": {},
   "outputs": [
    {
     "name": "stdout",
     "output_type": "stream",
     "text": [
      "-------------------- Dataframe analysis started --------------------\n",
      "Shape:  (45993, 3)\n",
      "Number of duplicate rows:  12311\n",
      "-------------------- Analysis of Columns with NaN values --------------------\n",
      "Columns having all values: 2, 66.67%\n",
      "article_id, type: float64    0.0\n",
      "title, type: object          0.0\n",
      "dtype: float64\n",
      "Columns having > 0% and <= 5% missing values: 1, 33.33%\n",
      "email, type: object    0.00037\n",
      "dtype: float64\n",
      "-------------------- Analysis of Columns with NaN values finished --------------------\n",
      "Considering columns:  ['article_id', 'title', 'email']\n",
      "-------------------- Dataframe value counts analye started --------------------\n",
      "********************  ********************\n",
      "More than 20 different values:  714\n",
      "Name:  article_id , dtype:  int64\n",
      "********************  ********************\n",
      "********************  ********************\n",
      "More than 20 different values:  714\n",
      "Name:  title , dtype:  int64\n",
      "********************  ********************\n",
      "********************  ********************\n",
      "More than 20 different values:  5148\n",
      "Name:  email , dtype:  int64\n",
      "********************  ********************\n",
      "-------------------- Dataframe value counts analysis finished --------------------\n",
      "-------------------- Dataframe analysis finished --------------------\n"
     ]
    }
   ],
   "source": [
    "# Show df to get an idea of the data\n",
    "\n",
    "dsh.AnalyzeDataFrame(df)"
   ]
  },
  {
   "cell_type": "code",
   "execution_count": 3,
   "metadata": {
    "scrolled": true
   },
   "outputs": [
    {
     "data": {
      "text/html": [
       "<div>\n",
       "<style scoped>\n",
       "    .dataframe tbody tr th:only-of-type {\n",
       "        vertical-align: middle;\n",
       "    }\n",
       "\n",
       "    .dataframe tbody tr th {\n",
       "        vertical-align: top;\n",
       "    }\n",
       "\n",
       "    .dataframe thead th {\n",
       "        text-align: right;\n",
       "    }\n",
       "</style>\n",
       "<table border=\"1\" class=\"dataframe\">\n",
       "  <thead>\n",
       "    <tr style=\"text-align: right;\">\n",
       "      <th></th>\n",
       "      <th>article_id</th>\n",
       "      <th>title</th>\n",
       "      <th>email</th>\n",
       "    </tr>\n",
       "  </thead>\n",
       "  <tbody>\n",
       "    <tr>\n",
       "      <th>0</th>\n",
       "      <td>1430.0</td>\n",
       "      <td>using pixiedust for fast, flexible, and easier...</td>\n",
       "      <td>ef5f11f77ba020cd36e1105a00ab868bbdbf7fe7</td>\n",
       "    </tr>\n",
       "    <tr>\n",
       "      <th>1</th>\n",
       "      <td>1314.0</td>\n",
       "      <td>healthcare python streaming application demo</td>\n",
       "      <td>083cbdfa93c8444beaa4c5f5e0f5f9198e4f9e0b</td>\n",
       "    </tr>\n",
       "    <tr>\n",
       "      <th>2</th>\n",
       "      <td>1429.0</td>\n",
       "      <td>use deep learning for image classification</td>\n",
       "      <td>b96a4f2e92d8572034b1e9b28f9ac673765cd074</td>\n",
       "    </tr>\n",
       "    <tr>\n",
       "      <th>3</th>\n",
       "      <td>1338.0</td>\n",
       "      <td>ml optimization using cognitive assistant</td>\n",
       "      <td>06485706b34a5c9bf2a0ecdac41daf7e7654ceb7</td>\n",
       "    </tr>\n",
       "    <tr>\n",
       "      <th>4</th>\n",
       "      <td>1276.0</td>\n",
       "      <td>deploy your python model as a restful api</td>\n",
       "      <td>f01220c46fc92c6e6b161b1849de11faacd7ccb2</td>\n",
       "    </tr>\n",
       "    <tr>\n",
       "      <th>45988</th>\n",
       "      <td>1324.0</td>\n",
       "      <td>ibm watson facebook posts for 2015</td>\n",
       "      <td>d21b998d7a4722310ceeaa3c6aaa181a36db2d73</td>\n",
       "    </tr>\n",
       "    <tr>\n",
       "      <th>45989</th>\n",
       "      <td>142.0</td>\n",
       "      <td>neural networks for beginners: popular types a...</td>\n",
       "      <td>d21b998d7a4722310ceeaa3c6aaa181a36db2d73</td>\n",
       "    </tr>\n",
       "    <tr>\n",
       "      <th>45990</th>\n",
       "      <td>233.0</td>\n",
       "      <td>bayesian nonparametric models – stats and bots</td>\n",
       "      <td>4faeed980a7cd11e0f3cf2058cc04daa2ef11452</td>\n",
       "    </tr>\n",
       "    <tr>\n",
       "      <th>45991</th>\n",
       "      <td>1160.0</td>\n",
       "      <td>analyze accident reports on amazon emr spark</td>\n",
       "      <td>abbf639ba05daa5249c520e290283a6d726ba78d</td>\n",
       "    </tr>\n",
       "    <tr>\n",
       "      <th>45992</th>\n",
       "      <td>16.0</td>\n",
       "      <td>higher-order logistic regression for large dat...</td>\n",
       "      <td>1f18e8aaccd6c8720180c3fe264c8aef5b00697f</td>\n",
       "    </tr>\n",
       "  </tbody>\n",
       "</table>\n",
       "</div>"
      ],
      "text/plain": [
       "       article_id                                              title  \\\n",
       "0          1430.0  using pixiedust for fast, flexible, and easier...   \n",
       "1          1314.0       healthcare python streaming application demo   \n",
       "2          1429.0         use deep learning for image classification   \n",
       "3          1338.0          ml optimization using cognitive assistant   \n",
       "4          1276.0          deploy your python model as a restful api   \n",
       "45988      1324.0                 ibm watson facebook posts for 2015   \n",
       "45989       142.0  neural networks for beginners: popular types a...   \n",
       "45990       233.0     bayesian nonparametric models – stats and bots   \n",
       "45991      1160.0       analyze accident reports on amazon emr spark   \n",
       "45992        16.0  higher-order logistic regression for large dat...   \n",
       "\n",
       "                                          email  \n",
       "0      ef5f11f77ba020cd36e1105a00ab868bbdbf7fe7  \n",
       "1      083cbdfa93c8444beaa4c5f5e0f5f9198e4f9e0b  \n",
       "2      b96a4f2e92d8572034b1e9b28f9ac673765cd074  \n",
       "3      06485706b34a5c9bf2a0ecdac41daf7e7654ceb7  \n",
       "4      f01220c46fc92c6e6b161b1849de11faacd7ccb2  \n",
       "45988  d21b998d7a4722310ceeaa3c6aaa181a36db2d73  \n",
       "45989  d21b998d7a4722310ceeaa3c6aaa181a36db2d73  \n",
       "45990  4faeed980a7cd11e0f3cf2058cc04daa2ef11452  \n",
       "45991  abbf639ba05daa5249c520e290283a6d726ba78d  \n",
       "45992  1f18e8aaccd6c8720180c3fe264c8aef5b00697f  "
      ]
     },
     "execution_count": 3,
     "metadata": {},
     "output_type": "execute_result"
    }
   ],
   "source": [
    "dsh.DfTailHead(df, count = 5)"
   ]
  },
  {
   "cell_type": "code",
   "execution_count": 4,
   "metadata": {},
   "outputs": [
    {
     "name": "stdout",
     "output_type": "stream",
     "text": [
      "(1056, 5)\n"
     ]
    }
   ],
   "source": [
    "# Show df_content to get an idea of the data\n",
    "print(df_content.shape)"
   ]
  },
  {
   "cell_type": "code",
   "execution_count": 5,
   "metadata": {
    "scrolled": false
   },
   "outputs": [
    {
     "data": {
      "text/html": [
       "<div>\n",
       "<style scoped>\n",
       "    .dataframe tbody tr th:only-of-type {\n",
       "        vertical-align: middle;\n",
       "    }\n",
       "\n",
       "    .dataframe tbody tr th {\n",
       "        vertical-align: top;\n",
       "    }\n",
       "\n",
       "    .dataframe thead th {\n",
       "        text-align: right;\n",
       "    }\n",
       "</style>\n",
       "<table border=\"1\" class=\"dataframe\">\n",
       "  <thead>\n",
       "    <tr style=\"text-align: right;\">\n",
       "      <th></th>\n",
       "      <th>doc_body</th>\n",
       "      <th>doc_description</th>\n",
       "      <th>doc_full_name</th>\n",
       "      <th>doc_status</th>\n",
       "      <th>article_id</th>\n",
       "    </tr>\n",
       "  </thead>\n",
       "  <tbody>\n",
       "    <tr>\n",
       "      <th>0</th>\n",
       "      <td>Skip navigation Sign in SearchLoading...\\r\\n\\r...</td>\n",
       "      <td>Detect bad readings in real time using Python ...</td>\n",
       "      <td>Detect Malfunctioning IoT Sensors with Streami...</td>\n",
       "      <td>Live</td>\n",
       "      <td>0</td>\n",
       "    </tr>\n",
       "    <tr>\n",
       "      <th>1</th>\n",
       "      <td>No Free Hunch Navigation * kaggle.com\\r\\n\\r\\n ...</td>\n",
       "      <td>See the forest, see the trees. Here lies the c...</td>\n",
       "      <td>Communicating data science: A guide to present...</td>\n",
       "      <td>Live</td>\n",
       "      <td>1</td>\n",
       "    </tr>\n",
       "    <tr>\n",
       "      <th>2</th>\n",
       "      <td>☰ * Login\\r\\n * Sign Up\\r\\n\\r\\n * Learning Pat...</td>\n",
       "      <td>Here’s this week’s news in Data Science and Bi...</td>\n",
       "      <td>This Week in Data Science (April 18, 2017)</td>\n",
       "      <td>Live</td>\n",
       "      <td>2</td>\n",
       "    </tr>\n",
       "    <tr>\n",
       "      <th>3</th>\n",
       "      <td>DATALAYER: HIGH THROUGHPUT, LOW LATENCY AT SCA...</td>\n",
       "      <td>Learn how distributed DBs solve the problem of...</td>\n",
       "      <td>DataLayer Conference: Boost the performance of...</td>\n",
       "      <td>Live</td>\n",
       "      <td>3</td>\n",
       "    </tr>\n",
       "    <tr>\n",
       "      <th>4</th>\n",
       "      <td>Skip navigation Sign in SearchLoading...\\r\\n\\r...</td>\n",
       "      <td>This video demonstrates the power of IBM DataS...</td>\n",
       "      <td>Analyze NY Restaurant data using Spark in DSX</td>\n",
       "      <td>Live</td>\n",
       "      <td>4</td>\n",
       "    </tr>\n",
       "    <tr>\n",
       "      <th>1051</th>\n",
       "      <td>PouchDB-find is a new API and syntax that allo...</td>\n",
       "      <td>PouchDB uses MapReduce as its default search m...</td>\n",
       "      <td>A look under the covers of PouchDB-find</td>\n",
       "      <td>Live</td>\n",
       "      <td>1046</td>\n",
       "    </tr>\n",
       "    <tr>\n",
       "      <th>1052</th>\n",
       "      <td>We compare discriminative and generative learn...</td>\n",
       "      <td>We compare discriminative and generative learn...</td>\n",
       "      <td>A comparison of logistic regression and naive ...</td>\n",
       "      <td>Live</td>\n",
       "      <td>1047</td>\n",
       "    </tr>\n",
       "    <tr>\n",
       "      <th>1053</th>\n",
       "      <td>Essays about data, building products and boots...</td>\n",
       "      <td>In order to demystify some of the magic behind...</td>\n",
       "      <td>What I Learned Implementing a Classifier from ...</td>\n",
       "      <td>Live</td>\n",
       "      <td>1048</td>\n",
       "    </tr>\n",
       "    <tr>\n",
       "      <th>1054</th>\n",
       "      <td>NaN</td>\n",
       "      <td>Learn how to use IBM dashDB as data store for ...</td>\n",
       "      <td>Use dashDB with Spark</td>\n",
       "      <td>Live</td>\n",
       "      <td>1049</td>\n",
       "    </tr>\n",
       "    <tr>\n",
       "      <th>1055</th>\n",
       "      <td>Homepage Follow Sign in / Sign up Homepage * H...</td>\n",
       "      <td>Once you get used to developing in a Notebook ...</td>\n",
       "      <td>Jupyter Notebooks with Scala, Python, or R Ker...</td>\n",
       "      <td>Live</td>\n",
       "      <td>1050</td>\n",
       "    </tr>\n",
       "  </tbody>\n",
       "</table>\n",
       "</div>"
      ],
      "text/plain": [
       "                                               doc_body  \\\n",
       "0     Skip navigation Sign in SearchLoading...\\r\\n\\r...   \n",
       "1     No Free Hunch Navigation * kaggle.com\\r\\n\\r\\n ...   \n",
       "2     ☰ * Login\\r\\n * Sign Up\\r\\n\\r\\n * Learning Pat...   \n",
       "3     DATALAYER: HIGH THROUGHPUT, LOW LATENCY AT SCA...   \n",
       "4     Skip navigation Sign in SearchLoading...\\r\\n\\r...   \n",
       "1051  PouchDB-find is a new API and syntax that allo...   \n",
       "1052  We compare discriminative and generative learn...   \n",
       "1053  Essays about data, building products and boots...   \n",
       "1054                                                NaN   \n",
       "1055  Homepage Follow Sign in / Sign up Homepage * H...   \n",
       "\n",
       "                                        doc_description  \\\n",
       "0     Detect bad readings in real time using Python ...   \n",
       "1     See the forest, see the trees. Here lies the c...   \n",
       "2     Here’s this week’s news in Data Science and Bi...   \n",
       "3     Learn how distributed DBs solve the problem of...   \n",
       "4     This video demonstrates the power of IBM DataS...   \n",
       "1051  PouchDB uses MapReduce as its default search m...   \n",
       "1052  We compare discriminative and generative learn...   \n",
       "1053  In order to demystify some of the magic behind...   \n",
       "1054  Learn how to use IBM dashDB as data store for ...   \n",
       "1055  Once you get used to developing in a Notebook ...   \n",
       "\n",
       "                                          doc_full_name doc_status  article_id  \n",
       "0     Detect Malfunctioning IoT Sensors with Streami...       Live           0  \n",
       "1     Communicating data science: A guide to present...       Live           1  \n",
       "2            This Week in Data Science (April 18, 2017)       Live           2  \n",
       "3     DataLayer Conference: Boost the performance of...       Live           3  \n",
       "4         Analyze NY Restaurant data using Spark in DSX       Live           4  \n",
       "1051            A look under the covers of PouchDB-find       Live        1046  \n",
       "1052  A comparison of logistic regression and naive ...       Live        1047  \n",
       "1053  What I Learned Implementing a Classifier from ...       Live        1048  \n",
       "1054                              Use dashDB with Spark       Live        1049  \n",
       "1055  Jupyter Notebooks with Scala, Python, or R Ker...       Live        1050  "
      ]
     },
     "execution_count": 5,
     "metadata": {},
     "output_type": "execute_result"
    }
   ],
   "source": [
    "dsh.DfTailHead(df_content, count = 5)"
   ]
  },
  {
   "cell_type": "markdown",
   "metadata": {},
   "source": [
    "### Some data preparation before use"
   ]
  },
  {
   "cell_type": "code",
   "execution_count": 6,
   "metadata": {
    "scrolled": true
   },
   "outputs": [
    {
     "data": {
      "text/html": [
       "<div>\n",
       "<style scoped>\n",
       "    .dataframe tbody tr th:only-of-type {\n",
       "        vertical-align: middle;\n",
       "    }\n",
       "\n",
       "    .dataframe tbody tr th {\n",
       "        vertical-align: top;\n",
       "    }\n",
       "\n",
       "    .dataframe thead th {\n",
       "        text-align: right;\n",
       "    }\n",
       "</style>\n",
       "<table border=\"1\" class=\"dataframe\">\n",
       "  <thead>\n",
       "    <tr style=\"text-align: right;\">\n",
       "      <th></th>\n",
       "      <th>article_id</th>\n",
       "      <th>title</th>\n",
       "      <th>userid</th>\n",
       "    </tr>\n",
       "  </thead>\n",
       "  <tbody>\n",
       "    <tr>\n",
       "      <th>0</th>\n",
       "      <td>1430.0</td>\n",
       "      <td>using pixiedust for fast, flexible, and easier...</td>\n",
       "      <td>1</td>\n",
       "    </tr>\n",
       "    <tr>\n",
       "      <th>1</th>\n",
       "      <td>1314.0</td>\n",
       "      <td>healthcare python streaming application demo</td>\n",
       "      <td>2</td>\n",
       "    </tr>\n",
       "    <tr>\n",
       "      <th>2</th>\n",
       "      <td>1429.0</td>\n",
       "      <td>use deep learning for image classification</td>\n",
       "      <td>3</td>\n",
       "    </tr>\n",
       "    <tr>\n",
       "      <th>3</th>\n",
       "      <td>1338.0</td>\n",
       "      <td>ml optimization using cognitive assistant</td>\n",
       "      <td>4</td>\n",
       "    </tr>\n",
       "    <tr>\n",
       "      <th>4</th>\n",
       "      <td>1276.0</td>\n",
       "      <td>deploy your python model as a restful api</td>\n",
       "      <td>5</td>\n",
       "    </tr>\n",
       "    <tr>\n",
       "      <th>45988</th>\n",
       "      <td>1324.0</td>\n",
       "      <td>ibm watson facebook posts for 2015</td>\n",
       "      <td>5146</td>\n",
       "    </tr>\n",
       "    <tr>\n",
       "      <th>45989</th>\n",
       "      <td>142.0</td>\n",
       "      <td>neural networks for beginners: popular types a...</td>\n",
       "      <td>5146</td>\n",
       "    </tr>\n",
       "    <tr>\n",
       "      <th>45990</th>\n",
       "      <td>233.0</td>\n",
       "      <td>bayesian nonparametric models – stats and bots</td>\n",
       "      <td>5147</td>\n",
       "    </tr>\n",
       "    <tr>\n",
       "      <th>45991</th>\n",
       "      <td>1160.0</td>\n",
       "      <td>analyze accident reports on amazon emr spark</td>\n",
       "      <td>5148</td>\n",
       "    </tr>\n",
       "    <tr>\n",
       "      <th>45992</th>\n",
       "      <td>16.0</td>\n",
       "      <td>higher-order logistic regression for large dat...</td>\n",
       "      <td>5149</td>\n",
       "    </tr>\n",
       "  </tbody>\n",
       "</table>\n",
       "</div>"
      ],
      "text/plain": [
       "       article_id                                              title  userid\n",
       "0          1430.0  using pixiedust for fast, flexible, and easier...       1\n",
       "1          1314.0       healthcare python streaming application demo       2\n",
       "2          1429.0         use deep learning for image classification       3\n",
       "3          1338.0          ml optimization using cognitive assistant       4\n",
       "4          1276.0          deploy your python model as a restful api       5\n",
       "45988      1324.0                 ibm watson facebook posts for 2015    5146\n",
       "45989       142.0  neural networks for beginners: popular types a...    5146\n",
       "45990       233.0     bayesian nonparametric models – stats and bots    5147\n",
       "45991      1160.0       analyze accident reports on amazon emr spark    5148\n",
       "45992        16.0  higher-order logistic regression for large dat...    5149"
      ]
     },
     "execution_count": 6,
     "metadata": {},
     "output_type": "execute_result"
    }
   ],
   "source": [
    "dfUser = pd.DataFrame({'email': df['email'].unique()})\n",
    "dfUser.reset_index(inplace = True)\n",
    "dfUser = dsh.RenameColumn(dfUser, 'index', 'userid')\n",
    "dfUser['userid'] = dfUser['userid'].apply(lambda x: x + 1)\n",
    "dirUser = dict(zip(dfUser['email'], dfUser['userid']))\n",
    "\n",
    "df['userid'] = df['email'].apply(lambda x: dirUser[x])\n",
    "df.drop('email', axis = 1, inplace = True)\n",
    "\n",
    "dsh.DfTailHead(df, count = 5)"
   ]
  },
  {
   "cell_type": "markdown",
   "metadata": {},
   "source": [
    "### <a class=\"anchor\" id=\"Exploratory-Data-Analysis\">Part I : Exploratory Data Analysis</a>\n",
    "\n",
    "Use the dictionary and cells below to provide some insight into the descriptive statistics of the data.\n",
    "\n",
    "`1.` What is the distribution of how many articles a user interacts with in the dataset?  Provide a visual and descriptive statistics to assist with giving a look at the number of times each user interacts with an article.  "
   ]
  },
  {
   "cell_type": "code",
   "execution_count": 7,
   "metadata": {},
   "outputs": [
    {
     "data": {
      "text/plain": [
       "(0.0, 150)"
      ]
     },
     "execution_count": 7,
     "metadata": {},
     "output_type": "execute_result"
    },
    {
     "data": {
      "image/png": "[encoded data removed]",
      "text/plain": [
       "<Figure size 432x288 with 1 Axes>"
      ]
     },
     "metadata": {},
     "output_type": "display_data"
    }
   ],
   "source": [
    "grpUser = df.groupby('userid')\n",
    "numberUserRatings = {}\n",
    "for ind, grp in grpUser:\n",
    "    numberUserRatings[ind] = len(grp)\n",
    "\n",
    "dfUserArticles = pd.DataFrame({'userid' : list(numberUserRatings.keys()), 'articlecount' : list(numberUserRatings.values())}, index = list(numberUserRatings) )\n",
    "\n",
    "ax = dfUserArticles['articlecount'].plot(kind = 'bar')\n",
    "# get_xaxis().set_ticks([])\n",
    "ax.get_xaxis().set_ticks([])\n",
    "plt.ylim(top = 150)"
   ]
  },
  {
   "cell_type": "code",
   "execution_count": 8,
   "metadata": {},
   "outputs": [
    {
     "data": {
      "text/plain": [
       "[]"
      ]
     },
     "execution_count": 8,
     "metadata": {},
     "output_type": "execute_result"
    },
    {
     "data": {
      "image/png": "[encoded data removed]",
      "text/plain": [
       "<Figure size 432x288 with 1 Axes>"
      ]
     },
     "metadata": {},
     "output_type": "display_data"
    }
   ],
   "source": [
    "grpNbrRating = dfUserArticles.groupby('articlecount')\n",
    "\n",
    "numberRatingUsers = {}\n",
    "for ind, grp in grpNbrRating:\n",
    "    numberRatingUsers[ind] = len(grp)\n",
    "\n",
    "dfNumbRatingUsers = pd.DataFrame({'ratings' : list(numberRatingUsers.keys()), 'users' : list(numberRatingUsers.values())})\n",
    "\n",
    "ax = dfNumbRatingUsers['users'].plot(kind = 'bar')\n",
    "ax.get_xaxis().set_ticks([])"
   ]
  },
  {
   "cell_type": "markdown",
   "metadata": {},
   "source": [
    "Circa 1500 users gave one rating, nearly 800 gave 2, and so on."
   ]
  },
  {
   "cell_type": "code",
   "execution_count": 9,
   "metadata": {},
   "outputs": [
    {
     "data": {
      "text/plain": [
       "(8.932414060982715, 364)"
      ]
     },
     "execution_count": 9,
     "metadata": {},
     "output_type": "execute_result"
    }
   ],
   "source": [
    "dfUserArticles['articlecount'].mean(), dfUserArticles['articlecount'].max()"
   ]
  },
  {
   "cell_type": "code",
   "execution_count": 10,
   "metadata": {},
   "outputs": [],
   "source": [
    "# Fill in the median and maximum number of user_article interactios below\n",
    "\n",
    "median_val = dfUserArticles['articlecount'].median() # 50% of individuals interact with 9 number of articles or fewer.\n",
    "\n",
    "max_views_by_user = dfUserArticles['articlecount'].max() # The maximum number of user-article interactions by any 1 user is 364."
   ]
  },
  {
   "cell_type": "markdown",
   "metadata": {},
   "source": [
    "`2.` Explore and remove duplicate articles from the **df_content** dataframe.  "
   ]
  },
  {
   "cell_type": "code",
   "execution_count": 11,
   "metadata": {},
   "outputs": [
    {
     "name": "stdout",
     "output_type": "stream",
     "text": [
      "-------------------- Dataframe analysis started --------------------\n",
      "Shape:  (1056, 5)\n",
      "Number of duplicate rows:  0\n",
      "-------------------- Analysis of Columns with NaN values --------------------\n",
      "Columns having all values: 3, 60.00%\n",
      "doc_full_name, type: object    0.0\n",
      "doc_status, type: object       0.0\n",
      "article_id, type: int64        0.0\n",
      "dtype: float64\n",
      "Columns having > 0% and <= 5% missing values: 2, 40.00%\n",
      "doc_body, type: object           0.013258\n",
      "doc_description, type: object    0.002841\n",
      "dtype: float64\n",
      "-------------------- Analysis of Columns with NaN values finished --------------------\n",
      "Considering columns:  ['doc_body', 'doc_description', 'doc_full_name', 'doc_status', 'article_id']\n",
      "-------------------- Dataframe value counts analye started --------------------\n",
      "********************  ********************\n",
      "More than 20 different values:  1036\n",
      "Name:  doc_body , dtype:  int64\n",
      "********************  ********************\n",
      "********************  ********************\n",
      "More than 20 different values:  1022\n",
      "Name:  doc_description , dtype:  int64\n",
      "********************  ********************\n",
      "********************  ********************\n",
      "More than 20 different values:  1051\n",
      "Name:  doc_full_name , dtype:  int64\n",
      "********************  ********************\n",
      "********************  ********************\n",
      "Live    1056\n",
      "Name: doc_status, dtype: int64\n",
      "********************  ********************\n",
      "********************  ********************\n",
      "More than 20 different values:  1051\n",
      "Name:  article_id , dtype:  int64\n",
      "********************  ********************\n",
      "!!!!!!!!!! There are columns with only one value:  !!!!!!!!!!\n",
      "['doc_status']\n",
      "!!!!!!!!!!  !!!!!!!!!!\n",
      "-------------------- Dataframe value counts analysis finished --------------------\n",
      "-------------------- Dataframe analysis finished --------------------\n"
     ]
    }
   ],
   "source": [
    "dsh.AnalyzeDataFrame(df_content)"
   ]
  },
  {
   "cell_type": "code",
   "execution_count": 12,
   "metadata": {},
   "outputs": [
    {
     "data": {
      "text/html": [
       "<div>\n",
       "<style scoped>\n",
       "    .dataframe tbody tr th:only-of-type {\n",
       "        vertical-align: middle;\n",
       "    }\n",
       "\n",
       "    .dataframe tbody tr th {\n",
       "        vertical-align: top;\n",
       "    }\n",
       "\n",
       "    .dataframe thead th {\n",
       "        text-align: right;\n",
       "    }\n",
       "</style>\n",
       "<table border=\"1\" class=\"dataframe\">\n",
       "  <thead>\n",
       "    <tr style=\"text-align: right;\">\n",
       "      <th></th>\n",
       "      <th>doc_body</th>\n",
       "      <th>doc_description</th>\n",
       "      <th>doc_full_name</th>\n",
       "      <th>doc_status</th>\n",
       "      <th>article_id</th>\n",
       "    </tr>\n",
       "  </thead>\n",
       "  <tbody>\n",
       "    <tr>\n",
       "      <th>0</th>\n",
       "      <td>Skip navigation Sign in SearchLoading...\\r\\n\\r...</td>\n",
       "      <td>Detect bad readings in real time using Python ...</td>\n",
       "      <td>Detect Malfunctioning IoT Sensors with Streami...</td>\n",
       "      <td>Live</td>\n",
       "      <td>0</td>\n",
       "    </tr>\n",
       "    <tr>\n",
       "      <th>1</th>\n",
       "      <td>No Free Hunch Navigation * kaggle.com\\r\\n\\r\\n ...</td>\n",
       "      <td>See the forest, see the trees. Here lies the c...</td>\n",
       "      <td>Communicating data science: A guide to present...</td>\n",
       "      <td>Live</td>\n",
       "      <td>1</td>\n",
       "    </tr>\n",
       "    <tr>\n",
       "      <th>2</th>\n",
       "      <td>☰ * Login\\r\\n * Sign Up\\r\\n\\r\\n * Learning Pat...</td>\n",
       "      <td>Here’s this week’s news in Data Science and Bi...</td>\n",
       "      <td>This Week in Data Science (April 18, 2017)</td>\n",
       "      <td>Live</td>\n",
       "      <td>2</td>\n",
       "    </tr>\n",
       "    <tr>\n",
       "      <th>3</th>\n",
       "      <td>DATALAYER: HIGH THROUGHPUT, LOW LATENCY AT SCA...</td>\n",
       "      <td>Learn how distributed DBs solve the problem of...</td>\n",
       "      <td>DataLayer Conference: Boost the performance of...</td>\n",
       "      <td>Live</td>\n",
       "      <td>3</td>\n",
       "    </tr>\n",
       "    <tr>\n",
       "      <th>4</th>\n",
       "      <td>Skip navigation Sign in SearchLoading...\\r\\n\\r...</td>\n",
       "      <td>This video demonstrates the power of IBM DataS...</td>\n",
       "      <td>Analyze NY Restaurant data using Spark in DSX</td>\n",
       "      <td>Live</td>\n",
       "      <td>4</td>\n",
       "    </tr>\n",
       "    <tr>\n",
       "      <th>1051</th>\n",
       "      <td>PouchDB-find is a new API and syntax that allo...</td>\n",
       "      <td>PouchDB uses MapReduce as its default search m...</td>\n",
       "      <td>A look under the covers of PouchDB-find</td>\n",
       "      <td>Live</td>\n",
       "      <td>1046</td>\n",
       "    </tr>\n",
       "    <tr>\n",
       "      <th>1052</th>\n",
       "      <td>We compare discriminative and generative learn...</td>\n",
       "      <td>We compare discriminative and generative learn...</td>\n",
       "      <td>A comparison of logistic regression and naive ...</td>\n",
       "      <td>Live</td>\n",
       "      <td>1047</td>\n",
       "    </tr>\n",
       "    <tr>\n",
       "      <th>1053</th>\n",
       "      <td>Essays about data, building products and boots...</td>\n",
       "      <td>In order to demystify some of the magic behind...</td>\n",
       "      <td>What I Learned Implementing a Classifier from ...</td>\n",
       "      <td>Live</td>\n",
       "      <td>1048</td>\n",
       "    </tr>\n",
       "    <tr>\n",
       "      <th>1054</th>\n",
       "      <td>NaN</td>\n",
       "      <td>Learn how to use IBM dashDB as data store for ...</td>\n",
       "      <td>Use dashDB with Spark</td>\n",
       "      <td>Live</td>\n",
       "      <td>1049</td>\n",
       "    </tr>\n",
       "    <tr>\n",
       "      <th>1055</th>\n",
       "      <td>Homepage Follow Sign in / Sign up Homepage * H...</td>\n",
       "      <td>Once you get used to developing in a Notebook ...</td>\n",
       "      <td>Jupyter Notebooks with Scala, Python, or R Ker...</td>\n",
       "      <td>Live</td>\n",
       "      <td>1050</td>\n",
       "    </tr>\n",
       "  </tbody>\n",
       "</table>\n",
       "</div>"
      ],
      "text/plain": [
       "                                               doc_body  \\\n",
       "0     Skip navigation Sign in SearchLoading...\\r\\n\\r...   \n",
       "1     No Free Hunch Navigation * kaggle.com\\r\\n\\r\\n ...   \n",
       "2     ☰ * Login\\r\\n * Sign Up\\r\\n\\r\\n * Learning Pat...   \n",
       "3     DATALAYER: HIGH THROUGHPUT, LOW LATENCY AT SCA...   \n",
       "4     Skip navigation Sign in SearchLoading...\\r\\n\\r...   \n",
       "1051  PouchDB-find is a new API and syntax that allo...   \n",
       "1052  We compare discriminative and generative learn...   \n",
       "1053  Essays about data, building products and boots...   \n",
       "1054                                                NaN   \n",
       "1055  Homepage Follow Sign in / Sign up Homepage * H...   \n",
       "\n",
       "                                        doc_description  \\\n",
       "0     Detect bad readings in real time using Python ...   \n",
       "1     See the forest, see the trees. Here lies the c...   \n",
       "2     Here’s this week’s news in Data Science and Bi...   \n",
       "3     Learn how distributed DBs solve the problem of...   \n",
       "4     This video demonstrates the power of IBM DataS...   \n",
       "1051  PouchDB uses MapReduce as its default search m...   \n",
       "1052  We compare discriminative and generative learn...   \n",
       "1053  In order to demystify some of the magic behind...   \n",
       "1054  Learn how to use IBM dashDB as data store for ...   \n",
       "1055  Once you get used to developing in a Notebook ...   \n",
       "\n",
       "                                          doc_full_name doc_status  article_id  \n",
       "0     Detect Malfunctioning IoT Sensors with Streami...       Live           0  \n",
       "1     Communicating data science: A guide to present...       Live           1  \n",
       "2            This Week in Data Science (April 18, 2017)       Live           2  \n",
       "3     DataLayer Conference: Boost the performance of...       Live           3  \n",
       "4         Analyze NY Restaurant data using Spark in DSX       Live           4  \n",
       "1051            A look under the covers of PouchDB-find       Live        1046  \n",
       "1052  A comparison of logistic regression and naive ...       Live        1047  \n",
       "1053  What I Learned Implementing a Classifier from ...       Live        1048  \n",
       "1054                              Use dashDB with Spark       Live        1049  \n",
       "1055  Jupyter Notebooks with Scala, Python, or R Ker...       Live        1050  "
      ]
     },
     "execution_count": 12,
     "metadata": {},
     "output_type": "execute_result"
    }
   ],
   "source": [
    "dsh.DfTailHead(df_content, count=5)"
   ]
  },
  {
   "cell_type": "code",
   "execution_count": 13,
   "metadata": {},
   "outputs": [],
   "source": [
    "df_content.drop('doc_status', axis = 1, inplace = True)"
   ]
  },
  {
   "cell_type": "code",
   "execution_count": 14,
   "metadata": {},
   "outputs": [
    {
     "name": "stdout",
     "output_type": "stream",
     "text": [
      "(1056, 4) (1056, 4)\n"
     ]
    }
   ],
   "source": [
    "print(df_content.shape, df_content.drop_duplicates().shape)"
   ]
  },
  {
   "cell_type": "markdown",
   "metadata": {},
   "source": [
    "Well, that didn't work..."
   ]
  },
  {
   "cell_type": "code",
   "execution_count": 15,
   "metadata": {},
   "outputs": [
    {
     "data": {
      "text/html": [
       "<div>\n",
       "<style scoped>\n",
       "    .dataframe tbody tr th:only-of-type {\n",
       "        vertical-align: middle;\n",
       "    }\n",
       "\n",
       "    .dataframe tbody tr th {\n",
       "        vertical-align: top;\n",
       "    }\n",
       "\n",
       "    .dataframe thead th {\n",
       "        text-align: right;\n",
       "    }\n",
       "</style>\n",
       "<table border=\"1\" class=\"dataframe\">\n",
       "  <thead>\n",
       "    <tr style=\"text-align: right;\">\n",
       "      <th></th>\n",
       "      <th>doc_body</th>\n",
       "      <th>doc_description</th>\n",
       "      <th>doc_full_name</th>\n",
       "      <th>article_id</th>\n",
       "    </tr>\n",
       "  </thead>\n",
       "  <tbody>\n",
       "    <tr>\n",
       "      <th>50</th>\n",
       "      <td>Follow Sign in / Sign up Home About Insight Da...</td>\n",
       "      <td>Community Detection at Scale</td>\n",
       "      <td>Graph-based machine learning</td>\n",
       "      <td>50</td>\n",
       "    </tr>\n",
       "    <tr>\n",
       "      <th>365</th>\n",
       "      <td>Follow Sign in / Sign up Home About Insight Da...</td>\n",
       "      <td>During the seven-week Insight Data Engineering...</td>\n",
       "      <td>Graph-based machine learning</td>\n",
       "      <td>50</td>\n",
       "    </tr>\n",
       "    <tr>\n",
       "      <th>221</th>\n",
       "      <td>* United States\\r\\n\\r\\nIBM® * Site map\\r\\n\\r\\n...</td>\n",
       "      <td>When used to make sense of huge amounts of con...</td>\n",
       "      <td>How smart catalogs can turn the big data flood...</td>\n",
       "      <td>221</td>\n",
       "    </tr>\n",
       "    <tr>\n",
       "      <th>692</th>\n",
       "      <td>Homepage Follow Sign in / Sign up Homepage * H...</td>\n",
       "      <td>One of the earliest documented catalogs was co...</td>\n",
       "      <td>How smart catalogs can turn the big data flood...</td>\n",
       "      <td>221</td>\n",
       "    </tr>\n",
       "    <tr>\n",
       "      <th>232</th>\n",
       "      <td>Homepage Follow Sign in Get started Homepage *...</td>\n",
       "      <td>If you are like most data scientists, you are ...</td>\n",
       "      <td>Self-service data preparation with IBM Data Re...</td>\n",
       "      <td>232</td>\n",
       "    </tr>\n",
       "    <tr>\n",
       "      <th>971</th>\n",
       "      <td>Homepage Follow Sign in Get started * Home\\r\\n...</td>\n",
       "      <td>If you are like most data scientists, you are ...</td>\n",
       "      <td>Self-service data preparation with IBM Data Re...</td>\n",
       "      <td>232</td>\n",
       "    </tr>\n",
       "    <tr>\n",
       "      <th>399</th>\n",
       "      <td>Homepage Follow Sign in Get started * Home\\r\\n...</td>\n",
       "      <td>Today’s world of data science leverages data f...</td>\n",
       "      <td>Using Apache Spark as a parallel processing fr...</td>\n",
       "      <td>398</td>\n",
       "    </tr>\n",
       "    <tr>\n",
       "      <th>761</th>\n",
       "      <td>Homepage Follow Sign in Get started Homepage *...</td>\n",
       "      <td>Today’s world of data science leverages data f...</td>\n",
       "      <td>Using Apache Spark as a parallel processing fr...</td>\n",
       "      <td>398</td>\n",
       "    </tr>\n",
       "    <tr>\n",
       "      <th>578</th>\n",
       "      <td>This video shows you how to construct queries ...</td>\n",
       "      <td>This video shows you how to construct queries ...</td>\n",
       "      <td>Use the Primary Index</td>\n",
       "      <td>577</td>\n",
       "    </tr>\n",
       "    <tr>\n",
       "      <th>970</th>\n",
       "      <td>This video shows you how to construct queries ...</td>\n",
       "      <td>This video shows you how to construct queries ...</td>\n",
       "      <td>Use the Primary Index</td>\n",
       "      <td>577</td>\n",
       "    </tr>\n",
       "  </tbody>\n",
       "</table>\n",
       "</div>"
      ],
      "text/plain": [
       "                                              doc_body  \\\n",
       "50   Follow Sign in / Sign up Home About Insight Da...   \n",
       "365  Follow Sign in / Sign up Home About Insight Da...   \n",
       "221  * United States\\r\\n\\r\\nIBM® * Site map\\r\\n\\r\\n...   \n",
       "692  Homepage Follow Sign in / Sign up Homepage * H...   \n",
       "232  Homepage Follow Sign in Get started Homepage *...   \n",
       "971  Homepage Follow Sign in Get started * Home\\r\\n...   \n",
       "399  Homepage Follow Sign in Get started * Home\\r\\n...   \n",
       "761  Homepage Follow Sign in Get started Homepage *...   \n",
       "578  This video shows you how to construct queries ...   \n",
       "970  This video shows you how to construct queries ...   \n",
       "\n",
       "                                       doc_description  \\\n",
       "50                        Community Detection at Scale   \n",
       "365  During the seven-week Insight Data Engineering...   \n",
       "221  When used to make sense of huge amounts of con...   \n",
       "692  One of the earliest documented catalogs was co...   \n",
       "232  If you are like most data scientists, you are ...   \n",
       "971  If you are like most data scientists, you are ...   \n",
       "399  Today’s world of data science leverages data f...   \n",
       "761  Today’s world of data science leverages data f...   \n",
       "578  This video shows you how to construct queries ...   \n",
       "970  This video shows you how to construct queries ...   \n",
       "\n",
       "                                         doc_full_name  article_id  \n",
       "50                        Graph-based machine learning          50  \n",
       "365                       Graph-based machine learning          50  \n",
       "221  How smart catalogs can turn the big data flood...         221  \n",
       "692  How smart catalogs can turn the big data flood...         221  \n",
       "232  Self-service data preparation with IBM Data Re...         232  \n",
       "971  Self-service data preparation with IBM Data Re...         232  \n",
       "399  Using Apache Spark as a parallel processing fr...         398  \n",
       "761  Using Apache Spark as a parallel processing fr...         398  \n",
       "578                              Use the Primary Index         577  \n",
       "970                              Use the Primary Index         577  "
      ]
     },
     "execution_count": 15,
     "metadata": {},
     "output_type": "execute_result"
    }
   ],
   "source": [
    "# Find and explore duplicate articles\n",
    "\n",
    "vc = df_content['article_id'].value_counts()\n",
    "\n",
    "df_content[df_content.article_id.isin(list(vc[vc > 1].index))].sort_values(by = 'article_id')"
   ]
  },
  {
   "cell_type": "code",
   "execution_count": 16,
   "metadata": {},
   "outputs": [
    {
     "name": "stdout",
     "output_type": "stream",
     "text": [
      "-------------------- Removing duplicate rows --------------------\n",
      "Rows removed:  5\n",
      "Values that are now unique:  [50, 221, 232, 398, 577]\n",
      "-------------------- - --------------------\n"
     ]
    }
   ],
   "source": [
    "df_content = dsh.RemoveDuplicateRowsByColumn(df_content, 'article_id')"
   ]
  },
  {
   "cell_type": "markdown",
   "metadata": {},
   "source": [
    "`3.` Use the cells below to find:\n",
    "\n",
    "**a.** The number of unique articles that have an interaction with a user.  \n",
    "**b.** The number of unique articles in the dataset (whether they have any interactions or not).<br>\n",
    "**c.** The number of unique users in the dataset. (excluding null values) <br>\n",
    "**d.** The number of user-article interactions in the dataset."
   ]
  },
  {
   "cell_type": "code",
   "execution_count": 17,
   "metadata": {},
   "outputs": [],
   "source": [
    "unique_articles = len(df['article_id'].unique()) # The number of unique articles that have at least one interaction\n",
    "total_articles = len(df_content['article_id'].unique()) # The number of unique articles on the IBM platform\n",
    "\n",
    "# Get id for users with no email adress\n",
    "val = dfUser[dfUser['email'].isna()].values[0][0]\n",
    "                      \n",
    "unique_users = df[df['userid'] != val]['userid'].unique().shape[0] # The number of unique users\n",
    "user_article_interactions = df.shape[0] # The number of user-article interactions"
   ]
  },
  {
   "cell_type": "markdown",
   "metadata": {},
   "source": [
    "`4.` Use the cells below to find the most viewed **article_id**, as well as how often it was viewed.  After talking to the company leaders, the `email_mapper` function was deemed a reasonable way to map users to ids.  There were a small number of null values, and it was found that all of these null values likely belonged to a single user (which is how they are stored using the function below)."
   ]
  },
  {
   "cell_type": "code",
   "execution_count": 18,
   "metadata": {},
   "outputs": [
    {
     "data": {
      "text/plain": [
       "(937, 3)"
      ]
     },
     "execution_count": 18,
     "metadata": {},
     "output_type": "execute_result"
    }
   ],
   "source": [
    "grpArt = df.groupby('article_id')\n",
    "maxArticle = 0\n",
    "maxKey = None\n",
    "\n",
    "for key, grp in grpArt:\n",
    "    if len(grp) > maxArticle:\n",
    "        maxArticle = len(grp)\n",
    "        maxKey = key\n",
    "\n",
    "df[df['article_id'] == maxKey].shape"
   ]
  },
  {
   "cell_type": "code",
   "execution_count": 19,
   "metadata": {},
   "outputs": [
    {
     "data": {
      "text/html": [
       "<div>\n",
       "<style scoped>\n",
       "    .dataframe tbody tr th:only-of-type {\n",
       "        vertical-align: middle;\n",
       "    }\n",
       "\n",
       "    .dataframe tbody tr th {\n",
       "        vertical-align: top;\n",
       "    }\n",
       "\n",
       "    .dataframe thead th {\n",
       "        text-align: right;\n",
       "    }\n",
       "</style>\n",
       "<table border=\"1\" class=\"dataframe\">\n",
       "  <thead>\n",
       "    <tr style=\"text-align: right;\">\n",
       "      <th></th>\n",
       "      <th>doc_body</th>\n",
       "      <th>doc_description</th>\n",
       "      <th>doc_full_name</th>\n",
       "      <th>article_id</th>\n",
       "    </tr>\n",
       "  </thead>\n",
       "  <tbody>\n",
       "    <tr>\n",
       "      <th>0</th>\n",
       "      <td>Skip navigation Sign in SearchLoading...\\r\\n\\r...</td>\n",
       "      <td>Detect bad readings in real time using Python ...</td>\n",
       "      <td>Detect Malfunctioning IoT Sensors with Streami...</td>\n",
       "      <td>0</td>\n",
       "    </tr>\n",
       "    <tr>\n",
       "      <th>1</th>\n",
       "      <td>No Free Hunch Navigation * kaggle.com\\r\\n\\r\\n ...</td>\n",
       "      <td>See the forest, see the trees. Here lies the c...</td>\n",
       "      <td>Communicating data science: A guide to present...</td>\n",
       "      <td>1</td>\n",
       "    </tr>\n",
       "    <tr>\n",
       "      <th>2</th>\n",
       "      <td>☰ * Login\\r\\n * Sign Up\\r\\n\\r\\n * Learning Pat...</td>\n",
       "      <td>Here’s this week’s news in Data Science and Bi...</td>\n",
       "      <td>This Week in Data Science (April 18, 2017)</td>\n",
       "      <td>2</td>\n",
       "    </tr>\n",
       "    <tr>\n",
       "      <th>3</th>\n",
       "      <td>DATALAYER: HIGH THROUGHPUT, LOW LATENCY AT SCA...</td>\n",
       "      <td>Learn how distributed DBs solve the problem of...</td>\n",
       "      <td>DataLayer Conference: Boost the performance of...</td>\n",
       "      <td>3</td>\n",
       "    </tr>\n",
       "    <tr>\n",
       "      <th>4</th>\n",
       "      <td>Skip navigation Sign in SearchLoading...\\r\\n\\r...</td>\n",
       "      <td>This video demonstrates the power of IBM DataS...</td>\n",
       "      <td>Analyze NY Restaurant data using Spark in DSX</td>\n",
       "      <td>4</td>\n",
       "    </tr>\n",
       "  </tbody>\n",
       "</table>\n",
       "</div>"
      ],
      "text/plain": [
       "                                            doc_body  \\\n",
       "0  Skip navigation Sign in SearchLoading...\\r\\n\\r...   \n",
       "1  No Free Hunch Navigation * kaggle.com\\r\\n\\r\\n ...   \n",
       "2  ☰ * Login\\r\\n * Sign Up\\r\\n\\r\\n * Learning Pat...   \n",
       "3  DATALAYER: HIGH THROUGHPUT, LOW LATENCY AT SCA...   \n",
       "4  Skip navigation Sign in SearchLoading...\\r\\n\\r...   \n",
       "\n",
       "                                     doc_description  \\\n",
       "0  Detect bad readings in real time using Python ...   \n",
       "1  See the forest, see the trees. Here lies the c...   \n",
       "2  Here’s this week’s news in Data Science and Bi...   \n",
       "3  Learn how distributed DBs solve the problem of...   \n",
       "4  This video demonstrates the power of IBM DataS...   \n",
       "\n",
       "                                       doc_full_name  article_id  \n",
       "0  Detect Malfunctioning IoT Sensors with Streami...           0  \n",
       "1  Communicating data science: A guide to present...           1  \n",
       "2         This Week in Data Science (April 18, 2017)           2  \n",
       "3  DataLayer Conference: Boost the performance of...           3  \n",
       "4      Analyze NY Restaurant data using Spark in DSX           4  "
      ]
     },
     "execution_count": 19,
     "metadata": {},
     "output_type": "execute_result"
    }
   ],
   "source": [
    "df_content.head()"
   ]
  },
  {
   "cell_type": "code",
   "execution_count": 20,
   "metadata": {},
   "outputs": [],
   "source": [
    "most_viewed_article_id = maxKey # The most viewed article in the dataset as a string with one value following the decimal \n",
    "max_views = maxArticle # The most viewed article in the dataset was viewed how many times?"
   ]
  },
  {
   "cell_type": "markdown",
   "metadata": {},
   "source": [
    "##### Remark\n",
    "I already converted the values at beginning of the notebook because I didn't know that you provide code for that."
   ]
  },
  {
   "cell_type": "raw",
   "metadata": {
    "collapsed": true
   },
   "source": [
    "## No need to change the code here - this will be helpful for later parts of the notebook\n",
    "# Run this cell to map the user email to a user_id column and remove the email column\n",
    "\n",
    "def email_mapper():\n",
    "    coded_dict = dict()\n",
    "    cter = 1\n",
    "    email_encoded = []\n",
    "    \n",
    "    for val in df['email']:\n",
    "        if val not in coded_dict:\n",
    "            coded_dict[val] = cter\n",
    "            cter+=1\n",
    "        \n",
    "        email_encoded.append(coded_dict[val])\n",
    "    return email_encoded\n",
    "\n",
    "email_encoded = email_mapper()\n",
    "del df['email']\n",
    "df['user_id'] = email_encoded\n",
    "\n",
    "# show header\n",
    "df.head()"
   ]
  },
  {
   "cell_type": "code",
   "execution_count": 21,
   "metadata": {},
   "outputs": [
    {
     "name": "stdout",
     "output_type": "stream",
     "text": [
      "It looks like you have everything right here! Nice job!\n"
     ]
    }
   ],
   "source": [
    "## If you stored all your results in the variable names above, \n",
    "## you shouldn't need to change anything in this cell\n",
    "\n",
    "sol_1_dict = {\n",
    "    '`50% of individuals have _____ or fewer interactions.`': int(median_val),\n",
    "    '`The total number of user-article interactions in the dataset is ______.`': int(user_article_interactions),\n",
    "    '`The maximum number of user-article interactions by any 1 user is ______.`': int(max_views_by_user),\n",
    "    '`The most viewed article in the dataset was viewed _____ times.`': int(max_views),\n",
    "    '`The article_id of the most viewed article is ______.`': str(most_viewed_article_id),\n",
    "    '`The number of unique articles that have at least 1 rating ______.`': int(unique_articles),\n",
    "    '`The number of unique users in the dataset is ______`': int(unique_users),\n",
    "    '`The number of unique articles on the IBM platform`': int(total_articles)\n",
    "}\n",
    "\n",
    "# Test your dictionary against the solution\n",
    "t.sol_1_test(sol_1_dict)"
   ]
  },
  {
   "cell_type": "markdown",
   "metadata": {},
   "source": [
    "### <a class=\"anchor\" id=\"Rank\">Part II: Rank-Based Recommendations</a>\n",
    "\n",
    "Unlike in the earlier lessons, we don't actually have ratings for whether a user liked an article or not.  We only know that a user has interacted with an article.  In these cases, the popularity of an article can really only be based on how often an article was interacted with.\n",
    "\n",
    "`1.` Fill in the function below to return the **n** top articles ordered with most interactions as the top. Test your function using the tests below."
   ]
  },
  {
   "cell_type": "code",
   "execution_count": 22,
   "metadata": {
    "scrolled": true
   },
   "outputs": [
    {
     "data": {
      "text/plain": [
       "1429.0    937\n",
       "1330.0    927\n",
       "1431.0    671\n",
       "1427.0    643\n",
       "1364.0    627\n",
       "1314.0    614\n",
       "1293.0    572\n",
       "1170.0    565\n",
       "1162.0    512\n",
       "1304.0    483\n",
       "Name: article_id, dtype: int64"
      ]
     },
     "execution_count": 22,
     "metadata": {},
     "output_type": "execute_result"
    }
   ],
   "source": [
    "vc = df['article_id'].value_counts()\n",
    "\n",
    "ser = vc.sort_values(ascending = False)\n",
    "\n",
    "ser.head(10)"
   ]
  },
  {
   "cell_type": "markdown",
   "metadata": {},
   "source": [
    "##### Remark\n",
    "I changed the order of the following functions because I use get..ids in get..articles."
   ]
  },
  {
   "cell_type": "code",
   "execution_count": 23,
   "metadata": {},
   "outputs": [],
   "source": [
    "def get_top_article_ids(n, df=df):\n",
    "    '''\n",
    "    INPUT:\n",
    "    n - (int) the number of top articles to return\n",
    "    df - (pandas dataframe) df as defined at the top of the notebook \n",
    "    \n",
    "    OUTPUT:\n",
    "    top_articles - (list) A list of the top 'n' article ids \n",
    "    \n",
    "    '''\n",
    "    # Your code here\n",
    "    vc = df['article_id'].value_counts().sort_values(ascending = False).head(n)\n",
    "    \n",
    "    top_articles = list(vc.index)\n",
    "        \n",
    "    return top_articles # Return the top article ids\n",
    "\n",
    "def get_top_articles(n, df=df):\n",
    "    '''\n",
    "    INPUT:\n",
    "    n - (int) the number of top articles to return\n",
    "    df - (pandas dataframe) df as defined at the top of the notebook \n",
    "    \n",
    "    OUTPUT:\n",
    "    top_articles - (list) A list of the top 'n' article titles \n",
    "    \n",
    "    '''\n",
    "    # Your code here\n",
    "    ids = get_top_article_ids(n, df)\n",
    "    top_articles = list(df[df['article_id'].isin(ids)]['title'])\n",
    "    \n",
    "    return top_articles # Return the top article titles from df (not df_content)\n",
    "\n"
   ]
  },
  {
   "cell_type": "code",
   "execution_count": 24,
   "metadata": {},
   "outputs": [
    {
     "name": "stdout",
     "output_type": "stream",
     "text": [
      "['healthcare python streaming application demo', 'use deep learning for image classification', 'use deep learning for image classification', 'healthcare python streaming application demo', 'healthcare python streaming application demo', 'apache spark lab, part 1: basic concepts', 'healthcare python streaming application demo', 'predicting churn with the spss random tree algorithm', 'analyze energy consumption in buildings', 'visualize car data with brunel', 'use deep learning for image classification', 'use xgboost, scikit-learn & ibm watson machine learning apis', 'visualize car data with brunel', 'analyze energy consumption in buildings', 'use xgboost, scikit-learn & ibm watson machine learning apis', 'analyze energy consumption in buildings', 'gosales transactions for logistic regression model', 'use xgboost, scikit-learn & ibm watson machine learning apis', 'use xgboost, scikit-learn & ibm watson machine learning apis', 'insights from new york car accident reports', 'use xgboost, scikit-learn & ibm watson machine learning apis', 'use deep learning for image classification', 'healthcare python streaming application demo', 'analyze energy consumption in buildings', 'use deep learning for image classification', 'analyze energy consumption in buildings', 'insights from new york car accident reports', 'use xgboost, scikit-learn & ibm watson machine learning apis', 'predicting churn with the spss random tree algorithm', 'healthcare python streaming application demo', 'analyze energy consumption in buildings', 'healthcare python streaming application demo', 'insights from new york car accident reports', 'analyze energy consumption in buildings', 'healthcare python streaming application demo', 'insights from new york car accident reports', 'predicting churn with the spss random tree algorithm', 'healthcare python streaming application demo', 'analyze energy consumption in buildings', 'use xgboost, scikit-learn & ibm watson machine learning apis', 'visualize car data with brunel', 'use xgboost, scikit-learn & ibm watson machine learning apis', 'use deep learning for image classification', 'visualize car data with brunel', 'visualize car data with brunel', 'use xgboost, scikit-learn & ibm watson machine learning apis', 'finding optimal locations of new store using decision optimization', 'finding optimal locations of new store using decision optimization', 'insights from new york car accident reports', 'use xgboost, scikit-learn & ibm watson machine learning apis', 'healthcare python streaming application demo', 'use xgboost, scikit-learn & ibm watson machine learning apis', 'analyze energy consumption in buildings', 'finding optimal locations of new store using decision optimization', 'apache spark lab, part 1: basic concepts', 'use xgboost, scikit-learn & ibm watson machine learning apis', 'healthcare python streaming application demo', 'analyze energy consumption in buildings', 'visualize car data with brunel', 'healthcare python streaming application demo', 'visualize car data with brunel', 'insights from new york car accident reports', 'analyze energy consumption in buildings', 'analyze energy consumption in buildings', 'finding optimal locations of new store using decision optimization', 'healthcare python streaming application demo', 'visualize car data with brunel', 'analyze energy consumption in buildings', 'finding optimal locations of new store using decision optimization', 'visualize car data with brunel', 'analyze energy consumption in buildings', 'use xgboost, scikit-learn & ibm watson machine learning apis', 'visualize car data with brunel', 'analyze energy consumption in buildings', 'insights from new york car accident reports', 'use xgboost, scikit-learn & ibm watson machine learning apis', 'use deep learning for image classification', 'analyze energy consumption in buildings', 'visualize car data with brunel', 'use deep learning for image classification', 'analyze energy consumption in buildings', 'analyze energy consumption in buildings', 'use xgboost, scikit-learn & ibm watson machine learning apis', 'finding optimal locations of new store using decision optimization', 'analyze energy consumption in buildings', 'gosales transactions for logistic regression model', 'analyze energy consumption in buildings', 'insights from new york car accident reports', 'use deep learning for image classification', 'insights from new york car accident reports', 'insights from new york car accident reports', 'insights from new york car accident reports', 'insights from new york car accident reports', 'use deep learning for image classification', 'use xgboost, scikit-learn & ibm watson machine learning apis', 'apache spark lab, part 1: basic concepts', 'use xgboost, scikit-learn & ibm watson machine learning apis', 'gosales transactions for logistic regression model', 'healthcare python streaming application demo', 'analyze energy consumption in buildings', 'insights from new york car accident reports', 'finding optimal locations of new store using decision optimization', 'finding optimal locations of new store using decision optimization', 'finding optimal locations of new store using decision optimization', 'use deep learning for image classification', 'insights from new york car accident reports', 'analyze energy consumption in buildings', 'use deep learning for image classification', 'healthcare python streaming application demo', 'finding optimal locations of new store using decision optimization', 'insights from new york car accident reports', 'healthcare python streaming application demo', 'use xgboost, scikit-learn & ibm watson machine learning apis', 'use deep learning for image classification', 'use xgboost, scikit-learn & ibm watson machine learning apis', 'finding optimal locations of new store using decision optimization', 'visualize car data with brunel', 'insights from new york car accident reports', 'healthcare python streaming application demo', 'predicting churn with the spss random tree algorithm', 'healthcare python streaming application demo', 'gosales transactions for logistic regression model', 'use deep learning for image classification', 'healthcare python streaming application demo', 'healthcare python streaming application demo', 'use xgboost, scikit-learn & ibm watson machine learning apis', 'finding optimal locations of new store using decision optimization', 'use xgboost, scikit-learn & ibm watson machine learning apis', 'insights from new york car accident reports', 'apache spark lab, part 1: basic concepts', 'healthcare python streaming application demo', 'use xgboost, scikit-learn & ibm watson machine learning apis', 'analyze energy consumption in buildings', 'insights from new york car accident reports', 'use xgboost, scikit-learn & ibm watson machine learning apis', 'use xgboost, scikit-learn & ibm watson machine learning apis', 'apache spark lab, part 1: basic concepts', 'use xgboost, scikit-learn & ibm watson machine learning apis', 'use xgboost, scikit-learn & ibm watson machine learning apis', 'healthcare python streaming application demo', 'predicting churn with the spss random tree algorithm', 'finding optimal locations of new store using decision optimization', 'insights from new york car accident reports', 'gosales transactions for logistic regression model', 'insights from new york car accident reports', 'insights from new york car accident reports', 'insights from new york car accident reports', 'insights from new york car accident reports', 'use xgboost, scikit-learn & ibm watson machine learning apis', 'visualize car data with brunel', 'finding optimal locations of new store using decision optimization', 'predicting churn with the spss random tree algorithm', 'insights from new york car accident reports', 'use xgboost, scikit-learn & ibm watson machine learning apis', 'insights from new york car accident reports', 'use xgboost, scikit-learn & ibm watson machine learning apis', 'apache spark lab, part 1: basic concepts', 'use xgboost, scikit-learn & ibm watson machine learning apis', 'use xgboost, scikit-learn & ibm watson machine learning apis', 'use xgboost, scikit-learn & ibm watson machine learning apis', 'predicting churn with the spss random tree algorithm', 'insights from new york car accident reports', 'analyze energy consumption in buildings', 'use xgboost, scikit-learn & ibm watson machine learning apis', 'use xgboost, scikit-learn & ibm watson machine learning apis', 'use xgboost, scikit-learn & ibm watson machine learning apis', 'predicting churn with the spss random tree algorithm', 'finding optimal locations of new store using decision optimization', 'visualize car data with brunel', 'finding optimal locations of new store using decision optimization', 'use xgboost, scikit-learn & ibm watson machine learning apis', 'use xgboost, scikit-learn & ibm watson machine learning apis', 'use xgboost, scikit-learn & ibm watson machine learning apis', 'finding optimal locations of new store using decision optimization', 'use deep learning for image classification', 'visualize car data with brunel', 'use xgboost, scikit-learn & ibm watson machine learning apis', 'use deep learning for image classification', 'apache spark lab, part 1: basic concepts', 'insights from new york car accident reports', 'healthcare python streaming application demo', 'analyze energy consumption in buildings', 'finding optimal locations of new store using decision optimization', 'insights from new york car accident reports', 'healthcare python streaming application demo', 'predicting churn with the spss random tree algorithm', 'insights from new york car accident reports', 'insights from new york car accident reports', 'use xgboost, scikit-learn & ibm watson machine learning apis', 'use deep learning for image classification', 'insights from new york car accident reports', 'predicting churn with the spss random tree algorithm', 'use deep learning for image classification', 'use xgboost, scikit-learn & ibm watson machine learning apis', 'use deep learning for image classification', 'use deep learning for image classification', 'healthcare python streaming application demo', 'apache spark lab, part 1: basic concepts', 'use deep learning for image classification', 'insights from new york car accident reports', 'finding optimal locations of new store using decision optimization', 'insights from new york car accident reports', 'healthcare python streaming application demo', 'use deep learning for image classification', 'finding optimal locations of new store using decision optimization', 'analyze energy consumption in buildings', 'use deep learning for image classification', 'insights from new york car accident reports', 'insights from new york car accident reports', 'finding optimal locations of new store using decision optimization', 'use xgboost, scikit-learn & ibm watson machine learning apis', 'finding optimal locations of new store using decision optimization', 'healthcare python streaming application demo', 'use deep learning for image classification', 'finding optimal locations of new store using decision optimization', 'healthcare python streaming application demo', 'healthcare python streaming application demo', 'healthcare python streaming application demo', 'healthcare python streaming application demo', 'use deep learning for image classification', 'use xgboost, scikit-learn & ibm watson machine learning apis', 'use xgboost, scikit-learn & ibm watson machine learning apis', 'healthcare python streaming application demo', 'healthcare python streaming application demo', 'visualize car data with brunel', 'finding optimal locations of new store using decision optimization', 'finding optimal locations of new store using decision optimization', 'use deep learning for image classification', 'gosales transactions for logistic regression model', 'use deep learning for image classification', 'use xgboost, scikit-learn & ibm watson machine learning apis', 'apache spark lab, part 1: basic concepts', 'use xgboost, scikit-learn & ibm watson machine learning apis', 'use deep learning for image classification', 'analyze energy consumption in buildings', 'finding optimal locations of new store using decision optimization', 'insights from new york car accident reports', 'use xgboost, scikit-learn & ibm watson machine learning apis', 'use xgboost, scikit-learn & ibm watson machine learning apis', 'use xgboost, scikit-learn & ibm watson machine learning apis', 'healthcare python streaming application demo', 'analyze energy consumption in buildings', 'apache spark lab, part 1: basic concepts', 'use xgboost, scikit-learn & ibm watson machine learning apis', 'analyze energy consumption in buildings', 'insights from new york car accident reports', 'use xgboost, scikit-learn & ibm watson machine learning apis', 'healthcare python streaming application demo', 'insights from new york car accident reports', 'gosales transactions for logistic regression model', 'use xgboost, scikit-learn & ibm watson machine learning apis', 'use xgboost, scikit-learn & ibm watson machine learning apis', 'healthcare python streaming application demo', 'healthcare python streaming application demo', 'analyze energy consumption in buildings', 'use xgboost, scikit-learn & ibm watson machine learning apis', 'apache spark lab, part 1: basic concepts', 'healthcare python streaming application demo', 'healthcare python streaming application demo', 'analyze energy consumption in buildings', 'visualize car data with brunel', 'use xgboost, scikit-learn & ibm watson machine learning apis', 'healthcare python streaming application demo', 'use deep learning for image classification', 'use xgboost, scikit-learn & ibm watson machine learning apis', 'use xgboost, scikit-learn & ibm watson machine learning apis', 'use xgboost, scikit-learn & ibm watson machine learning apis', 'healthcare python streaming application demo', 'use xgboost, scikit-learn & ibm watson machine learning apis', 'analyze energy consumption in buildings', 'use xgboost, scikit-learn & ibm watson machine learning apis', 'gosales transactions for logistic regression model', 'finding optimal locations of new store using decision optimization', 'insights from new york car accident reports', 'use xgboost, scikit-learn & ibm watson machine learning apis', 'healthcare python streaming application demo', 'healthcare python streaming application demo', 'healthcare python streaming application demo', 'insights from new york car accident reports', 'use deep learning for image classification', 'use deep learning for image classification', 'analyze energy consumption in buildings', 'use xgboost, scikit-learn & ibm watson machine learning apis', 'predicting churn with the spss random tree algorithm', 'use xgboost, scikit-learn & ibm watson machine learning apis', 'insights from new york car accident reports', 'finding optimal locations of new store using decision optimization', 'use xgboost, scikit-learn & ibm watson machine learning apis', 'apache spark lab, part 1: basic concepts', 'insights from new york car accident reports', 'use deep learning for image classification', 'apache spark lab, part 1: basic concepts', 'use xgboost, scikit-learn & ibm watson machine learning apis', 'visualize car data with brunel', 'analyze energy consumption in buildings', 'visualize car data with brunel', 'use xgboost, scikit-learn & ibm watson machine learning apis', 'use xgboost, scikit-learn & ibm watson machine learning apis', 'analyze energy consumption in buildings', 'healthcare python streaming application demo', 'healthcare python streaming application demo', 'gosales transactions for logistic regression model', 'finding optimal locations of new store using decision optimization', 'use deep learning for image classification', 'healthcare python streaming application demo', 'use xgboost, scikit-learn & ibm watson machine learning apis', 'healthcare python streaming application demo', 'use xgboost, scikit-learn & ibm watson machine learning apis', 'healthcare python streaming application demo', 'visualize car data with brunel', 'healthcare python streaming application demo', 'insights from new york car accident reports', 'visualize car data with brunel', 'predicting churn with the spss random tree algorithm', 'predicting churn with the spss random tree algorithm', 'insights from new york car accident reports', 'healthcare python streaming application demo', 'healthcare python streaming application demo', 'healthcare python streaming application demo', 'healthcare python streaming application demo', 'gosales transactions for logistic regression model', 'use xgboost, scikit-learn & ibm watson machine learning apis', 'healthcare python streaming application demo', 'healthcare python streaming application demo', 'healthcare python streaming application demo', 'healthcare python streaming application demo', 'healthcare python streaming application demo', 'use deep learning for image classification', 'healthcare python streaming application demo', 'insights from new york car accident reports', 'predicting churn with the spss random tree algorithm', 'healthcare python streaming application demo', 'gosales transactions for logistic regression model', 'healthcare python streaming application demo', 'healthcare python streaming application demo', 'use xgboost, scikit-learn & ibm watson machine learning apis', 'use xgboost, scikit-learn & ibm watson machine learning apis', 'predicting churn with the spss random tree algorithm', 'insights from new york car accident reports', 'use xgboost, scikit-learn & ibm watson machine learning apis', 'use xgboost, scikit-learn & ibm watson machine learning apis', 'insights from new york car accident reports', 'gosales transactions for logistic regression model', 'insights from new york car accident reports', 'predicting churn with the spss random tree algorithm', 'insights from new york car accident reports', 'finding optimal locations of new store using decision optimization', 'healthcare python streaming application demo', 'insights from new york car accident reports', 'gosales transactions for logistic regression model', 'gosales transactions for logistic regression model', 'healthcare python streaming application demo', 'apache spark lab, part 1: basic concepts', 'use xgboost, scikit-learn & ibm watson machine learning apis', 'gosales transactions for logistic regression model', 'apache spark lab, part 1: basic concepts', 'gosales transactions for logistic regression model', 'use deep learning for image classification', 'predicting churn with the spss random tree algorithm', 'use xgboost, scikit-learn & ibm watson machine learning apis', 'predicting churn with the spss random tree algorithm', 'healthcare python streaming application demo', 'insights from new york car accident reports', 'insights from new york car accident reports', 'visualize car data with brunel', 'predicting churn with the spss random tree algorithm', 'healthcare python streaming application demo', 'predicting churn with the spss random tree algorithm', 'insights from new york car accident reports', 'insights from new york car accident reports', 'insights from new york car accident reports', 'predicting churn with the spss random tree algorithm', 'insights from new york car accident reports', 'predicting churn with the spss random tree algorithm', 'healthcare python streaming application demo', 'predicting churn with the spss random tree algorithm', 'predicting churn with the spss random tree algorithm', 'predicting churn with the spss random tree algorithm', 'healthcare python streaming application demo', 'predicting churn with the spss random tree algorithm', 'insights from new york car accident reports', 'insights from new york car accident reports', 'visualize car data with brunel', 'insights from new york car accident reports', 'insights from new york car accident reports', 'gosales transactions for logistic regression model', 'predicting churn with the spss random tree algorithm', 'insights from new york car accident reports', 'use xgboost, scikit-learn & ibm watson machine learning apis', 'healthcare python streaming application demo', 'use xgboost, scikit-learn & ibm watson machine learning apis', 'use xgboost, scikit-learn & ibm watson machine learning apis', 'insights from new york car accident reports', 'apache spark lab, part 1: basic concepts', 'insights from new york car accident reports', 'visualize car data with brunel', 'visualize car data with brunel', 'visualize car data with brunel', 'use xgboost, scikit-learn & ibm watson machine learning apis', 'analyze energy consumption in buildings', 'gosales transactions for logistic regression model', 'predicting churn with the spss random tree algorithm', 'insights from new york car accident reports', 'predicting churn with the spss random tree algorithm', 'use xgboost, scikit-learn & ibm watson machine learning apis', 'insights from new york car accident reports', 'use deep learning for image classification', 'use xgboost, scikit-learn & ibm watson machine learning apis', 'use xgboost, scikit-learn & ibm watson machine learning apis', 'finding optimal locations of new store using decision optimization', 'predicting churn with the spss random tree algorithm', 'insights from new york car accident reports', 'use deep learning for image classification', 'visualize car data with brunel', 'analyze energy consumption in buildings', 'use xgboost, scikit-learn & ibm watson machine learning apis', 'visualize car data with brunel', 'use deep learning for image classification', 'visualize car data with brunel', 'analyze energy consumption in buildings', 'predicting churn with the spss random tree algorithm', 'predicting churn with the spss random tree algorithm', 'use deep learning for image classification', 'healthcare python streaming application demo', 'use xgboost, scikit-learn & ibm watson machine learning apis', 'healthcare python streaming application demo', 'predicting churn with the spss random tree algorithm', 'insights from new york car accident reports', 'insights from new york car accident reports', 'analyze energy consumption in buildings', 'insights from new york car accident reports', 'insights from new york car accident reports', 'insights from new york car accident reports', 'insights from new york car accident reports', 'gosales transactions for logistic regression model', 'healthcare python streaming application demo', 'visualize car data with brunel', 'analyze energy consumption in buildings', 'analyze energy consumption in buildings', 'analyze energy consumption in buildings', 'visualize car data with brunel', 'gosales transactions for logistic regression model', 'insights from new york car accident reports', 'finding optimal locations of new store using decision optimization', 'visualize car data with brunel', 'use xgboost, scikit-learn & ibm watson machine learning apis', 'use xgboost, scikit-learn & ibm watson machine learning apis', 'insights from new york car accident reports', 'use deep learning for image classification', 'use xgboost, scikit-learn & ibm watson machine learning apis', 'insights from new york car accident reports', 'use deep learning for image classification', 'insights from new york car accident reports', 'insights from new york car accident reports', 'healthcare python streaming application demo', 'healthcare python streaming application demo', 'use xgboost, scikit-learn & ibm watson machine learning apis', 'use xgboost, scikit-learn & ibm watson machine learning apis', 'predicting churn with the spss random tree algorithm', 'insights from new york car accident reports', 'predicting churn with the spss random tree algorithm', 'insights from new york car accident reports', 'use xgboost, scikit-learn & ibm watson machine learning apis', 'gosales transactions for logistic regression model', 'insights from new york car accident reports', 'apache spark lab, part 1: basic concepts', 'apache spark lab, part 1: basic concepts', 'apache spark lab, part 1: basic concepts', 'visualize car data with brunel', 'analyze energy consumption in buildings', 'use deep learning for image classification', 'finding optimal locations of new store using decision optimization', 'use deep learning for image classification', 'finding optimal locations of new store using decision optimization', 'use deep learning for image classification', 'predicting churn with the spss random tree algorithm', 'finding optimal locations of new store using decision optimization', 'predicting churn with the spss random tree algorithm', 'insights from new york car accident reports', 'use deep learning for image classification', 'insights from new york car accident reports', 'healthcare python streaming application demo', 'healthcare python streaming application demo', 'apache spark lab, part 1: basic concepts', 'apache spark lab, part 1: basic concepts', 'apache spark lab, part 1: basic concepts', 'analyze energy consumption in buildings', 'insights from new york car accident reports', 'use deep learning for image classification', 'healthcare python streaming application demo', 'predicting churn with the spss random tree algorithm', 'visualize car data with brunel', 'insights from new york car accident reports', 'use deep learning for image classification', 'healthcare python streaming application demo', 'predicting churn with the spss random tree algorithm', 'visualize car data with brunel', 'insights from new york car accident reports', 'insights from new york car accident reports', 'finding optimal locations of new store using decision optimization', 'use deep learning for image classification', 'healthcare python streaming application demo', 'predicting churn with the spss random tree algorithm', 'use deep learning for image classification', 'visualize car data with brunel', 'visualize car data with brunel', 'use deep learning for image classification', 'gosales transactions for logistic regression model', 'insights from new york car accident reports', 'visualize car data with brunel', 'healthcare python streaming application demo', 'insights from new york car accident reports', 'predicting churn with the spss random tree algorithm', 'healthcare python streaming application demo', 'gosales transactions for logistic regression model', 'finding optimal locations of new store using decision optimization', 'apache spark lab, part 1: basic concepts', 'predicting churn with the spss random tree algorithm', 'gosales transactions for logistic regression model', 'finding optimal locations of new store using decision optimization', 'predicting churn with the spss random tree algorithm', 'use deep learning for image classification', 'use deep learning for image classification', 'use deep learning for image classification', 'analyze energy consumption in buildings', 'use deep learning for image classification', 'analyze energy consumption in buildings', 'use deep learning for image classification', 'healthcare python streaming application demo', 'predicting churn with the spss random tree algorithm', 'healthcare python streaming application demo', 'visualize car data with brunel', 'use deep learning for image classification', 'gosales transactions for logistic regression model', 'apache spark lab, part 1: basic concepts', 'insights from new york car accident reports', 'insights from new york car accident reports', 'use deep learning for image classification', 'insights from new york car accident reports', 'use deep learning for image classification', 'healthcare python streaming application demo', 'visualize car data with brunel', 'insights from new york car accident reports', 'gosales transactions for logistic regression model', 'insights from new york car accident reports', 'predicting churn with the spss random tree algorithm', 'insights from new york car accident reports', 'insights from new york car accident reports', 'analyze energy consumption in buildings', 'use deep learning for image classification', 'insights from new york car accident reports', 'use deep learning for image classification', 'predicting churn with the spss random tree algorithm', 'insights from new york car accident reports', 'finding optimal locations of new store using decision optimization', 'gosales transactions for logistic regression model', 'apache spark lab, part 1: basic concepts', 'use deep learning for image classification', 'use deep learning for image classification', 'insights from new york car accident reports', 'use deep learning for image classification', 'analyze energy consumption in buildings', 'insights from new york car accident reports', 'gosales transactions for logistic regression model', 'healthcare python streaming application demo', 'use deep learning for image classification', 'insights from new york car accident reports', 'insights from new york car accident reports', 'predicting churn with the spss random tree algorithm', 'visualize car data with brunel', 'insights from new york car accident reports', 'apache spark lab, part 1: basic concepts', 'finding optimal locations of new store using decision optimization', 'predicting churn with the spss random tree algorithm', 'predicting churn with the spss random tree algorithm', 'visualize car data with brunel', 'predicting churn with the spss random tree algorithm', 'healthcare python streaming application demo', 'analyze energy consumption in buildings', 'predicting churn with the spss random tree algorithm', 'insights from new york car accident reports', 'analyze energy consumption in buildings', 'finding optimal locations of new store using decision optimization', 'insights from new york car accident reports', 'use deep learning for image classification', 'predicting churn with the spss random tree algorithm', 'apache spark lab, part 1: basic concepts', 'healthcare python streaming application demo', 'gosales transactions for logistic regression model', 'finding optimal locations of new store using decision optimization', 'insights from new york car accident reports', 'predicting churn with the spss random tree algorithm', 'visualize car data with brunel', 'visualize car data with brunel', 'predicting churn with the spss random tree algorithm', 'use deep learning for image classification', 'healthcare python streaming application demo', 'use deep learning for image classification', 'finding optimal locations of new store using decision optimization', 'healthcare python streaming application demo', 'finding optimal locations of new store using decision optimization', 'finding optimal locations of new store using decision optimization', 'healthcare python streaming application demo', 'apache spark lab, part 1: basic concepts', 'use deep learning for image classification', 'predicting churn with the spss random tree algorithm', 'gosales transactions for logistic regression model', 'insights from new york car accident reports', 'gosales transactions for logistic regression model', 'visualize car data with brunel', 'healthcare python streaming application demo', 'insights from new york car accident reports', 'gosales transactions for logistic regression model', 'visualize car data with brunel', 'use deep learning for image classification', 'insights from new york car accident reports', 'visualize car data with brunel', 'gosales transactions for logistic regression model', 'insights from new york car accident reports', 'insights from new york car accident reports', 'use deep learning for image classification', 'insights from new york car accident reports', 'finding optimal locations of new store using decision optimization', 'insights from new york car accident reports', 'use deep learning for image classification', 'healthcare python streaming application demo', 'insights from new york car accident reports', 'use deep learning for image classification', 'use deep learning for image classification', 'use deep learning for image classification', 'predicting churn with the spss random tree algorithm', 'apache spark lab, part 1: basic concepts', 'predicting churn with the spss random tree algorithm', 'finding optimal locations of new store using decision optimization', 'gosales transactions for logistic regression model', 'insights from new york car accident reports', 'gosales transactions for logistic regression model', 'visualize car data with brunel', 'predicting churn with the spss random tree algorithm', 'apache spark lab, part 1: basic concepts', 'finding optimal locations of new store using decision optimization', 'apache spark lab, part 1: basic concepts', 'use deep learning for image classification', 'insights from new york car accident reports', 'insights from new york car accident reports', 'visualize car data with brunel', 'predicting churn with the spss random tree algorithm', 'insights from new york car accident reports', 'apache spark lab, part 1: basic concepts', 'healthcare python streaming application demo', 'insights from new york car accident reports', 'use deep learning for image classification', 'healthcare python streaming application demo', 'finding optimal locations of new store using decision optimization', 'predicting churn with the spss random tree algorithm', 'insights from new york car accident reports', 'insights from new york car accident reports', 'predicting churn with the spss random tree algorithm', 'apache spark lab, part 1: basic concepts', 'predicting churn with the spss random tree algorithm', 'finding optimal locations of new store using decision optimization', 'use deep learning for image classification', 'apache spark lab, part 1: basic concepts', 'apache spark lab, part 1: basic concepts', 'analyze energy consumption in buildings', 'predicting churn with the spss random tree algorithm', 'insights from new york car accident reports', 'healthcare python streaming application demo', 'visualize car data with brunel', 'visualize car data with brunel', 'apache spark lab, part 1: basic concepts', 'use deep learning for image classification', 'apache spark lab, part 1: basic concepts', 'insights from new york car accident reports', 'gosales transactions for logistic regression model', 'insights from new york car accident reports', 'healthcare python streaming application demo', 'finding optimal locations of new store using decision optimization', 'apache spark lab, part 1: basic concepts', 'healthcare python streaming application demo', 'predicting churn with the spss random tree algorithm', 'gosales transactions for logistic regression model', 'use deep learning for image classification', 'gosales transactions for logistic regression model', 'visualize car data with brunel', 'insights from new york car accident reports', 'analyze energy consumption in buildings', 'predicting churn with the spss random tree algorithm', 'insights from new york car accident reports', 'use deep learning for image classification', 'apache spark lab, part 1: basic concepts', 'apache spark lab, part 1: basic concepts', 'visualize car data with brunel', 'insights from new york car accident reports', 'apache spark lab, part 1: basic concepts', 'insights from new york car accident reports', 'use deep learning for image classification', 'finding optimal locations of new store using decision optimization', 'apache spark lab, part 1: basic concepts', 'finding optimal locations of new store using decision optimization', 'analyze energy consumption in buildings', 'visualize car data with brunel', 'use deep learning for image classification', 'analyze energy consumption in buildings', 'visualize car data with brunel', 'analyze energy consumption in buildings', 'apache spark lab, part 1: basic concepts', 'visualize car data with brunel', 'use deep learning for image classification', 'use deep learning for image classification', 'visualize car data with brunel', 'finding optimal locations of new store using decision optimization', 'analyze energy consumption in buildings', 'visualize car data with brunel', 'predicting churn with the spss random tree algorithm', 'healthcare python streaming application demo', 'finding optimal locations of new store using decision optimization', 'analyze energy consumption in buildings', 'use deep learning for image classification', 'gosales transactions for logistic regression model', 'use deep learning for image classification', 'insights from new york car accident reports', 'finding optimal locations of new store using decision optimization', 'insights from new york car accident reports', 'use deep learning for image classification', 'visualize car data with brunel', 'use deep learning for image classification', 'predicting churn with the spss random tree algorithm', 'use deep learning for image classification', 'analyze energy consumption in buildings', 'use deep learning for image classification', 'use deep learning for image classification', 'use deep learning for image classification', 'visualize car data with brunel', 'use deep learning for image classification', 'gosales transactions for logistic regression model', 'use deep learning for image classification', 'visualize car data with brunel', 'gosales transactions for logistic regression model', 'use deep learning for image classification', 'apache spark lab, part 1: basic concepts', 'analyze energy consumption in buildings', 'predicting churn with the spss random tree algorithm', 'predicting churn with the spss random tree algorithm', 'analyze energy consumption in buildings', 'analyze energy consumption in buildings', 'insights from new york car accident reports', 'use deep learning for image classification', 'apache spark lab, part 1: basic concepts', 'healthcare python streaming application demo', 'use deep learning for image classification', 'healthcare python streaming application demo', 'gosales transactions for logistic regression model', 'insights from new york car accident reports', 'predicting churn with the spss random tree algorithm', 'analyze energy consumption in buildings', 'apache spark lab, part 1: basic concepts', 'healthcare python streaming application demo', 'use deep learning for image classification', 'analyze energy consumption in buildings', 'visualize car data with brunel', 'use deep learning for image classification', 'analyze energy consumption in buildings', 'visualize car data with brunel', 'analyze energy consumption in buildings', 'apache spark lab, part 1: basic concepts', 'predicting churn with the spss random tree algorithm', 'gosales transactions for logistic regression model', 'finding optimal locations of new store using decision optimization', 'visualize car data with brunel', 'insights from new york car accident reports', 'healthcare python streaming application demo', 'gosales transactions for logistic regression model', 'healthcare python streaming application demo', 'healthcare python streaming application demo', 'finding optimal locations of new store using decision optimization', 'use deep learning for image classification', 'finding optimal locations of new store using decision optimization', 'analyze energy consumption in buildings', 'healthcare python streaming application demo', 'predicting churn with the spss random tree algorithm', 'analyze energy consumption in buildings', 'apache spark lab, part 1: basic concepts', 'analyze energy consumption in buildings', 'insights from new york car accident reports', 'finding optimal locations of new store using decision optimization', 'predicting churn with the spss random tree algorithm', 'predicting churn with the spss random tree algorithm', 'insights from new york car accident reports', 'insights from new york car accident reports', 'visualize car data with brunel', 'use deep learning for image classification', 'use deep learning for image classification', 'finding optimal locations of new store using decision optimization', 'visualize car data with brunel', 'visualize car data with brunel', 'use deep learning for image classification', 'use deep learning for image classification', 'visualize car data with brunel', 'predicting churn with the spss random tree algorithm', 'insights from new york car accident reports', 'healthcare python streaming application demo', 'insights from new york car accident reports', 'apache spark lab, part 1: basic concepts', 'finding optimal locations of new store using decision optimization', 'finding optimal locations of new store using decision optimization', 'use deep learning for image classification', 'gosales transactions for logistic regression model', 'apache spark lab, part 1: basic concepts', 'visualize car data with brunel', 'gosales transactions for logistic regression model', 'gosales transactions for logistic regression model', 'gosales transactions for logistic regression model', 'gosales transactions for logistic regression model', 'insights from new york car accident reports', 'predicting churn with the spss random tree algorithm', 'visualize car data with brunel', 'healthcare python streaming application demo', 'use deep learning for image classification', 'apache spark lab, part 1: basic concepts', 'visualize car data with brunel', 'finding optimal locations of new store using decision optimization', 'analyze energy consumption in buildings', 'insights from new york car accident reports', 'predicting churn with the spss random tree algorithm', 'insights from new york car accident reports', 'use deep learning for image classification', 'visualize car data with brunel', 'healthcare python streaming application demo', 'apache spark lab, part 1: basic concepts', 'apache spark lab, part 1: basic concepts', 'predicting churn with the spss random tree algorithm', 'healthcare python streaming application demo', 'visualize car data with brunel', 'insights from new york car accident reports', 'visualize car data with brunel', 'analyze energy consumption in buildings', 'use deep learning for image classification', 'analyze energy consumption in buildings', 'insights from new york car accident reports', 'gosales transactions for logistic regression model', 'visualize car data with brunel', 'use deep learning for image classification', 'use deep learning for image classification', 'insights from new york car accident reports', 'healthcare python streaming application demo', 'gosales transactions for logistic regression model', 'apache spark lab, part 1: basic concepts', 'use deep learning for image classification', 'use deep learning for image classification', 'predicting churn with the spss random tree algorithm', 'use deep learning for image classification', 'visualize car data with brunel', 'insights from new york car accident reports', 'predicting churn with the spss random tree algorithm', 'healthcare python streaming application demo', 'apache spark lab, part 1: basic concepts', 'apache spark lab, part 1: basic concepts', 'visualize car data with brunel', 'visualize car data with brunel', 'finding optimal locations of new store using decision optimization', 'apache spark lab, part 1: basic concepts', 'finding optimal locations of new store using decision optimization', 'analyze energy consumption in buildings', 'use deep learning for image classification', 'apache spark lab, part 1: basic concepts', 'finding optimal locations of new store using decision optimization', 'insights from new york car accident reports', 'analyze energy consumption in buildings', 'gosales transactions for logistic regression model', 'insights from new york car accident reports', 'gosales transactions for logistic regression model', 'use deep learning for image classification', 'use deep learning for image classification', 'apache spark lab, part 1: basic concepts', 'use deep learning for image classification', 'predicting churn with the spss random tree algorithm', 'apache spark lab, part 1: basic concepts', 'healthcare python streaming application demo', 'visualize car data with brunel', 'predicting churn with the spss random tree algorithm', 'insights from new york car accident reports', 'use deep learning for image classification', 'finding optimal locations of new store using decision optimization', 'visualize car data with brunel', 'insights from new york car accident reports', 'visualize car data with brunel', 'analyze energy consumption in buildings', 'apache spark lab, part 1: basic concepts', 'use deep learning for image classification', 'predicting churn with the spss random tree algorithm', 'analyze energy consumption in buildings', 'apache spark lab, part 1: basic concepts', 'predicting churn with the spss random tree algorithm', 'insights from new york car accident reports', 'analyze energy consumption in buildings', 'use deep learning for image classification', 'insights from new york car accident reports', 'insights from new york car accident reports', 'healthcare python streaming application demo', 'apache spark lab, part 1: basic concepts', 'predicting churn with the spss random tree algorithm', 'use deep learning for image classification', 'gosales transactions for logistic regression model', 'finding optimal locations of new store using decision optimization', 'use deep learning for image classification', 'visualize car data with brunel', 'gosales transactions for logistic regression model', 'healthcare python streaming application demo', 'healthcare python streaming application demo', 'insights from new york car accident reports', 'gosales transactions for logistic regression model', 'finding optimal locations of new store using decision optimization', 'visualize car data with brunel', 'healthcare python streaming application demo', 'use deep learning for image classification', 'visualize car data with brunel', 'use deep learning for image classification', 'apache spark lab, part 1: basic concepts', 'gosales transactions for logistic regression model', 'use deep learning for image classification', 'apache spark lab, part 1: basic concepts', 'visualize car data with brunel', 'apache spark lab, part 1: basic concepts', 'predicting churn with the spss random tree algorithm', 'analyze energy consumption in buildings', 'finding optimal locations of new store using decision optimization', 'predicting churn with the spss random tree algorithm', 'visualize car data with brunel', 'healthcare python streaming application demo', 'visualize car data with brunel', 'insights from new york car accident reports', 'visualize car data with brunel', 'insights from new york car accident reports', 'finding optimal locations of new store using decision optimization', 'apache spark lab, part 1: basic concepts', 'healthcare python streaming application demo', 'visualize car data with brunel', 'finding optimal locations of new store using decision optimization', 'use deep learning for image classification', 'visualize car data with brunel', 'finding optimal locations of new store using decision optimization', 'visualize car data with brunel', 'predicting churn with the spss random tree algorithm', 'predicting churn with the spss random tree algorithm', 'apache spark lab, part 1: basic concepts', 'finding optimal locations of new store using decision optimization', 'insights from new york car accident reports', 'gosales transactions for logistic regression model', 'insights from new york car accident reports', 'use deep learning for image classification', 'finding optimal locations of new store using decision optimization', 'apache spark lab, part 1: basic concepts', 'insights from new york car accident reports', 'finding optimal locations of new store using decision optimization', 'healthcare python streaming application demo', 'insights from new york car accident reports', 'finding optimal locations of new store using decision optimization', 'insights from new york car accident reports', 'insights from new york car accident reports', 'predicting churn with the spss random tree algorithm', 'insights from new york car accident reports', 'gosales transactions for logistic regression model', 'predicting churn with the spss random tree algorithm', 'use deep learning for image classification', 'apache spark lab, part 1: basic concepts', 'insights from new york car accident reports', 'visualize car data with brunel', 'analyze energy consumption in buildings', 'visualize car data with brunel', 'insights from new york car accident reports', 'gosales transactions for logistic regression model', 'insights from new york car accident reports', 'apache spark lab, part 1: basic concepts', 'visualize car data with brunel', 'insights from new york car accident reports', 'finding optimal locations of new store using decision optimization', 'use deep learning for image classification', 'analyze energy consumption in buildings', 'predicting churn with the spss random tree algorithm', 'analyze energy consumption in buildings', 'predicting churn with the spss random tree algorithm', 'use deep learning for image classification', 'insights from new york car accident reports', 'apache spark lab, part 1: basic concepts', 'visualize car data with brunel', 'finding optimal locations of new store using decision optimization', 'use deep learning for image classification', 'healthcare python streaming application demo', 'use deep learning for image classification', 'apache spark lab, part 1: basic concepts', 'apache spark lab, part 1: basic concepts', 'use deep learning for image classification', 'predicting churn with the spss random tree algorithm', 'insights from new york car accident reports', 'finding optimal locations of new store using decision optimization', 'healthcare python streaming application demo', 'use deep learning for image classification', 'analyze energy consumption in buildings', 'use deep learning for image classification', 'gosales transactions for logistic regression model', 'predicting churn with the spss random tree algorithm', 'apache spark lab, part 1: basic concepts', 'apache spark lab, part 1: basic concepts', 'insights from new york car accident reports', 'use deep learning for image classification', 'healthcare python streaming application demo', 'use deep learning for image classification', 'use deep learning for image classification', 'finding optimal locations of new store using decision optimization', 'visualize car data with brunel', 'apache spark lab, part 1: basic concepts', 'finding optimal locations of new store using decision optimization', 'use deep learning for image classification', 'insights from new york car accident reports', 'predicting churn with the spss random tree algorithm', 'insights from new york car accident reports', 'healthcare python streaming application demo', 'use deep learning for image classification', 'use deep learning for image classification', 'healthcare python streaming application demo', 'apache spark lab, part 1: basic concepts', 'insights from new york car accident reports', 'apache spark lab, part 1: basic concepts', 'use deep learning for image classification', 'insights from new york car accident reports', 'use deep learning for image classification', 'apache spark lab, part 1: basic concepts', 'apache spark lab, part 1: basic concepts', 'healthcare python streaming application demo', 'predicting churn with the spss random tree algorithm', 'insights from new york car accident reports', 'insights from new york car accident reports', 'finding optimal locations of new store using decision optimization', 'use deep learning for image classification', 'healthcare python streaming application demo', 'apache spark lab, part 1: basic concepts', 'predicting churn with the spss random tree algorithm', 'predicting churn with the spss random tree algorithm', 'insights from new york car accident reports', 'predicting churn with the spss random tree algorithm', 'predicting churn with the spss random tree algorithm', 'apache spark lab, part 1: basic concepts', 'predicting churn with the spss random tree algorithm', 'apache spark lab, part 1: basic concepts', 'use deep learning for image classification', 'insights from new york car accident reports', 'healthcare python streaming application demo', 'finding optimal locations of new store using decision optimization', 'insights from new york car accident reports', 'predicting churn with the spss random tree algorithm', 'finding optimal locations of new store using decision optimization', 'gosales transactions for logistic regression model', 'apache spark lab, part 1: basic concepts', 'healthcare python streaming application demo', 'finding optimal locations of new store using decision optimization', 'visualize car data with brunel', 'use deep learning for image classification', 'use deep learning for image classification', 'analyze energy consumption in buildings', 'apache spark lab, part 1: basic concepts', 'analyze energy consumption in buildings', 'insights from new york car accident reports', 'use deep learning for image classification', 'finding optimal locations of new store using decision optimization', 'predicting churn with the spss random tree algorithm', 'healthcare python streaming application demo', 'predicting churn with the spss random tree algorithm', 'apache spark lab, part 1: basic concepts', 'healthcare python streaming application demo', 'visualize car data with brunel', 'finding optimal locations of new store using decision optimization', 'insights from new york car accident reports', 'visualize car data with brunel', 'analyze energy consumption in buildings', 'use deep learning for image classification', 'visualize car data with brunel', 'finding optimal locations of new store using decision optimization', 'gosales transactions for logistic regression model', 'gosales transactions for logistic regression model', 'gosales transactions for logistic regression model', 'predicting churn with the spss random tree algorithm', 'predicting churn with the spss random tree algorithm', 'visualize car data with brunel', 'visualize car data with brunel', 'analyze energy consumption in buildings', 'insights from new york car accident reports', 'use deep learning for image classification', 'insights from new york car accident reports', 'analyze energy consumption in buildings', 'apache spark lab, part 1: basic concepts', 'apache spark lab, part 1: basic concepts', 'healthcare python streaming application demo', 'finding optimal locations of new store using decision optimization', 'predicting churn with the spss random tree algorithm', 'insights from new york car accident reports', 'finding optimal locations of new store using decision optimization', 'insights from new york car accident reports', 'visualize car data with brunel', 'use deep learning for image classification', 'visualize car data with brunel', 'insights from new york car accident reports', 'healthcare python streaming application demo', 'apache spark lab, part 1: basic concepts', 'gosales transactions for logistic regression model', 'visualize car data with brunel', 'apache spark lab, part 1: basic concepts', 'apache spark lab, part 1: basic concepts', 'gosales transactions for logistic regression model', 'use deep learning for image classification', 'predicting churn with the spss random tree algorithm', 'analyze energy consumption in buildings', 'apache spark lab, part 1: basic concepts', 'insights from new york car accident reports', 'predicting churn with the spss random tree algorithm', 'finding optimal locations of new store using decision optimization', 'apache spark lab, part 1: basic concepts', 'predicting churn with the spss random tree algorithm', 'apache spark lab, part 1: basic concepts', 'gosales transactions for logistic regression model', 'insights from new york car accident reports', 'insights from new york car accident reports', 'predicting churn with the spss random tree algorithm', 'visualize car data with brunel', 'insights from new york car accident reports', 'healthcare python streaming application demo', 'use deep learning for image classification', 'insights from new york car accident reports', 'analyze energy consumption in buildings', 'predicting churn with the spss random tree algorithm', 'healthcare python streaming application demo', 'analyze energy consumption in buildings', 'healthcare python streaming application demo', 'analyze energy consumption in buildings', 'finding optimal locations of new store using decision optimization', 'gosales transactions for logistic regression model', 'gosales transactions for logistic regression model', 'analyze energy consumption in buildings', 'use deep learning for image classification', 'apache spark lab, part 1: basic concepts', 'finding optimal locations of new store using decision optimization', 'gosales transactions for logistic regression model', 'visualize car data with brunel', 'gosales transactions for logistic regression model', 'finding optimal locations of new store using decision optimization', 'analyze energy consumption in buildings', 'use deep learning for image classification', 'use deep learning for image classification', 'healthcare python streaming application demo', 'healthcare python streaming application demo', 'use deep learning for image classification', 'use deep learning for image classification', 'use deep learning for image classification', 'apache spark lab, part 1: basic concepts', 'gosales transactions for logistic regression model', 'use deep learning for image classification', 'predicting churn with the spss random tree algorithm', 'healthcare python streaming application demo', 'insights from new york car accident reports', 'use deep learning for image classification', 'gosales transactions for logistic regression model', 'use deep learning for image classification', 'gosales transactions for logistic regression model', 'healthcare python streaming application demo', 'insights from new york car accident reports', 'predicting churn with the spss random tree algorithm', 'finding optimal locations of new store using decision optimization', 'finding optimal locations of new store using decision optimization', 'healthcare python streaming application demo', 'healthcare python streaming application demo', 'visualize car data with brunel', 'analyze energy consumption in buildings', 'apache spark lab, part 1: basic concepts', 'gosales transactions for logistic regression model', 'use deep learning for image classification', 'analyze energy consumption in buildings', 'insights from new york car accident reports', 'use deep learning for image classification', 'healthcare python streaming application demo', 'analyze energy consumption in buildings', 'insights from new york car accident reports', 'finding optimal locations of new store using decision optimization', 'use deep learning for image classification', 'gosales transactions for logistic regression model', 'use deep learning for image classification', 'use deep learning for image classification', 'predicting churn with the spss random tree algorithm', 'analyze energy consumption in buildings', 'healthcare python streaming application demo', 'visualize car data with brunel', 'visualize car data with brunel', 'predicting churn with the spss random tree algorithm', 'predicting churn with the spss random tree algorithm', 'analyze energy consumption in buildings', 'finding optimal locations of new store using decision optimization', 'visualize car data with brunel', 'use deep learning for image classification', 'finding optimal locations of new store using decision optimization', 'apache spark lab, part 1: basic concepts', 'apache spark lab, part 1: basic concepts', 'analyze energy consumption in buildings', 'insights from new york car accident reports', 'insights from new york car accident reports', 'use deep learning for image classification', 'healthcare python streaming application demo', 'visualize car data with brunel', 'gosales transactions for logistic regression model', 'predicting churn with the spss random tree algorithm', 'visualize car data with brunel', 'finding optimal locations of new store using decision optimization', 'finding optimal locations of new store using decision optimization', 'analyze energy consumption in buildings', 'healthcare python streaming application demo', 'finding optimal locations of new store using decision optimization', 'use deep learning for image classification', 'analyze energy consumption in buildings', 'insights from new york car accident reports', 'apache spark lab, part 1: basic concepts', 'insights from new york car accident reports', 'insights from new york car accident reports', 'insights from new york car accident reports', 'gosales transactions for logistic regression model', 'healthcare python streaming application demo', 'insights from new york car accident reports', 'apache spark lab, part 1: basic concepts', 'visualize car data with brunel', 'analyze energy consumption in buildings', 'visualize car data with brunel', 'use deep learning for image classification', 'gosales transactions for logistic regression model', 'healthcare python streaming application demo', 'finding optimal locations of new store using decision optimization', 'use deep learning for image classification', 'visualize car data with brunel', 'insights from new york car accident reports', 'predicting churn with the spss random tree algorithm', 'apache spark lab, part 1: basic concepts', 'finding optimal locations of new store using decision optimization', 'predicting churn with the spss random tree algorithm', 'insights from new york car accident reports', 'apache spark lab, part 1: basic concepts', 'visualize car data with brunel', 'healthcare python streaming application demo', 'analyze energy consumption in buildings', 'insights from new york car accident reports', 'healthcare python streaming application demo', 'predicting churn with the spss random tree algorithm', 'finding optimal locations of new store using decision optimization', 'predicting churn with the spss random tree algorithm', 'healthcare python streaming application demo', 'use deep learning for image classification', 'apache spark lab, part 1: basic concepts', 'analyze energy consumption in buildings', 'gosales transactions for logistic regression model', 'healthcare python streaming application demo', 'predicting churn with the spss random tree algorithm', 'use deep learning for image classification', 'apache spark lab, part 1: basic concepts', 'predicting churn with the spss random tree algorithm', 'apache spark lab, part 1: basic concepts', 'healthcare python streaming application demo', 'use deep learning for image classification', 'gosales transactions for logistic regression model', 'predicting churn with the spss random tree algorithm', 'predicting churn with the spss random tree algorithm', 'use deep learning for image classification', 'insights from new york car accident reports', 'use deep learning for image classification', 'insights from new york car accident reports', 'insights from new york car accident reports', 'apache spark lab, part 1: basic concepts', 'apache spark lab, part 1: basic concepts', 'healthcare python streaming application demo', 'healthcare python streaming application demo', 'insights from new york car accident reports', 'use deep learning for image classification', 'insights from new york car accident reports', 'healthcare python streaming application demo', 'healthcare python streaming application demo', 'predicting churn with the spss random tree algorithm', 'use deep learning for image classification', 'predicting churn with the spss random tree algorithm', 'analyze energy consumption in buildings', 'visualize car data with brunel', 'use deep learning for image classification', 'predicting churn with the spss random tree algorithm', 'apache spark lab, part 1: basic concepts', 'use deep learning for image classification', 'apache spark lab, part 1: basic concepts', 'predicting churn with the spss random tree algorithm', 'gosales transactions for logistic regression model', 'insights from new york car accident reports', 'healthcare python streaming application demo', 'use deep learning for image classification', 'insights from new york car accident reports', 'analyze energy consumption in buildings', 'use deep learning for image classification', 'finding optimal locations of new store using decision optimization', 'visualize car data with brunel', 'use deep learning for image classification', 'apache spark lab, part 1: basic concepts', 'insights from new york car accident reports', 'insights from new york car accident reports', 'apache spark lab, part 1: basic concepts', 'visualize car data with brunel', 'finding optimal locations of new store using decision optimization', 'insights from new york car accident reports', 'analyze energy consumption in buildings', 'insights from new york car accident reports', 'visualize car data with brunel', 'apache spark lab, part 1: basic concepts', 'healthcare python streaming application demo', 'healthcare python streaming application demo', 'analyze energy consumption in buildings', 'healthcare python streaming application demo', 'finding optimal locations of new store using decision optimization', 'use deep learning for image classification', 'predicting churn with the spss random tree algorithm', 'apache spark lab, part 1: basic concepts', 'use deep learning for image classification', 'use deep learning for image classification', 'predicting churn with the spss random tree algorithm', 'analyze energy consumption in buildings', 'use deep learning for image classification', 'apache spark lab, part 1: basic concepts', 'use deep learning for image classification', 'predicting churn with the spss random tree algorithm', 'finding optimal locations of new store using decision optimization', 'use deep learning for image classification', 'visualize car data with brunel', 'insights from new york car accident reports', 'visualize car data with brunel', 'apache spark lab, part 1: basic concepts', 'insights from new york car accident reports', 'apache spark lab, part 1: basic concepts', 'predicting churn with the spss random tree algorithm', 'use deep learning for image classification', 'insights from new york car accident reports', 'gosales transactions for logistic regression model', 'predicting churn with the spss random tree algorithm', 'apache spark lab, part 1: basic concepts', 'finding optimal locations of new store using decision optimization', 'use deep learning for image classification', 'finding optimal locations of new store using decision optimization', 'predicting churn with the spss random tree algorithm', 'finding optimal locations of new store using decision optimization', 'insights from new york car accident reports', 'analyze energy consumption in buildings', 'insights from new york car accident reports', 'predicting churn with the spss random tree algorithm', 'gosales transactions for logistic regression model', 'finding optimal locations of new store using decision optimization', 'gosales transactions for logistic regression model', 'healthcare python streaming application demo', 'healthcare python streaming application demo', 'predicting churn with the spss random tree algorithm', 'predicting churn with the spss random tree algorithm', 'apache spark lab, part 1: basic concepts', 'use deep learning for image classification', 'use deep learning for image classification', 'finding optimal locations of new store using decision optimization', 'finding optimal locations of new store using decision optimization', 'visualize car data with brunel', 'use deep learning for image classification', 'insights from new york car accident reports', 'use deep learning for image classification', 'predicting churn with the spss random tree algorithm', 'insights from new york car accident reports', 'visualize car data with brunel', 'predicting churn with the spss random tree algorithm', 'apache spark lab, part 1: basic concepts', 'use deep learning for image classification', 'use deep learning for image classification', 'predicting churn with the spss random tree algorithm', 'insights from new york car accident reports', 'visualize car data with brunel', 'finding optimal locations of new store using decision optimization', 'insights from new york car accident reports', 'finding optimal locations of new store using decision optimization', 'analyze energy consumption in buildings', 'use deep learning for image classification', 'visualize car data with brunel', 'visualize car data with brunel', 'use deep learning for image classification', 'visualize car data with brunel', 'analyze energy consumption in buildings', 'apache spark lab, part 1: basic concepts', 'apache spark lab, part 1: basic concepts', 'insights from new york car accident reports', 'predicting churn with the spss random tree algorithm', 'use deep learning for image classification', 'apache spark lab, part 1: basic concepts', 'visualize car data with brunel', 'analyze energy consumption in buildings', 'gosales transactions for logistic regression model', 'analyze energy consumption in buildings', 'analyze energy consumption in buildings', 'use deep learning for image classification', 'use deep learning for image classification', 'use deep learning for image classification', 'healthcare python streaming application demo', 'insights from new york car accident reports', 'apache spark lab, part 1: basic concepts', 'visualize car data with brunel', 'use deep learning for image classification', 'finding optimal locations of new store using decision optimization', 'gosales transactions for logistic regression model', 'predicting churn with the spss random tree algorithm', 'gosales transactions for logistic regression model', 'apache spark lab, part 1: basic concepts', 'healthcare python streaming application demo', 'use deep learning for image classification', 'gosales transactions for logistic regression model', 'visualize car data with brunel', 'visualize car data with brunel', 'visualize car data with brunel', 'finding optimal locations of new store using decision optimization', 'predicting churn with the spss random tree algorithm', 'use deep learning for image classification', 'gosales transactions for logistic regression model', 'use deep learning for image classification', 'apache spark lab, part 1: basic concepts', 'insights from new york car accident reports', 'visualize car data with brunel', 'finding optimal locations of new store using decision optimization', 'analyze energy consumption in buildings', 'gosales transactions for logistic regression model', 'insights from new york car accident reports', 'finding optimal locations of new store using decision optimization', 'finding optimal locations of new store using decision optimization', 'analyze energy consumption in buildings', 'apache spark lab, part 1: basic concepts', 'gosales transactions for logistic regression model', 'gosales transactions for logistic regression model', 'gosales transactions for logistic regression model', 'apache spark lab, part 1: basic concepts', 'finding optimal locations of new store using decision optimization', 'apache spark lab, part 1: basic concepts', 'healthcare python streaming application demo', 'predicting churn with the spss random tree algorithm', 'use deep learning for image classification', 'use deep learning for image classification', 'healthcare python streaming application demo', 'predicting churn with the spss random tree algorithm', 'insights from new york car accident reports', 'visualize car data with brunel', 'apache spark lab, part 1: basic concepts', 'healthcare python streaming application demo', 'insights from new york car accident reports', 'healthcare python streaming application demo', 'apache spark lab, part 1: basic concepts', 'apache spark lab, part 1: basic concepts', 'use deep learning for image classification', 'visualize car data with brunel', 'apache spark lab, part 1: basic concepts', 'use deep learning for image classification', 'gosales transactions for logistic regression model', 'insights from new york car accident reports', 'use deep learning for image classification', 'insights from new york car accident reports', 'insights from new york car accident reports', 'analyze energy consumption in buildings', 'visualize car data with brunel', 'gosales transactions for logistic regression model', 'use deep learning for image classification', 'use deep learning for image classification', 'apache spark lab, part 1: basic concepts', 'use deep learning for image classification', 'use deep learning for image classification', 'use deep learning for image classification', 'healthcare python streaming application demo', 'gosales transactions for logistic regression model', 'finding optimal locations of new store using decision optimization', 'gosales transactions for logistic regression model', 'visualize car data with brunel', 'gosales transactions for logistic regression model', 'healthcare python streaming application demo', 'visualize car data with brunel', 'visualize car data with brunel', 'insights from new york car accident reports', 'insights from new york car accident reports', 'use deep learning for image classification', 'healthcare python streaming application demo', 'predicting churn with the spss random tree algorithm', 'use deep learning for image classification', 'gosales transactions for logistic regression model', 'predicting churn with the spss random tree algorithm', 'analyze energy consumption in buildings', 'visualize car data with brunel', 'analyze energy consumption in buildings', 'visualize car data with brunel', 'healthcare python streaming application demo', 'healthcare python streaming application demo', 'use deep learning for image classification', 'analyze energy consumption in buildings', 'visualize car data with brunel', 'visualize car data with brunel', 'apache spark lab, part 1: basic concepts', 'gosales transactions for logistic regression model', 'insights from new york car accident reports', 'insights from new york car accident reports', 'healthcare python streaming application demo', 'visualize car data with brunel', 'use deep learning for image classification', 'use deep learning for image classification', 'healthcare python streaming application demo', 'analyze energy consumption in buildings', 'use deep learning for image classification', 'visualize car data with brunel', 'gosales transactions for logistic regression model', 'insights from new york car accident reports', 'finding optimal locations of new store using decision optimization', 'visualize car data with brunel', 'analyze energy consumption in buildings', 'use deep learning for image classification', 'insights from new york car accident reports', 'use deep learning for image classification', 'predicting churn with the spss random tree algorithm', 'predicting churn with the spss random tree algorithm', 'visualize car data with brunel', 'predicting churn with the spss random tree algorithm', 'gosales transactions for logistic regression model', 'predicting churn with the spss random tree algorithm', 'apache spark lab, part 1: basic concepts', 'analyze energy consumption in buildings', 'use deep learning for image classification', 'visualize car data with brunel', 'use deep learning for image classification', 'insights from new york car accident reports', 'visualize car data with brunel', 'visualize car data with brunel', 'insights from new york car accident reports', 'apache spark lab, part 1: basic concepts', 'insights from new york car accident reports', 'healthcare python streaming application demo', 'gosales transactions for logistic regression model', 'healthcare python streaming application demo', 'healthcare python streaming application demo', 'visualize car data with brunel', 'gosales transactions for logistic regression model', 'visualize car data with brunel', 'apache spark lab, part 1: basic concepts', 'apache spark lab, part 1: basic concepts', 'use deep learning for image classification', 'apache spark lab, part 1: basic concepts', 'finding optimal locations of new store using decision optimization', 'analyze energy consumption in buildings', 'analyze energy consumption in buildings', 'apache spark lab, part 1: basic concepts', 'predicting churn with the spss random tree algorithm', 'gosales transactions for logistic regression model', 'use deep learning for image classification', 'gosales transactions for logistic regression model', 'visualize car data with brunel', 'predicting churn with the spss random tree algorithm', 'apache spark lab, part 1: basic concepts', 'use deep learning for image classification', 'healthcare python streaming application demo', 'analyze energy consumption in buildings', 'predicting churn with the spss random tree algorithm', 'finding optimal locations of new store using decision optimization', 'analyze energy consumption in buildings', 'insights from new york car accident reports', 'insights from new york car accident reports', 'visualize car data with brunel', 'visualize car data with brunel', 'finding optimal locations of new store using decision optimization', 'insights from new york car accident reports', 'finding optimal locations of new store using decision optimization', 'use deep learning for image classification', 'predicting churn with the spss random tree algorithm', 'use deep learning for image classification', 'gosales transactions for logistic regression model', 'healthcare python streaming application demo', 'apache spark lab, part 1: basic concepts', 'healthcare python streaming application demo', 'predicting churn with the spss random tree algorithm', 'healthcare python streaming application demo', 'healthcare python streaming application demo', 'insights from new york car accident reports', 'use deep learning for image classification', 'analyze energy consumption in buildings', 'visualize car data with brunel', 'finding optimal locations of new store using decision optimization', 'predicting churn with the spss random tree algorithm', 'visualize car data with brunel', 'visualize car data with brunel', 'use deep learning for image classification', 'gosales transactions for logistic regression model', 'gosales transactions for logistic regression model', 'predicting churn with the spss random tree algorithm', 'use deep learning for image classification', 'apache spark lab, part 1: basic concepts', 'healthcare python streaming application demo', 'use deep learning for image classification', 'insights from new york car accident reports', 'predicting churn with the spss random tree algorithm', 'predicting churn with the spss random tree algorithm', 'analyze energy consumption in buildings', 'predicting churn with the spss random tree algorithm', 'insights from new york car accident reports', 'predicting churn with the spss random tree algorithm', 'healthcare python streaming application demo', 'gosales transactions for logistic regression model', 'finding optimal locations of new store using decision optimization', 'visualize car data with brunel', 'insights from new york car accident reports', 'gosales transactions for logistic regression model', 'visualize car data with brunel', 'apache spark lab, part 1: basic concepts', 'use deep learning for image classification', 'healthcare python streaming application demo', 'gosales transactions for logistic regression model', 'visualize car data with brunel', 'visualize car data with brunel', 'gosales transactions for logistic regression model', 'use deep learning for image classification', 'finding optimal locations of new store using decision optimization', 'finding optimal locations of new store using decision optimization', 'use deep learning for image classification', 'insights from new york car accident reports', 'healthcare python streaming application demo', 'finding optimal locations of new store using decision optimization', 'use deep learning for image classification', 'use deep learning for image classification', 'analyze energy consumption in buildings', 'analyze energy consumption in buildings', 'visualize car data with brunel', 'healthcare python streaming application demo', 'healthcare python streaming application demo', 'use deep learning for image classification', 'apache spark lab, part 1: basic concepts', 'apache spark lab, part 1: basic concepts', 'visualize car data with brunel', 'finding optimal locations of new store using decision optimization', 'healthcare python streaming application demo', 'apache spark lab, part 1: basic concepts', 'predicting churn with the spss random tree algorithm', 'gosales transactions for logistic regression model', 'use deep learning for image classification', 'finding optimal locations of new store using decision optimization', 'predicting churn with the spss random tree algorithm', 'healthcare python streaming application demo', 'visualize car data with brunel', 'insights from new york car accident reports', 'healthcare python streaming application demo', 'apache spark lab, part 1: basic concepts', 'use deep learning for image classification', 'healthcare python streaming application demo', 'analyze energy consumption in buildings', 'gosales transactions for logistic regression model', 'visualize car data with brunel', 'visualize car data with brunel', 'predicting churn with the spss random tree algorithm', 'finding optimal locations of new store using decision optimization', 'predicting churn with the spss random tree algorithm', 'apache spark lab, part 1: basic concepts', 'insights from new york car accident reports', 'insights from new york car accident reports', 'predicting churn with the spss random tree algorithm', 'gosales transactions for logistic regression model', 'predicting churn with the spss random tree algorithm', 'apache spark lab, part 1: basic concepts', 'predicting churn with the spss random tree algorithm', 'finding optimal locations of new store using decision optimization', 'insights from new york car accident reports', 'finding optimal locations of new store using decision optimization', 'predicting churn with the spss random tree algorithm', 'insights from new york car accident reports', 'use deep learning for image classification', 'apache spark lab, part 1: basic concepts', 'predicting churn with the spss random tree algorithm', 'insights from new york car accident reports', 'finding optimal locations of new store using decision optimization', 'use deep learning for image classification', 'visualize car data with brunel', 'predicting churn with the spss random tree algorithm', 'analyze energy consumption in buildings', 'visualize car data with brunel', 'insights from new york car accident reports', 'visualize car data with brunel', 'predicting churn with the spss random tree algorithm', 'use deep learning for image classification', 'use deep learning for image classification', 'use deep learning for image classification', 'predicting churn with the spss random tree algorithm', 'finding optimal locations of new store using decision optimization', 'finding optimal locations of new store using decision optimization', 'insights from new york car accident reports', 'visualize car data with brunel', 'insights from new york car accident reports', 'finding optimal locations of new store using decision optimization', 'use deep learning for image classification', 'visualize car data with brunel', 'visualize car data with brunel', 'finding optimal locations of new store using decision optimization', 'apache spark lab, part 1: basic concepts', 'finding optimal locations of new store using decision optimization', 'visualize car data with brunel', 'finding optimal locations of new store using decision optimization', 'gosales transactions for logistic regression model', 'gosales transactions for logistic regression model', 'healthcare python streaming application demo', 'healthcare python streaming application demo', 'finding optimal locations of new store using decision optimization', 'healthcare python streaming application demo', 'analyze energy consumption in buildings', 'predicting churn with the spss random tree algorithm', 'use deep learning for image classification', 'gosales transactions for logistic regression model', 'predicting churn with the spss random tree algorithm', 'insights from new york car accident reports', 'apache spark lab, part 1: basic concepts', 'use deep learning for image classification', 'finding optimal locations of new store using decision optimization', 'insights from new york car accident reports', 'finding optimal locations of new store using decision optimization', 'use deep learning for image classification', 'apache spark lab, part 1: basic concepts', 'finding optimal locations of new store using decision optimization', 'insights from new york car accident reports', 'healthcare python streaming application demo', 'apache spark lab, part 1: basic concepts', 'apache spark lab, part 1: basic concepts', 'predicting churn with the spss random tree algorithm', 'apache spark lab, part 1: basic concepts', 'predicting churn with the spss random tree algorithm', 'analyze energy consumption in buildings', 'insights from new york car accident reports', 'visualize car data with brunel', 'healthcare python streaming application demo', 'apache spark lab, part 1: basic concepts', 'visualize car data with brunel', 'analyze energy consumption in buildings', 'insights from new york car accident reports', 'visualize car data with brunel', 'apache spark lab, part 1: basic concepts', 'predicting churn with the spss random tree algorithm', 'finding optimal locations of new store using decision optimization', 'finding optimal locations of new store using decision optimization', 'analyze energy consumption in buildings', 'predicting churn with the spss random tree algorithm', 'use deep learning for image classification', 'apache spark lab, part 1: basic concepts', 'apache spark lab, part 1: basic concepts', 'insights from new york car accident reports', 'predicting churn with the spss random tree algorithm', 'apache spark lab, part 1: basic concepts', 'healthcare python streaming application demo', 'insights from new york car accident reports', 'analyze energy consumption in buildings', 'visualize car data with brunel', 'visualize car data with brunel', 'use deep learning for image classification', 'apache spark lab, part 1: basic concepts', 'visualize car data with brunel', 'finding optimal locations of new store using decision optimization', 'gosales transactions for logistic regression model', 'apache spark lab, part 1: basic concepts', 'predicting churn with the spss random tree algorithm', 'predicting churn with the spss random tree algorithm', 'visualize car data with brunel', 'gosales transactions for logistic regression model', 'healthcare python streaming application demo', 'visualize car data with brunel', 'use deep learning for image classification', 'healthcare python streaming application demo', 'finding optimal locations of new store using decision optimization', 'analyze energy consumption in buildings', 'apache spark lab, part 1: basic concepts', 'gosales transactions for logistic regression model', 'visualize car data with brunel', 'use deep learning for image classification', 'insights from new york car accident reports', 'analyze energy consumption in buildings', 'insights from new york car accident reports', 'use deep learning for image classification', 'visualize car data with brunel', 'use deep learning for image classification', 'insights from new york car accident reports', 'visualize car data with brunel', 'use deep learning for image classification', 'insights from new york car accident reports', 'use deep learning for image classification', 'insights from new york car accident reports', 'apache spark lab, part 1: basic concepts', 'apache spark lab, part 1: basic concepts', 'use deep learning for image classification', 'use deep learning for image classification', 'predicting churn with the spss random tree algorithm', 'insights from new york car accident reports', 'use deep learning for image classification', 'analyze energy consumption in buildings', 'use deep learning for image classification', 'healthcare python streaming application demo', 'use deep learning for image classification', 'analyze energy consumption in buildings', 'predicting churn with the spss random tree algorithm', 'insights from new york car accident reports', 'use deep learning for image classification', 'apache spark lab, part 1: basic concepts', 'insights from new york car accident reports', 'finding optimal locations of new store using decision optimization', 'finding optimal locations of new store using decision optimization', 'apache spark lab, part 1: basic concepts', 'apache spark lab, part 1: basic concepts', 'insights from new york car accident reports', 'use deep learning for image classification', 'analyze energy consumption in buildings', 'use deep learning for image classification', 'use deep learning for image classification', 'insights from new york car accident reports', 'insights from new york car accident reports', 'gosales transactions for logistic regression model', 'gosales transactions for logistic regression model', 'insights from new york car accident reports', 'finding optimal locations of new store using decision optimization', 'insights from new york car accident reports', 'gosales transactions for logistic regression model', 'visualize car data with brunel', 'insights from new york car accident reports', 'healthcare python streaming application demo', 'predicting churn with the spss random tree algorithm', 'healthcare python streaming application demo', 'insights from new york car accident reports', 'apache spark lab, part 1: basic concepts', 'predicting churn with the spss random tree algorithm', 'use deep learning for image classification', 'visualize car data with brunel', 'apache spark lab, part 1: basic concepts', 'apache spark lab, part 1: basic concepts', 'visualize car data with brunel', 'visualize car data with brunel', 'insights from new york car accident reports', 'visualize car data with brunel', 'finding optimal locations of new store using decision optimization', 'visualize car data with brunel', 'gosales transactions for logistic regression model', 'visualize car data with brunel', 'finding optimal locations of new store using decision optimization', 'use deep learning for image classification', 'predicting churn with the spss random tree algorithm', 'apache spark lab, part 1: basic concepts', 'predicting churn with the spss random tree algorithm', 'healthcare python streaming application demo', 'predicting churn with the spss random tree algorithm', 'use deep learning for image classification', 'visualize car data with brunel', 'analyze energy consumption in buildings', 'insights from new york car accident reports', 'healthcare python streaming application demo', 'predicting churn with the spss random tree algorithm', 'use deep learning for image classification', 'healthcare python streaming application demo', 'visualize car data with brunel', 'apache spark lab, part 1: basic concepts', 'insights from new york car accident reports', 'insights from new york car accident reports', 'insights from new york car accident reports', 'insights from new york car accident reports', 'apache spark lab, part 1: basic concepts', 'predicting churn with the spss random tree algorithm', 'insights from new york car accident reports', 'insights from new york car accident reports', 'use deep learning for image classification', 'finding optimal locations of new store using decision optimization', 'healthcare python streaming application demo', 'apache spark lab, part 1: basic concepts', 'finding optimal locations of new store using decision optimization', 'predicting churn with the spss random tree algorithm', 'insights from new york car accident reports', 'visualize car data with brunel', 'finding optimal locations of new store using decision optimization', 'healthcare python streaming application demo', 'insights from new york car accident reports', 'healthcare python streaming application demo', 'use deep learning for image classification', 'insights from new york car accident reports', 'use deep learning for image classification', 'visualize car data with brunel', 'visualize car data with brunel', 'analyze energy consumption in buildings', 'visualize car data with brunel', 'healthcare python streaming application demo', 'finding optimal locations of new store using decision optimization', 'insights from new york car accident reports', 'predicting churn with the spss random tree algorithm', 'gosales transactions for logistic regression model', 'finding optimal locations of new store using decision optimization', 'visualize car data with brunel', 'visualize car data with brunel', 'use deep learning for image classification', 'use deep learning for image classification', 'insights from new york car accident reports', 'apache spark lab, part 1: basic concepts', 'insights from new york car accident reports', 'visualize car data with brunel', 'visualize car data with brunel', 'insights from new york car accident reports', 'gosales transactions for logistic regression model', 'visualize car data with brunel', 'healthcare python streaming application demo', 'apache spark lab, part 1: basic concepts', 'apache spark lab, part 1: basic concepts', 'use deep learning for image classification', 'use deep learning for image classification', 'healthcare python streaming application demo', 'use deep learning for image classification', 'use deep learning for image classification', 'gosales transactions for logistic regression model', 'analyze energy consumption in buildings', 'analyze energy consumption in buildings', 'apache spark lab, part 1: basic concepts', 'insights from new york car accident reports', 'apache spark lab, part 1: basic concepts', 'apache spark lab, part 1: basic concepts', 'visualize car data with brunel', 'insights from new york car accident reports', 'insights from new york car accident reports', 'use deep learning for image classification', 'insights from new york car accident reports', 'healthcare python streaming application demo', 'use deep learning for image classification', 'use deep learning for image classification', 'predicting churn with the spss random tree algorithm', 'use deep learning for image classification', 'predicting churn with the spss random tree algorithm', 'use deep learning for image classification', 'visualize car data with brunel', 'insights from new york car accident reports', 'apache spark lab, part 1: basic concepts', 'predicting churn with the spss random tree algorithm', 'finding optimal locations of new store using decision optimization', 'healthcare python streaming application demo', 'visualize car data with brunel', 'predicting churn with the spss random tree algorithm', 'use deep learning for image classification', 'healthcare python streaming application demo', 'healthcare python streaming application demo', 'visualize car data with brunel', 'visualize car data with brunel', 'insights from new york car accident reports', 'use deep learning for image classification', 'apache spark lab, part 1: basic concepts', 'insights from new york car accident reports', 'healthcare python streaming application demo', 'insights from new york car accident reports', 'predicting churn with the spss random tree algorithm', 'use deep learning for image classification', 'finding optimal locations of new store using decision optimization', 'analyze energy consumption in buildings', 'apache spark lab, part 1: basic concepts', 'predicting churn with the spss random tree algorithm', 'gosales transactions for logistic regression model', 'predicting churn with the spss random tree algorithm', 'healthcare python streaming application demo', 'predicting churn with the spss random tree algorithm', 'insights from new york car accident reports', 'finding optimal locations of new store using decision optimization', 'insights from new york car accident reports', 'predicting churn with the spss random tree algorithm', 'finding optimal locations of new store using decision optimization', 'use deep learning for image classification', 'apache spark lab, part 1: basic concepts', 'gosales transactions for logistic regression model', 'finding optimal locations of new store using decision optimization', 'use deep learning for image classification', 'use deep learning for image classification', 'visualize car data with brunel', 'use deep learning for image classification', 'apache spark lab, part 1: basic concepts', 'visualize car data with brunel', 'apache spark lab, part 1: basic concepts', 'use deep learning for image classification', 'healthcare python streaming application demo', 'healthcare python streaming application demo', 'use deep learning for image classification', 'finding optimal locations of new store using decision optimization', 'insights from new york car accident reports', 'apache spark lab, part 1: basic concepts', 'insights from new york car accident reports', 'predicting churn with the spss random tree algorithm', 'healthcare python streaming application demo', 'analyze energy consumption in buildings', 'healthcare python streaming application demo', 'healthcare python streaming application demo', 'apache spark lab, part 1: basic concepts', 'use deep learning for image classification', 'finding optimal locations of new store using decision optimization', 'predicting churn with the spss random tree algorithm', 'use deep learning for image classification', 'insights from new york car accident reports', 'healthcare python streaming application demo', 'use deep learning for image classification', 'healthcare python streaming application demo', 'healthcare python streaming application demo', 'insights from new york car accident reports', 'gosales transactions for logistic regression model', 'healthcare python streaming application demo', 'analyze energy consumption in buildings', 'gosales transactions for logistic regression model', 'apache spark lab, part 1: basic concepts', 'use deep learning for image classification', 'use deep learning for image classification', 'healthcare python streaming application demo', 'finding optimal locations of new store using decision optimization', 'insights from new york car accident reports', 'analyze energy consumption in buildings', 'healthcare python streaming application demo', 'apache spark lab, part 1: basic concepts', 'finding optimal locations of new store using decision optimization', 'healthcare python streaming application demo', 'use deep learning for image classification', 'predicting churn with the spss random tree algorithm', 'healthcare python streaming application demo', 'visualize car data with brunel', 'gosales transactions for logistic regression model', 'insights from new york car accident reports', 'visualize car data with brunel', 'finding optimal locations of new store using decision optimization', 'finding optimal locations of new store using decision optimization', 'apache spark lab, part 1: basic concepts', 'insights from new york car accident reports', 'insights from new york car accident reports', 'use deep learning for image classification', 'apache spark lab, part 1: basic concepts', 'use deep learning for image classification', 'healthcare python streaming application demo', 'analyze energy consumption in buildings', 'predicting churn with the spss random tree algorithm', 'analyze energy consumption in buildings', 'use deep learning for image classification', 'apache spark lab, part 1: basic concepts', 'healthcare python streaming application demo', 'visualize car data with brunel', 'finding optimal locations of new store using decision optimization', 'finding optimal locations of new store using decision optimization', 'finding optimal locations of new store using decision optimization', 'use deep learning for image classification', 'use deep learning for image classification', 'finding optimal locations of new store using decision optimization', 'use deep learning for image classification', 'analyze energy consumption in buildings', 'apache spark lab, part 1: basic concepts', 'finding optimal locations of new store using decision optimization', 'predicting churn with the spss random tree algorithm', 'apache spark lab, part 1: basic concepts', 'use deep learning for image classification', 'gosales transactions for logistic regression model', 'analyze energy consumption in buildings', 'healthcare python streaming application demo', 'visualize car data with brunel', 'analyze energy consumption in buildings', 'apache spark lab, part 1: basic concepts', 'gosales transactions for logistic regression model', 'insights from new york car accident reports', 'apache spark lab, part 1: basic concepts', 'apache spark lab, part 1: basic concepts', 'visualize car data with brunel', 'predicting churn with the spss random tree algorithm', 'apache spark lab, part 1: basic concepts', 'finding optimal locations of new store using decision optimization', 'gosales transactions for logistic regression model', 'apache spark lab, part 1: basic concepts', 'finding optimal locations of new store using decision optimization', 'analyze energy consumption in buildings', 'predicting churn with the spss random tree algorithm', 'healthcare python streaming application demo', 'healthcare python streaming application demo', 'predicting churn with the spss random tree algorithm', 'gosales transactions for logistic regression model', 'insights from new york car accident reports', 'apache spark lab, part 1: basic concepts', 'insights from new york car accident reports', 'visualize car data with brunel', 'gosales transactions for logistic regression model', 'apache spark lab, part 1: basic concepts', 'visualize car data with brunel', 'insights from new york car accident reports', 'insights from new york car accident reports', 'analyze energy consumption in buildings', 'use deep learning for image classification', 'use deep learning for image classification', 'gosales transactions for logistic regression model', 'apache spark lab, part 1: basic concepts', 'insights from new york car accident reports', 'analyze energy consumption in buildings', 'predicting churn with the spss random tree algorithm', 'predicting churn with the spss random tree algorithm', 'finding optimal locations of new store using decision optimization', 'insights from new york car accident reports', 'use deep learning for image classification', 'healthcare python streaming application demo', 'apache spark lab, part 1: basic concepts', 'insights from new york car accident reports', 'insights from new york car accident reports', 'use deep learning for image classification', 'apache spark lab, part 1: basic concepts', 'gosales transactions for logistic regression model', 'visualize car data with brunel', 'predicting churn with the spss random tree algorithm', 'visualize car data with brunel', 'healthcare python streaming application demo', 'use deep learning for image classification', 'finding optimal locations of new store using decision optimization', 'use deep learning for image classification', 'visualize car data with brunel', 'use deep learning for image classification', 'apache spark lab, part 1: basic concepts', 'apache spark lab, part 1: basic concepts', 'insights from new york car accident reports', 'use deep learning for image classification', 'gosales transactions for logistic regression model', 'gosales transactions for logistic regression model', 'apache spark lab, part 1: basic concepts', 'predicting churn with the spss random tree algorithm', 'use deep learning for image classification', 'gosales transactions for logistic regression model', 'healthcare python streaming application demo', 'insights from new york car accident reports', 'insights from new york car accident reports', 'insights from new york car accident reports', 'insights from new york car accident reports', 'use deep learning for image classification', 'insights from new york car accident reports', 'predicting churn with the spss random tree algorithm', 'healthcare python streaming application demo', 'use deep learning for image classification', 'use deep learning for image classification', 'apache spark lab, part 1: basic concepts', 'use deep learning for image classification', 'finding optimal locations of new store using decision optimization', 'apache spark lab, part 1: basic concepts', 'apache spark lab, part 1: basic concepts', 'healthcare python streaming application demo', 'use deep learning for image classification', 'use deep learning for image classification', 'visualize car data with brunel', 'insights from new york car accident reports', 'insights from new york car accident reports', 'apache spark lab, part 1: basic concepts', 'insights from new york car accident reports', 'visualize car data with brunel', 'use deep learning for image classification', 'analyze energy consumption in buildings', 'analyze energy consumption in buildings', 'analyze energy consumption in buildings', 'insights from new york car accident reports', 'visualize car data with brunel', 'use deep learning for image classification', 'insights from new york car accident reports', 'visualize car data with brunel', 'use deep learning for image classification', 'insights from new york car accident reports', 'analyze energy consumption in buildings', 'apache spark lab, part 1: basic concepts', 'gosales transactions for logistic regression model', 'insights from new york car accident reports', 'use deep learning for image classification', 'apache spark lab, part 1: basic concepts', 'use deep learning for image classification', 'gosales transactions for logistic regression model', 'visualize car data with brunel', 'use deep learning for image classification', 'visualize car data with brunel', 'use deep learning for image classification', 'visualize car data with brunel', 'analyze energy consumption in buildings', 'insights from new york car accident reports', 'insights from new york car accident reports', 'visualize car data with brunel', 'predicting churn with the spss random tree algorithm', 'healthcare python streaming application demo', 'use deep learning for image classification', 'use deep learning for image classification', 'gosales transactions for logistic regression model', 'insights from new york car accident reports', 'gosales transactions for logistic regression model', 'apache spark lab, part 1: basic concepts', 'apache spark lab, part 1: basic concepts', 'visualize car data with brunel', 'apache spark lab, part 1: basic concepts', 'healthcare python streaming application demo', 'healthcare python streaming application demo', 'use deep learning for image classification', 'visualize car data with brunel', 'visualize car data with brunel', 'gosales transactions for logistic regression model', 'analyze energy consumption in buildings', 'apache spark lab, part 1: basic concepts', 'apache spark lab, part 1: basic concepts', 'finding optimal locations of new store using decision optimization', 'insights from new york car accident reports', 'finding optimal locations of new store using decision optimization', 'insights from new york car accident reports', 'predicting churn with the spss random tree algorithm', 'insights from new york car accident reports', 'insights from new york car accident reports', 'visualize car data with brunel', 'insights from new york car accident reports', 'predicting churn with the spss random tree algorithm', 'use deep learning for image classification', 'analyze energy consumption in buildings', 'healthcare python streaming application demo', 'healthcare python streaming application demo', 'healthcare python streaming application demo', 'visualize car data with brunel', 'insights from new york car accident reports', 'use deep learning for image classification', 'visualize car data with brunel', 'predicting churn with the spss random tree algorithm', 'apache spark lab, part 1: basic concepts', 'gosales transactions for logistic regression model', 'healthcare python streaming application demo', 'analyze energy consumption in buildings', 'apache spark lab, part 1: basic concepts', 'finding optimal locations of new store using decision optimization', 'apache spark lab, part 1: basic concepts', 'insights from new york car accident reports', 'use deep learning for image classification', 'finding optimal locations of new store using decision optimization', 'gosales transactions for logistic regression model', 'insights from new york car accident reports', 'healthcare python streaming application demo', 'analyze energy consumption in buildings', 'use deep learning for image classification', 'insights from new york car accident reports', 'healthcare python streaming application demo', 'visualize car data with brunel', 'predicting churn with the spss random tree algorithm', 'insights from new york car accident reports', 'predicting churn with the spss random tree algorithm', 'healthcare python streaming application demo', 'analyze energy consumption in buildings', 'visualize car data with brunel', 'gosales transactions for logistic regression model', 'insights from new york car accident reports', 'use deep learning for image classification', 'insights from new york car accident reports', 'insights from new york car accident reports', 'use deep learning for image classification', 'gosales transactions for logistic regression model', 'visualize car data with brunel', 'use deep learning for image classification', 'use deep learning for image classification', 'insights from new york car accident reports', 'visualize car data with brunel', 'use deep learning for image classification', 'use deep learning for image classification', 'healthcare python streaming application demo', 'visualize car data with brunel', 'use deep learning for image classification', 'predicting churn with the spss random tree algorithm', 'visualize car data with brunel', 'apache spark lab, part 1: basic concepts', 'visualize car data with brunel', 'healthcare python streaming application demo', 'use deep learning for image classification', 'insights from new york car accident reports', 'apache spark lab, part 1: basic concepts', 'insights from new york car accident reports', 'visualize car data with brunel', 'predicting churn with the spss random tree algorithm', 'use deep learning for image classification', 'predicting churn with the spss random tree algorithm', 'visualize car data with brunel', 'analyze energy consumption in buildings', 'gosales transactions for logistic regression model', 'analyze energy consumption in buildings', 'insights from new york car accident reports', 'finding optimal locations of new store using decision optimization', 'apache spark lab, part 1: basic concepts', 'use deep learning for image classification', 'insights from new york car accident reports', 'predicting churn with the spss random tree algorithm', 'visualize car data with brunel', 'use deep learning for image classification', 'use deep learning for image classification', 'analyze energy consumption in buildings', 'healthcare python streaming application demo', 'insights from new york car accident reports', 'predicting churn with the spss random tree algorithm', 'use deep learning for image classification', 'use deep learning for image classification', 'predicting churn with the spss random tree algorithm', 'use deep learning for image classification', 'insights from new york car accident reports', 'insights from new york car accident reports', 'use deep learning for image classification', 'use deep learning for image classification', 'insights from new york car accident reports', 'insights from new york car accident reports', 'insights from new york car accident reports', 'healthcare python streaming application demo', 'insights from new york car accident reports', 'use deep learning for image classification', 'visualize car data with brunel', 'finding optimal locations of new store using decision optimization', 'analyze energy consumption in buildings', 'analyze energy consumption in buildings', 'use deep learning for image classification', 'use deep learning for image classification', 'apache spark lab, part 1: basic concepts', 'healthcare python streaming application demo', 'visualize car data with brunel', 'finding optimal locations of new store using decision optimization', 'visualize car data with brunel', 'insights from new york car accident reports', 'visualize car data with brunel', 'insights from new york car accident reports', 'analyze energy consumption in buildings', 'use deep learning for image classification', 'finding optimal locations of new store using decision optimization', 'insights from new york car accident reports', 'apache spark lab, part 1: basic concepts', 'insights from new york car accident reports', 'predicting churn with the spss random tree algorithm', 'gosales transactions for logistic regression model', 'insights from new york car accident reports', 'use deep learning for image classification', 'visualize car data with brunel', 'finding optimal locations of new store using decision optimization', 'apache spark lab, part 1: basic concepts', 'finding optimal locations of new store using decision optimization', 'insights from new york car accident reports', 'analyze energy consumption in buildings', 'finding optimal locations of new store using decision optimization', 'use deep learning for image classification', 'use deep learning for image classification', 'insights from new york car accident reports', 'finding optimal locations of new store using decision optimization', 'use deep learning for image classification', 'insights from new york car accident reports', 'insights from new york car accident reports', 'finding optimal locations of new store using decision optimization', 'predicting churn with the spss random tree algorithm', 'analyze energy consumption in buildings', 'visualize car data with brunel', 'insights from new york car accident reports', 'insights from new york car accident reports', 'finding optimal locations of new store using decision optimization', 'use deep learning for image classification', 'visualize car data with brunel', 'apache spark lab, part 1: basic concepts', 'apache spark lab, part 1: basic concepts', 'visualize car data with brunel', 'gosales transactions for logistic regression model', 'insights from new york car accident reports', 'analyze energy consumption in buildings', 'visualize car data with brunel', 'insights from new york car accident reports', 'visualize car data with brunel', 'use deep learning for image classification', 'use deep learning for image classification', 'insights from new york car accident reports', 'visualize car data with brunel', 'healthcare python streaming application demo', 'predicting churn with the spss random tree algorithm', 'use deep learning for image classification', 'visualize car data with brunel', 'apache spark lab, part 1: basic concepts', 'finding optimal locations of new store using decision optimization', 'gosales transactions for logistic regression model', 'use deep learning for image classification', 'analyze energy consumption in buildings', 'analyze energy consumption in buildings', 'insights from new york car accident reports', 'visualize car data with brunel', 'healthcare python streaming application demo', 'finding optimal locations of new store using decision optimization', 'analyze energy consumption in buildings', 'use deep learning for image classification', 'apache spark lab, part 1: basic concepts', 'finding optimal locations of new store using decision optimization', 'healthcare python streaming application demo', 'apache spark lab, part 1: basic concepts', 'insights from new york car accident reports', 'gosales transactions for logistic regression model', 'visualize car data with brunel', 'insights from new york car accident reports', 'predicting churn with the spss random tree algorithm', 'healthcare python streaming application demo', 'analyze energy consumption in buildings', 'visualize car data with brunel', 'visualize car data with brunel', 'analyze energy consumption in buildings', 'insights from new york car accident reports', 'predicting churn with the spss random tree algorithm', 'use deep learning for image classification', 'use deep learning for image classification', 'insights from new york car accident reports', 'finding optimal locations of new store using decision optimization', 'insights from new york car accident reports', 'insights from new york car accident reports', 'apache spark lab, part 1: basic concepts', 'insights from new york car accident reports', 'visualize car data with brunel', 'insights from new york car accident reports', 'analyze energy consumption in buildings', 'finding optimal locations of new store using decision optimization', 'predicting churn with the spss random tree algorithm', 'use deep learning for image classification', 'use deep learning for image classification', 'apache spark lab, part 1: basic concepts', 'use deep learning for image classification', 'apache spark lab, part 1: basic concepts', 'insights from new york car accident reports', 'insights from new york car accident reports', 'healthcare python streaming application demo', 'use deep learning for image classification', 'finding optimal locations of new store using decision optimization', 'gosales transactions for logistic regression model', 'healthcare python streaming application demo', 'insights from new york car accident reports', 'use deep learning for image classification', 'insights from new york car accident reports', 'insights from new york car accident reports', 'analyze energy consumption in buildings', 'visualize car data with brunel', 'finding optimal locations of new store using decision optimization', 'predicting churn with the spss random tree algorithm', 'analyze energy consumption in buildings', 'apache spark lab, part 1: basic concepts', 'predicting churn with the spss random tree algorithm', 'insights from new york car accident reports', 'insights from new york car accident reports', 'healthcare python streaming application demo', 'visualize car data with brunel', 'healthcare python streaming application demo', 'apache spark lab, part 1: basic concepts', 'finding optimal locations of new store using decision optimization', 'use deep learning for image classification', 'use deep learning for image classification', 'predicting churn with the spss random tree algorithm', 'predicting churn with the spss random tree algorithm', 'finding optimal locations of new store using decision optimization', 'apache spark lab, part 1: basic concepts', 'insights from new york car accident reports', 'insights from new york car accident reports', 'predicting churn with the spss random tree algorithm', 'use xgboost, scikit-learn & ibm watson machine learning apis', 'insights from new york car accident reports', 'analyze energy consumption in buildings', 'insights from new york car accident reports', 'analyze energy consumption in buildings', 'analyze energy consumption in buildings', 'predicting churn with the spss random tree algorithm', 'healthcare python streaming application demo', 'predicting churn with the spss random tree algorithm', 'gosales transactions for logistic regression model', 'finding optimal locations of new store using decision optimization', 'finding optimal locations of new store using decision optimization', 'gosales transactions for logistic regression model', 'insights from new york car accident reports', 'gosales transactions for logistic regression model', 'predicting churn with the spss random tree algorithm', 'predicting churn with the spss random tree algorithm', 'analyze energy consumption in buildings', 'finding optimal locations of new store using decision optimization', 'finding optimal locations of new store using decision optimization', 'analyze energy consumption in buildings', 'apache spark lab, part 1: basic concepts', 'insights from new york car accident reports', 'insights from new york car accident reports', 'finding optimal locations of new store using decision optimization', 'visualize car data with brunel', 'finding optimal locations of new store using decision optimization', 'analyze energy consumption in buildings', 'predicting churn with the spss random tree algorithm', 'predicting churn with the spss random tree algorithm', 'predicting churn with the spss random tree algorithm', 'predicting churn with the spss random tree algorithm', 'predicting churn with the spss random tree algorithm', 'predicting churn with the spss random tree algorithm', 'visualize car data with brunel', 'insights from new york car accident reports', 'use deep learning for image classification', 'use xgboost, scikit-learn & ibm watson machine learning apis', 'gosales transactions for logistic regression model', 'gosales transactions for logistic regression model', 'gosales transactions for logistic regression model', 'gosales transactions for logistic regression model', 'gosales transactions for logistic regression model', 'predicting churn with the spss random tree algorithm', 'visualize car data with brunel', 'healthcare python streaming application demo', 'use xgboost, scikit-learn & ibm watson machine learning apis', 'insights from new york car accident reports', 'healthcare python streaming application demo', 'apache spark lab, part 1: basic concepts', 'finding optimal locations of new store using decision optimization', 'use deep learning for image classification', 'gosales transactions for logistic regression model', 'gosales transactions for logistic regression model', 'gosales transactions for logistic regression model', 'apache spark lab, part 1: basic concepts', 'finding optimal locations of new store using decision optimization', 'gosales transactions for logistic regression model', 'gosales transactions for logistic regression model', 'gosales transactions for logistic regression model', 'gosales transactions for logistic regression model', 'use deep learning for image classification', 'predicting churn with the spss random tree algorithm', 'insights from new york car accident reports', 'insights from new york car accident reports', 'visualize car data with brunel', 'use xgboost, scikit-learn & ibm watson machine learning apis', 'finding optimal locations of new store using decision optimization', 'apache spark lab, part 1: basic concepts', 'finding optimal locations of new store using decision optimization', 'gosales transactions for logistic regression model', 'gosales transactions for logistic regression model', 'finding optimal locations of new store using decision optimization', 'gosales transactions for logistic regression model', 'gosales transactions for logistic regression model', 'gosales transactions for logistic regression model', 'gosales transactions for logistic regression model', 'gosales transactions for logistic regression model', 'gosales transactions for logistic regression model', 'gosales transactions for logistic regression model', 'healthcare python streaming application demo', 'gosales transactions for logistic regression model', 'visualize car data with brunel', 'gosales transactions for logistic regression model', 'gosales transactions for logistic regression model', 'apache spark lab, part 1: basic concepts', 'predicting churn with the spss random tree algorithm', 'gosales transactions for logistic regression model', 'predicting churn with the spss random tree algorithm', 'analyze energy consumption in buildings', 'analyze energy consumption in buildings', 'analyze energy consumption in buildings', 'healthcare python streaming application demo', 'predicting churn with the spss random tree algorithm', 'healthcare python streaming application demo', 'insights from new york car accident reports', 'use xgboost, scikit-learn & ibm watson machine learning apis', 'predicting churn with the spss random tree algorithm', 'finding optimal locations of new store using decision optimization', 'use xgboost, scikit-learn & ibm watson machine learning apis', 'use xgboost, scikit-learn & ibm watson machine learning apis', 'use xgboost, scikit-learn & ibm watson machine learning apis', 'insights from new york car accident reports', 'use deep learning for image classification', 'use xgboost, scikit-learn & ibm watson machine learning apis', 'use deep learning for image classification', 'gosales transactions for logistic regression model', 'apache spark lab, part 1: basic concepts', 'gosales transactions for logistic regression model', 'gosales transactions for logistic regression model', 'gosales transactions for logistic regression model', 'gosales transactions for logistic regression model', 'gosales transactions for logistic regression model', 'gosales transactions for logistic regression model', 'gosales transactions for logistic regression model', 'gosales transactions for logistic regression model', 'use deep learning for image classification', 'use xgboost, scikit-learn & ibm watson machine learning apis', 'predicting churn with the spss random tree algorithm', 'finding optimal locations of new store using decision optimization', 'insights from new york car accident reports', 'healthcare python streaming application demo', 'predicting churn with the spss random tree algorithm', 'healthcare python streaming application demo', 'use xgboost, scikit-learn & ibm watson machine learning apis', 'use xgboost, scikit-learn & ibm watson machine learning apis', 'use deep learning for image classification', 'analyze energy consumption in buildings', 'insights from new york car accident reports', 'analyze energy consumption in buildings', 'apache spark lab, part 1: basic concepts', 'insights from new york car accident reports', 'insights from new york car accident reports', 'insights from new york car accident reports', 'use xgboost, scikit-learn & ibm watson machine learning apis', 'apache spark lab, part 1: basic concepts', 'insights from new york car accident reports', 'insights from new york car accident reports', 'insights from new york car accident reports', 'insights from new york car accident reports', 'healthcare python streaming application demo', 'apache spark lab, part 1: basic concepts', 'insights from new york car accident reports', 'insights from new york car accident reports', 'insights from new york car accident reports', 'insights from new york car accident reports', 'apache spark lab, part 1: basic concepts', 'apache spark lab, part 1: basic concepts', 'insights from new york car accident reports', 'visualize car data with brunel', 'visualize car data with brunel', 'visualize car data with brunel', 'visualize car data with brunel', 'apache spark lab, part 1: basic concepts', 'gosales transactions for logistic regression model', 'gosales transactions for logistic regression model', 'visualize car data with brunel', 'visualize car data with brunel', 'visualize car data with brunel', 'visualize car data with brunel', 'apache spark lab, part 1: basic concepts', 'insights from new york car accident reports', 'insights from new york car accident reports', 'insights from new york car accident reports', 'insights from new york car accident reports', 'use deep learning for image classification', 'insights from new york car accident reports', 'use deep learning for image classification', 'use xgboost, scikit-learn & ibm watson machine learning apis', 'healthcare python streaming application demo', 'insights from new york car accident reports', 'use deep learning for image classification', 'analyze energy consumption in buildings', 'healthcare python streaming application demo', 'healthcare python streaming application demo', 'analyze energy consumption in buildings', 'use xgboost, scikit-learn & ibm watson machine learning apis', 'gosales transactions for logistic regression model', 'insights from new york car accident reports', 'use deep learning for image classification', 'gosales transactions for logistic regression model', 'gosales transactions for logistic regression model', 'use xgboost, scikit-learn & ibm watson machine learning apis', 'use xgboost, scikit-learn & ibm watson machine learning apis', 'finding optimal locations of new store using decision optimization', 'finding optimal locations of new store using decision optimization', 'healthcare python streaming application demo', 'finding optimal locations of new store using decision optimization', 'predicting churn with the spss random tree algorithm', 'finding optimal locations of new store using decision optimization', 'use xgboost, scikit-learn & ibm watson machine learning apis', 'insights from new york car accident reports', 'gosales transactions for logistic regression model', 'gosales transactions for logistic regression model', 'apache spark lab, part 1: basic concepts', 'healthcare python streaming application demo', 'healthcare python streaming application demo', 'use deep learning for image classification', 'use deep learning for image classification', 'healthcare python streaming application demo', 'use xgboost, scikit-learn & ibm watson machine learning apis', 'use xgboost, scikit-learn & ibm watson machine learning apis', 'insights from new york car accident reports', 'use deep learning for image classification', 'predicting churn with the spss random tree algorithm', 'use xgboost, scikit-learn & ibm watson machine learning apis', 'use deep learning for image classification', 'use xgboost, scikit-learn & ibm watson machine learning apis', 'use deep learning for image classification', 'use deep learning for image classification', 'use deep learning for image classification', 'insights from new york car accident reports', 'use deep learning for image classification', 'predicting churn with the spss random tree algorithm', 'use xgboost, scikit-learn & ibm watson machine learning apis', 'use deep learning for image classification', 'use xgboost, scikit-learn & ibm watson machine learning apis', 'insights from new york car accident reports', 'insights from new york car accident reports', 'use deep learning for image classification', 'predicting churn with the spss random tree algorithm', 'gosales transactions for logistic regression model', 'apache spark lab, part 1: basic concepts', 'use xgboost, scikit-learn & ibm watson machine learning apis', 'healthcare python streaming application demo', 'predicting churn with the spss random tree algorithm', 'insights from new york car accident reports', 'insights from new york car accident reports', 'apache spark lab, part 1: basic concepts', 'use deep learning for image classification', 'use xgboost, scikit-learn & ibm watson machine learning apis', 'use xgboost, scikit-learn & ibm watson machine learning apis', 'use xgboost, scikit-learn & ibm watson machine learning apis', 'use deep learning for image classification', 'use xgboost, scikit-learn & ibm watson machine learning apis', 'visualize car data with brunel', 'use xgboost, scikit-learn & ibm watson machine learning apis', 'finding optimal locations of new store using decision optimization', 'use deep learning for image classification', 'finding optimal locations of new store using decision optimization', 'finding optimal locations of new store using decision optimization', 'finding optimal locations of new store using decision optimization', 'use xgboost, scikit-learn & ibm watson machine learning apis', 'finding optimal locations of new store using decision optimization', 'apache spark lab, part 1: basic concepts', 'visualize car data with brunel', 'finding optimal locations of new store using decision optimization', 'finding optimal locations of new store using decision optimization', 'predicting churn with the spss random tree algorithm', 'use xgboost, scikit-learn & ibm watson machine learning apis', 'finding optimal locations of new store using decision optimization', 'visualize car data with brunel', 'finding optimal locations of new store using decision optimization', 'finding optimal locations of new store using decision optimization', 'finding optimal locations of new store using decision optimization', 'use deep learning for image classification', 'use deep learning for image classification', 'finding optimal locations of new store using decision optimization', 'use xgboost, scikit-learn & ibm watson machine learning apis', 'gosales transactions for logistic regression model', 'gosales transactions for logistic regression model', 'gosales transactions for logistic regression model', 'gosales transactions for logistic regression model', 'healthcare python streaming application demo', 'visualize car data with brunel', 'use xgboost, scikit-learn & ibm watson machine learning apis', 'finding optimal locations of new store using decision optimization', 'finding optimal locations of new store using decision optimization', 'use deep learning for image classification', 'insights from new york car accident reports', 'predicting churn with the spss random tree algorithm', 'predicting churn with the spss random tree algorithm', 'predicting churn with the spss random tree algorithm', 'predicting churn with the spss random tree algorithm', 'use deep learning for image classification', 'healthcare python streaming application demo', 'use xgboost, scikit-learn & ibm watson machine learning apis', 'use xgboost, scikit-learn & ibm watson machine learning apis', 'use xgboost, scikit-learn & ibm watson machine learning apis', 'use xgboost, scikit-learn & ibm watson machine learning apis', 'use xgboost, scikit-learn & ibm watson machine learning apis', 'use xgboost, scikit-learn & ibm watson machine learning apis', 'use xgboost, scikit-learn & ibm watson machine learning apis', 'use xgboost, scikit-learn & ibm watson machine learning apis', 'use xgboost, scikit-learn & ibm watson machine learning apis', 'use xgboost, scikit-learn & ibm watson machine learning apis', 'use xgboost, scikit-learn & ibm watson machine learning apis', 'use deep learning for image classification', 'predicting churn with the spss random tree algorithm', 'use deep learning for image classification', 'gosales transactions for logistic regression model', 'gosales transactions for logistic regression model', 'predicting churn with the spss random tree algorithm', 'apache spark lab, part 1: basic concepts', 'analyze energy consumption in buildings', 'analyze energy consumption in buildings', 'use deep learning for image classification', 'analyze energy consumption in buildings', 'visualize car data with brunel', 'visualize car data with brunel', 'visualize car data with brunel', 'visualize car data with brunel', 'gosales transactions for logistic regression model', 'visualize car data with brunel', 'gosales transactions for logistic regression model', 'healthcare python streaming application demo', 'apache spark lab, part 1: basic concepts', 'apache spark lab, part 1: basic concepts', 'apache spark lab, part 1: basic concepts', 'use deep learning for image classification', 'predicting churn with the spss random tree algorithm', 'visualize car data with brunel', 'use deep learning for image classification', 'use deep learning for image classification', 'apache spark lab, part 1: basic concepts', 'use deep learning for image classification', 'healthcare python streaming application demo', 'use deep learning for image classification', 'predicting churn with the spss random tree algorithm', 'gosales transactions for logistic regression model', 'gosales transactions for logistic regression model', 'insights from new york car accident reports', 'healthcare python streaming application demo', 'gosales transactions for logistic regression model', 'use xgboost, scikit-learn & ibm watson machine learning apis', 'gosales transactions for logistic regression model', 'predicting churn with the spss random tree algorithm', 'gosales transactions for logistic regression model', 'gosales transactions for logistic regression model', 'gosales transactions for logistic regression model', 'gosales transactions for logistic regression model', 'gosales transactions for logistic regression model', 'use xgboost, scikit-learn & ibm watson machine learning apis', 'use xgboost, scikit-learn & ibm watson machine learning apis', 'predicting churn with the spss random tree algorithm', 'insights from new york car accident reports', 'healthcare python streaming application demo', 'analyze energy consumption in buildings', 'gosales transactions for logistic regression model', 'visualize car data with brunel', 'use xgboost, scikit-learn & ibm watson machine learning apis', 'use xgboost, scikit-learn & ibm watson machine learning apis', 'gosales transactions for logistic regression model', 'visualize car data with brunel', 'use deep learning for image classification', 'use deep learning for image classification', 'healthcare python streaming application demo', 'finding optimal locations of new store using decision optimization', 'analyze energy consumption in buildings', 'analyze energy consumption in buildings', 'analyze energy consumption in buildings', 'analyze energy consumption in buildings', 'predicting churn with the spss random tree algorithm', 'finding optimal locations of new store using decision optimization', 'analyze energy consumption in buildings', 'use deep learning for image classification', 'analyze energy consumption in buildings', 'finding optimal locations of new store using decision optimization', 'apache spark lab, part 1: basic concepts', 'apache spark lab, part 1: basic concepts', 'apache spark lab, part 1: basic concepts', 'finding optimal locations of new store using decision optimization', 'use deep learning for image classification', 'use xgboost, scikit-learn & ibm watson machine learning apis', 'healthcare python streaming application demo', 'gosales transactions for logistic regression model', 'use xgboost, scikit-learn & ibm watson machine learning apis', 'use deep learning for image classification', 'visualize car data with brunel', 'finding optimal locations of new store using decision optimization', 'insights from new york car accident reports', 'finding optimal locations of new store using decision optimization', 'use xgboost, scikit-learn & ibm watson machine learning apis', 'predicting churn with the spss random tree algorithm', 'healthcare python streaming application demo', 'predicting churn with the spss random tree algorithm', 'insights from new york car accident reports', 'healthcare python streaming application demo', 'visualize car data with brunel', 'visualize car data with brunel', 'visualize car data with brunel', 'visualize car data with brunel', 'finding optimal locations of new store using decision optimization', 'finding optimal locations of new store using decision optimization', 'finding optimal locations of new store using decision optimization', 'finding optimal locations of new store using decision optimization', 'use deep learning for image classification', 'insights from new york car accident reports', 'use xgboost, scikit-learn & ibm watson machine learning apis', 'use xgboost, scikit-learn & ibm watson machine learning apis', 'use xgboost, scikit-learn & ibm watson machine learning apis', 'use deep learning for image classification', 'use xgboost, scikit-learn & ibm watson machine learning apis', 'use xgboost, scikit-learn & ibm watson machine learning apis', 'use xgboost, scikit-learn & ibm watson machine learning apis', 'use xgboost, scikit-learn & ibm watson machine learning apis', 'use xgboost, scikit-learn & ibm watson machine learning apis', 'use xgboost, scikit-learn & ibm watson machine learning apis', 'use xgboost, scikit-learn & ibm watson machine learning apis', 'use xgboost, scikit-learn & ibm watson machine learning apis', 'use xgboost, scikit-learn & ibm watson machine learning apis', 'use xgboost, scikit-learn & ibm watson machine learning apis', 'use deep learning for image classification', 'apache spark lab, part 1: basic concepts', 'use deep learning for image classification', 'use xgboost, scikit-learn & ibm watson machine learning apis', 'use xgboost, scikit-learn & ibm watson machine learning apis', 'use xgboost, scikit-learn & ibm watson machine learning apis', 'use xgboost, scikit-learn & ibm watson machine learning apis', 'use xgboost, scikit-learn & ibm watson machine learning apis', 'visualize car data with brunel', 'visualize car data with brunel', 'predicting churn with the spss random tree algorithm', 'use deep learning for image classification', 'use deep learning for image classification', 'use deep learning for image classification', 'predicting churn with the spss random tree algorithm', 'use xgboost, scikit-learn & ibm watson machine learning apis', 'healthcare python streaming application demo', 'use deep learning for image classification', 'predicting churn with the spss random tree algorithm', 'visualize car data with brunel', 'gosales transactions for logistic regression model', 'gosales transactions for logistic regression model', 'gosales transactions for logistic regression model', 'gosales transactions for logistic regression model', 'visualize car data with brunel', 'use deep learning for image classification', 'use deep learning for image classification', 'gosales transactions for logistic regression model', 'visualize car data with brunel', 'visualize car data with brunel', 'use deep learning for image classification', 'healthcare python streaming application demo', 'healthcare python streaming application demo', 'visualize car data with brunel', 'visualize car data with brunel', 'visualize car data with brunel', 'visualize car data with brunel', 'use deep learning for image classification', 'visualize car data with brunel', 'use deep learning for image classification', 'predicting churn with the spss random tree algorithm', 'visualize car data with brunel', 'gosales transactions for logistic regression model', 'apache spark lab, part 1: basic concepts', 'use deep learning for image classification', 'predicting churn with the spss random tree algorithm', 'visualize car data with brunel', 'visualize car data with brunel', 'analyze energy consumption in buildings', 'analyze energy consumption in buildings', 'gosales transactions for logistic regression model', 'visualize car data with brunel', 'gosales transactions for logistic regression model', 'healthcare python streaming application demo', 'healthcare python streaming application demo', 'healthcare python streaming application demo', 'gosales transactions for logistic regression model', 'visualize car data with brunel', 'gosales transactions for logistic regression model', 'use deep learning for image classification', 'predicting churn with the spss random tree algorithm', 'analyze energy consumption in buildings', 'analyze energy consumption in buildings', 'analyze energy consumption in buildings', 'predicting churn with the spss random tree algorithm', 'analyze energy consumption in buildings', 'analyze energy consumption in buildings', 'analyze energy consumption in buildings', 'analyze energy consumption in buildings', 'finding optimal locations of new store using decision optimization', 'predicting churn with the spss random tree algorithm', 'predicting churn with the spss random tree algorithm', 'predicting churn with the spss random tree algorithm', 'predicting churn with the spss random tree algorithm', 'predicting churn with the spss random tree algorithm', 'predicting churn with the spss random tree algorithm', 'predicting churn with the spss random tree algorithm', 'gosales transactions for logistic regression model', 'visualize car data with brunel', 'visualize car data with brunel', 'visualize car data with brunel', 'visualize car data with brunel', 'visualize car data with brunel', 'visualize car data with brunel', 'visualize car data with brunel', 'visualize car data with brunel', 'visualize car data with brunel', 'visualize car data with brunel', 'visualize car data with brunel', 'visualize car data with brunel', 'visualize car data with brunel', 'visualize car data with brunel', 'visualize car data with brunel', 'visualize car data with brunel', 'visualize car data with brunel', 'analyze energy consumption in buildings', 'analyze energy consumption in buildings', 'gosales transactions for logistic regression model', 'gosales transactions for logistic regression model', 'finding optimal locations of new store using decision optimization', 'predicting churn with the spss random tree algorithm', 'predicting churn with the spss random tree algorithm', 'apache spark lab, part 1: basic concepts', 'apache spark lab, part 1: basic concepts', 'predicting churn with the spss random tree algorithm', 'analyze energy consumption in buildings', 'visualize car data with brunel', 'use xgboost, scikit-learn & ibm watson machine learning apis', 'healthcare python streaming application demo', 'use deep learning for image classification', 'predicting churn with the spss random tree algorithm', 'finding optimal locations of new store using decision optimization', 'predicting churn with the spss random tree algorithm', 'analyze energy consumption in buildings', 'visualize car data with brunel', 'visualize car data with brunel', 'visualize car data with brunel', 'use xgboost, scikit-learn & ibm watson machine learning apis', 'gosales transactions for logistic regression model', 'use xgboost, scikit-learn & ibm watson machine learning apis', 'analyze energy consumption in buildings', 'use xgboost, scikit-learn & ibm watson machine learning apis', 'use xgboost, scikit-learn & ibm watson machine learning apis', 'use xgboost, scikit-learn & ibm watson machine learning apis', 'use xgboost, scikit-learn & ibm watson machine learning apis', 'gosales transactions for logistic regression model', 'use xgboost, scikit-learn & ibm watson machine learning apis', 'gosales transactions for logistic regression model', 'predicting churn with the spss random tree algorithm', 'predicting churn with the spss random tree algorithm', 'use xgboost, scikit-learn & ibm watson machine learning apis', 'predicting churn with the spss random tree algorithm', 'gosales transactions for logistic regression model', 'gosales transactions for logistic regression model', 'use xgboost, scikit-learn & ibm watson machine learning apis', 'use xgboost, scikit-learn & ibm watson machine learning apis', 'predicting churn with the spss random tree algorithm', 'use xgboost, scikit-learn & ibm watson machine learning apis', 'insights from new york car accident reports', 'insights from new york car accident reports', 'analyze energy consumption in buildings', 'gosales transactions for logistic regression model', 'use deep learning for image classification', 'finding optimal locations of new store using decision optimization', 'predicting churn with the spss random tree algorithm', 'gosales transactions for logistic regression model', 'visualize car data with brunel', 'apache spark lab, part 1: basic concepts', 'analyze energy consumption in buildings', 'analyze energy consumption in buildings', 'analyze energy consumption in buildings', 'use xgboost, scikit-learn & ibm watson machine learning apis', 'predicting churn with the spss random tree algorithm', 'predicting churn with the spss random tree algorithm', 'apache spark lab, part 1: basic concepts', 'apache spark lab, part 1: basic concepts', 'apache spark lab, part 1: basic concepts', 'apache spark lab, part 1: basic concepts', 'apache spark lab, part 1: basic concepts', 'visualize car data with brunel', 'use xgboost, scikit-learn & ibm watson machine learning apis', 'use xgboost, scikit-learn & ibm watson machine learning apis', 'use xgboost, scikit-learn & ibm watson machine learning apis', 'predicting churn with the spss random tree algorithm', 'insights from new york car accident reports', 'gosales transactions for logistic regression model', 'gosales transactions for logistic regression model', 'use xgboost, scikit-learn & ibm watson machine learning apis', 'use deep learning for image classification', 'visualize car data with brunel', 'apache spark lab, part 1: basic concepts', 'use xgboost, scikit-learn & ibm watson machine learning apis', 'analyze energy consumption in buildings', 'insights from new york car accident reports', 'insights from new york car accident reports', 'visualize car data with brunel', 'visualize car data with brunel', 'use deep learning for image classification', 'apache spark lab, part 1: basic concepts', 'gosales transactions for logistic regression model', 'gosales transactions for logistic regression model', 'gosales transactions for logistic regression model', 'finding optimal locations of new store using decision optimization', 'finding optimal locations of new store using decision optimization', 'gosales transactions for logistic regression model', 'insights from new york car accident reports', 'use xgboost, scikit-learn & ibm watson machine learning apis', 'analyze energy consumption in buildings', 'analyze energy consumption in buildings', 'analyze energy consumption in buildings', 'analyze energy consumption in buildings', 'predicting churn with the spss random tree algorithm', 'predicting churn with the spss random tree algorithm', 'use deep learning for image classification', 'insights from new york car accident reports', 'apache spark lab, part 1: basic concepts', 'insights from new york car accident reports', 'analyze energy consumption in buildings', 'use xgboost, scikit-learn & ibm watson machine learning apis', 'use xgboost, scikit-learn & ibm watson machine learning apis', 'insights from new york car accident reports', 'use xgboost, scikit-learn & ibm watson machine learning apis', 'use xgboost, scikit-learn & ibm watson machine learning apis', 'use deep learning for image classification', 'visualize car data with brunel', 'analyze energy consumption in buildings', 'analyze energy consumption in buildings', 'analyze energy consumption in buildings', 'analyze energy consumption in buildings', 'visualize car data with brunel', 'use xgboost, scikit-learn & ibm watson machine learning apis', 'predicting churn with the spss random tree algorithm', 'predicting churn with the spss random tree algorithm', 'visualize car data with brunel', 'analyze energy consumption in buildings', 'use xgboost, scikit-learn & ibm watson machine learning apis', 'insights from new york car accident reports', 'insights from new york car accident reports', 'finding optimal locations of new store using decision optimization', 'predicting churn with the spss random tree algorithm', 'use deep learning for image classification', 'use deep learning for image classification', 'use deep learning for image classification', 'gosales transactions for logistic regression model', 'gosales transactions for logistic regression model', 'use xgboost, scikit-learn & ibm watson machine learning apis', 'use xgboost, scikit-learn & ibm watson machine learning apis', 'use deep learning for image classification', 'analyze energy consumption in buildings', 'predicting churn with the spss random tree algorithm', 'insights from new york car accident reports', 'insights from new york car accident reports', 'gosales transactions for logistic regression model', 'insights from new york car accident reports', 'analyze energy consumption in buildings', 'finding optimal locations of new store using decision optimization', 'predicting churn with the spss random tree algorithm', 'analyze energy consumption in buildings', 'analyze energy consumption in buildings', 'use xgboost, scikit-learn & ibm watson machine learning apis', 'use xgboost, scikit-learn & ibm watson machine learning apis', 'use xgboost, scikit-learn & ibm watson machine learning apis', 'apache spark lab, part 1: basic concepts', 'gosales transactions for logistic regression model', 'gosales transactions for logistic regression model', 'insights from new york car accident reports', 'insights from new york car accident reports', 'insights from new york car accident reports', 'insights from new york car accident reports', 'insights from new york car accident reports', 'insights from new york car accident reports', 'insights from new york car accident reports', 'insights from new york car accident reports', 'insights from new york car accident reports', 'insights from new york car accident reports', 'insights from new york car accident reports', 'insights from new york car accident reports', 'insights from new york car accident reports', 'insights from new york car accident reports', 'insights from new york car accident reports', 'analyze energy consumption in buildings', 'use deep learning for image classification', 'healthcare python streaming application demo', 'insights from new york car accident reports', 'insights from new york car accident reports', 'insights from new york car accident reports', 'insights from new york car accident reports', 'insights from new york car accident reports', 'use deep learning for image classification', 'use deep learning for image classification', 'use deep learning for image classification', 'use deep learning for image classification', 'use deep learning for image classification', 'apache spark lab, part 1: basic concepts', 'use deep learning for image classification', 'apache spark lab, part 1: basic concepts', 'use xgboost, scikit-learn & ibm watson machine learning apis', 'apache spark lab, part 1: basic concepts', 'use deep learning for image classification', 'use deep learning for image classification', 'insights from new york car accident reports', 'use deep learning for image classification', 'predicting churn with the spss random tree algorithm', 'finding optimal locations of new store using decision optimization', 'apache spark lab, part 1: basic concepts', 'healthcare python streaming application demo', 'apache spark lab, part 1: basic concepts', 'healthcare python streaming application demo', 'healthcare python streaming application demo', 'healthcare python streaming application demo', 'analyze energy consumption in buildings', 'finding optimal locations of new store using decision optimization', 'insights from new york car accident reports', 'insights from new york car accident reports', 'use xgboost, scikit-learn & ibm watson machine learning apis', 'insights from new york car accident reports', 'use deep learning for image classification', 'use deep learning for image classification', 'use deep learning for image classification', 'use xgboost, scikit-learn & ibm watson machine learning apis', 'use xgboost, scikit-learn & ibm watson machine learning apis', 'use xgboost, scikit-learn & ibm watson machine learning apis', 'finding optimal locations of new store using decision optimization', 'finding optimal locations of new store using decision optimization', 'apache spark lab, part 1: basic concepts', 'apache spark lab, part 1: basic concepts', 'finding optimal locations of new store using decision optimization', 'apache spark lab, part 1: basic concepts', 'finding optimal locations of new store using decision optimization', 'insights from new york car accident reports', 'finding optimal locations of new store using decision optimization', 'finding optimal locations of new store using decision optimization', 'visualize car data with brunel', 'finding optimal locations of new store using decision optimization', 'insights from new york car accident reports', 'finding optimal locations of new store using decision optimization', 'use deep learning for image classification', 'finding optimal locations of new store using decision optimization', 'insights from new york car accident reports', 'use deep learning for image classification', 'use deep learning for image classification', 'finding optimal locations of new store using decision optimization', 'use deep learning for image classification', 'predicting churn with the spss random tree algorithm', 'finding optimal locations of new store using decision optimization', 'gosales transactions for logistic regression model', 'use deep learning for image classification', 'use deep learning for image classification', 'visualize car data with brunel', 'predicting churn with the spss random tree algorithm', 'predicting churn with the spss random tree algorithm', 'gosales transactions for logistic regression model', 'use deep learning for image classification', 'finding optimal locations of new store using decision optimization', 'use deep learning for image classification', 'predicting churn with the spss random tree algorithm', 'predicting churn with the spss random tree algorithm', 'use deep learning for image classification', 'analyze energy consumption in buildings', 'use deep learning for image classification', 'analyze energy consumption in buildings', 'use deep learning for image classification', 'use deep learning for image classification', 'predicting churn with the spss random tree algorithm', 'use deep learning for image classification', 'analyze energy consumption in buildings', 'use deep learning for image classification', 'predicting churn with the spss random tree algorithm', 'use deep learning for image classification', 'use deep learning for image classification', 'gosales transactions for logistic regression model', 'use deep learning for image classification', 'insights from new york car accident reports', 'predicting churn with the spss random tree algorithm', 'finding optimal locations of new store using decision optimization', 'use deep learning for image classification', 'healthcare python streaming application demo', 'predicting churn with the spss random tree algorithm', 'predicting churn with the spss random tree algorithm', 'predicting churn with the spss random tree algorithm', 'use deep learning for image classification', 'use deep learning for image classification', 'predicting churn with the spss random tree algorithm', 'visualize car data with brunel', 'use deep learning for image classification', 'use deep learning for image classification', 'use deep learning for image classification', 'finding optimal locations of new store using decision optimization', 'insights from new york car accident reports', 'finding optimal locations of new store using decision optimization', 'insights from new york car accident reports', 'predicting churn with the spss random tree algorithm', 'insights from new york car accident reports', 'predicting churn with the spss random tree algorithm', 'use xgboost, scikit-learn & ibm watson machine learning apis', 'use xgboost, scikit-learn & ibm watson machine learning apis', 'gosales transactions for logistic regression model', 'use xgboost, scikit-learn & ibm watson machine learning apis', 'use xgboost, scikit-learn & ibm watson machine learning apis', 'visualize car data with brunel', 'visualize car data with brunel', 'use xgboost, scikit-learn & ibm watson machine learning apis', 'use deep learning for image classification', 'use xgboost, scikit-learn & ibm watson machine learning apis', 'use deep learning for image classification', 'visualize car data with brunel', 'use xgboost, scikit-learn & ibm watson machine learning apis', 'use xgboost, scikit-learn & ibm watson machine learning apis', 'use xgboost, scikit-learn & ibm watson machine learning apis', 'analyze energy consumption in buildings', 'gosales transactions for logistic regression model', 'use xgboost, scikit-learn & ibm watson machine learning apis', 'use xgboost, scikit-learn & ibm watson machine learning apis', 'use deep learning for image classification', 'use deep learning for image classification', 'use xgboost, scikit-learn & ibm watson machine learning apis', 'predicting churn with the spss random tree algorithm', 'healthcare python streaming application demo', 'use xgboost, scikit-learn & ibm watson machine learning apis', 'use xgboost, scikit-learn & ibm watson machine learning apis', 'use xgboost, scikit-learn & ibm watson machine learning apis', 'use xgboost, scikit-learn & ibm watson machine learning apis', 'use deep learning for image classification', 'use xgboost, scikit-learn & ibm watson machine learning apis', 'visualize car data with brunel', 'use deep learning for image classification', 'use xgboost, scikit-learn & ibm watson machine learning apis', 'use deep learning for image classification', 'predicting churn with the spss random tree algorithm', 'finding optimal locations of new store using decision optimization', 'use xgboost, scikit-learn & ibm watson machine learning apis', 'insights from new york car accident reports', 'use xgboost, scikit-learn & ibm watson machine learning apis', 'use xgboost, scikit-learn & ibm watson machine learning apis', 'use xgboost, scikit-learn & ibm watson machine learning apis', 'use xgboost, scikit-learn & ibm watson machine learning apis', 'use xgboost, scikit-learn & ibm watson machine learning apis', 'insights from new york car accident reports', 'use xgboost, scikit-learn & ibm watson machine learning apis', 'use xgboost, scikit-learn & ibm watson machine learning apis', 'use xgboost, scikit-learn & ibm watson machine learning apis', 'predicting churn with the spss random tree algorithm', 'use xgboost, scikit-learn & ibm watson machine learning apis', 'use deep learning for image classification', 'use xgboost, scikit-learn & ibm watson machine learning apis', 'use xgboost, scikit-learn & ibm watson machine learning apis', 'use xgboost, scikit-learn & ibm watson machine learning apis', 'use xgboost, scikit-learn & ibm watson machine learning apis', 'use xgboost, scikit-learn & ibm watson machine learning apis', 'use xgboost, scikit-learn & ibm watson machine learning apis', 'use xgboost, scikit-learn & ibm watson machine learning apis', 'use xgboost, scikit-learn & ibm watson machine learning apis', 'use xgboost, scikit-learn & ibm watson machine learning apis', 'use xgboost, scikit-learn & ibm watson machine learning apis', 'finding optimal locations of new store using decision optimization', 'use xgboost, scikit-learn & ibm watson machine learning apis', 'use xgboost, scikit-learn & ibm watson machine learning apis', 'predicting churn with the spss random tree algorithm', 'use xgboost, scikit-learn & ibm watson machine learning apis', 'use xgboost, scikit-learn & ibm watson machine learning apis', 'finding optimal locations of new store using decision optimization', 'use xgboost, scikit-learn & ibm watson machine learning apis', 'use xgboost, scikit-learn & ibm watson machine learning apis', 'use xgboost, scikit-learn & ibm watson machine learning apis', 'use xgboost, scikit-learn & ibm watson machine learning apis', 'use xgboost, scikit-learn & ibm watson machine learning apis', 'use xgboost, scikit-learn & ibm watson machine learning apis', 'use xgboost, scikit-learn & ibm watson machine learning apis', 'analyze energy consumption in buildings', 'use xgboost, scikit-learn & ibm watson machine learning apis', 'use xgboost, scikit-learn & ibm watson machine learning apis', 'use xgboost, scikit-learn & ibm watson machine learning apis', 'use xgboost, scikit-learn & ibm watson machine learning apis', 'gosales transactions for logistic regression model', 'use xgboost, scikit-learn & ibm watson machine learning apis', 'use xgboost, scikit-learn & ibm watson machine learning apis', 'use xgboost, scikit-learn & ibm watson machine learning apis', 'use xgboost, scikit-learn & ibm watson machine learning apis', 'use xgboost, scikit-learn & ibm watson machine learning apis', 'use xgboost, scikit-learn & ibm watson machine learning apis', 'insights from new york car accident reports', 'insights from new york car accident reports', 'insights from new york car accident reports', 'use deep learning for image classification', 'use xgboost, scikit-learn & ibm watson machine learning apis', 'use xgboost, scikit-learn & ibm watson machine learning apis', 'finding optimal locations of new store using decision optimization', 'use deep learning for image classification', 'visualize car data with brunel', 'use deep learning for image classification', 'use xgboost, scikit-learn & ibm watson machine learning apis', 'use deep learning for image classification', 'insights from new york car accident reports', 'use xgboost, scikit-learn & ibm watson machine learning apis', 'use xgboost, scikit-learn & ibm watson machine learning apis', 'use xgboost, scikit-learn & ibm watson machine learning apis', 'insights from new york car accident reports', 'use xgboost, scikit-learn & ibm watson machine learning apis', 'use xgboost, scikit-learn & ibm watson machine learning apis', 'use xgboost, scikit-learn & ibm watson machine learning apis', 'use xgboost, scikit-learn & ibm watson machine learning apis', 'use xgboost, scikit-learn & ibm watson machine learning apis', 'use xgboost, scikit-learn & ibm watson machine learning apis', 'healthcare python streaming application demo', 'analyze energy consumption in buildings', 'finding optimal locations of new store using decision optimization', 'analyze energy consumption in buildings', 'healthcare python streaming application demo', 'finding optimal locations of new store using decision optimization', 'healthcare python streaming application demo', 'use xgboost, scikit-learn & ibm watson machine learning apis', 'use xgboost, scikit-learn & ibm watson machine learning apis', 'use xgboost, scikit-learn & ibm watson machine learning apis', 'use xgboost, scikit-learn & ibm watson machine learning apis', 'use deep learning for image classification', 'apache spark lab, part 1: basic concepts', 'use xgboost, scikit-learn & ibm watson machine learning apis', 'use xgboost, scikit-learn & ibm watson machine learning apis', 'use xgboost, scikit-learn & ibm watson machine learning apis', 'use xgboost, scikit-learn & ibm watson machine learning apis', 'use xgboost, scikit-learn & ibm watson machine learning apis', 'finding optimal locations of new store using decision optimization', 'predicting churn with the spss random tree algorithm', 'use xgboost, scikit-learn & ibm watson machine learning apis', 'analyze energy consumption in buildings', 'use xgboost, scikit-learn & ibm watson machine learning apis', 'use xgboost, scikit-learn & ibm watson machine learning apis', 'analyze energy consumption in buildings', 'use xgboost, scikit-learn & ibm watson machine learning apis', 'use xgboost, scikit-learn & ibm watson machine learning apis', 'use xgboost, scikit-learn & ibm watson machine learning apis', 'insights from new york car accident reports', 'use deep learning for image classification', 'finding optimal locations of new store using decision optimization', 'finding optimal locations of new store using decision optimization', 'use xgboost, scikit-learn & ibm watson machine learning apis', 'analyze energy consumption in buildings', 'finding optimal locations of new store using decision optimization', 'visualize car data with brunel', 'use xgboost, scikit-learn & ibm watson machine learning apis', 'visualize car data with brunel', 'finding optimal locations of new store using decision optimization', 'insights from new york car accident reports', 'use xgboost, scikit-learn & ibm watson machine learning apis', 'use xgboost, scikit-learn & ibm watson machine learning apis', 'insights from new york car accident reports', 'healthcare python streaming application demo', 'use deep learning for image classification', 'use xgboost, scikit-learn & ibm watson machine learning apis', 'use xgboost, scikit-learn & ibm watson machine learning apis', 'use xgboost, scikit-learn & ibm watson machine learning apis', 'apache spark lab, part 1: basic concepts', 'analyze energy consumption in buildings', 'use xgboost, scikit-learn & ibm watson machine learning apis', 'use xgboost, scikit-learn & ibm watson machine learning apis', 'finding optimal locations of new store using decision optimization', 'gosales transactions for logistic regression model', 'gosales transactions for logistic regression model', 'use xgboost, scikit-learn & ibm watson machine learning apis', 'finding optimal locations of new store using decision optimization', 'use xgboost, scikit-learn & ibm watson machine learning apis', 'insights from new york car accident reports', 'use xgboost, scikit-learn & ibm watson machine learning apis', 'predicting churn with the spss random tree algorithm', 'insights from new york car accident reports', 'visualize car data with brunel', 'insights from new york car accident reports', 'use xgboost, scikit-learn & ibm watson machine learning apis', 'use xgboost, scikit-learn & ibm watson machine learning apis', 'apache spark lab, part 1: basic concepts', 'use xgboost, scikit-learn & ibm watson machine learning apis', 'finding optimal locations of new store using decision optimization', 'use xgboost, scikit-learn & ibm watson machine learning apis', 'use xgboost, scikit-learn & ibm watson machine learning apis', 'visualize car data with brunel', 'finding optimal locations of new store using decision optimization', 'insights from new york car accident reports', 'gosales transactions for logistic regression model', 'analyze energy consumption in buildings', 'use deep learning for image classification', 'finding optimal locations of new store using decision optimization', 'apache spark lab, part 1: basic concepts', 'insights from new york car accident reports', 'analyze energy consumption in buildings', 'apache spark lab, part 1: basic concepts', 'finding optimal locations of new store using decision optimization', 'insights from new york car accident reports', 'apache spark lab, part 1: basic concepts', 'analyze energy consumption in buildings', 'use xgboost, scikit-learn & ibm watson machine learning apis', 'visualize car data with brunel', 'finding optimal locations of new store using decision optimization', 'use xgboost, scikit-learn & ibm watson machine learning apis', 'use xgboost, scikit-learn & ibm watson machine learning apis', 'finding optimal locations of new store using decision optimization', 'insights from new york car accident reports', 'use deep learning for image classification', 'insights from new york car accident reports', 'use xgboost, scikit-learn & ibm watson machine learning apis', 'visualize car data with brunel', 'predicting churn with the spss random tree algorithm', 'predicting churn with the spss random tree algorithm', 'apache spark lab, part 1: basic concepts', 'apache spark lab, part 1: basic concepts', 'apache spark lab, part 1: basic concepts', 'use xgboost, scikit-learn & ibm watson machine learning apis', 'use deep learning for image classification', 'use xgboost, scikit-learn & ibm watson machine learning apis', 'apache spark lab, part 1: basic concepts', 'analyze energy consumption in buildings', 'apache spark lab, part 1: basic concepts', 'use deep learning for image classification', 'insights from new york car accident reports', 'analyze energy consumption in buildings', 'use xgboost, scikit-learn & ibm watson machine learning apis', 'use xgboost, scikit-learn & ibm watson machine learning apis', 'use xgboost, scikit-learn & ibm watson machine learning apis', 'use xgboost, scikit-learn & ibm watson machine learning apis', 'use deep learning for image classification', 'apache spark lab, part 1: basic concepts', 'use xgboost, scikit-learn & ibm watson machine learning apis', 'insights from new york car accident reports', 'insights from new york car accident reports', 'healthcare python streaming application demo', 'use xgboost, scikit-learn & ibm watson machine learning apis', 'use deep learning for image classification', 'use xgboost, scikit-learn & ibm watson machine learning apis', 'healthcare python streaming application demo', 'finding optimal locations of new store using decision optimization', 'gosales transactions for logistic regression model', 'use deep learning for image classification', 'analyze energy consumption in buildings', 'analyze energy consumption in buildings', 'use xgboost, scikit-learn & ibm watson machine learning apis', 'use xgboost, scikit-learn & ibm watson machine learning apis', 'use xgboost, scikit-learn & ibm watson machine learning apis', 'visualize car data with brunel', 'use deep learning for image classification', 'analyze energy consumption in buildings', 'gosales transactions for logistic regression model', 'analyze energy consumption in buildings', 'use xgboost, scikit-learn & ibm watson machine learning apis', 'finding optimal locations of new store using decision optimization', 'insights from new york car accident reports', 'visualize car data with brunel', 'use xgboost, scikit-learn & ibm watson machine learning apis', 'analyze energy consumption in buildings', 'use xgboost, scikit-learn & ibm watson machine learning apis', 'analyze energy consumption in buildings', 'apache spark lab, part 1: basic concepts', 'visualize car data with brunel', 'visualize car data with brunel', 'visualize car data with brunel', 'visualize car data with brunel', 'use xgboost, scikit-learn & ibm watson machine learning apis', 'use deep learning for image classification', 'use deep learning for image classification', 'use xgboost, scikit-learn & ibm watson machine learning apis', 'analyze energy consumption in buildings', 'visualize car data with brunel', 'use xgboost, scikit-learn & ibm watson machine learning apis', 'insights from new york car accident reports', 'use xgboost, scikit-learn & ibm watson machine learning apis', 'finding optimal locations of new store using decision optimization', 'apache spark lab, part 1: basic concepts', 'use xgboost, scikit-learn & ibm watson machine learning apis', 'apache spark lab, part 1: basic concepts', 'healthcare python streaming application demo', 'use xgboost, scikit-learn & ibm watson machine learning apis', 'apache spark lab, part 1: basic concepts', 'use xgboost, scikit-learn & ibm watson machine learning apis', 'use xgboost, scikit-learn & ibm watson machine learning apis', 'visualize car data with brunel', 'finding optimal locations of new store using decision optimization', 'healthcare python streaming application demo', 'predicting churn with the spss random tree algorithm', 'use xgboost, scikit-learn & ibm watson machine learning apis', 'healthcare python streaming application demo', 'use xgboost, scikit-learn & ibm watson machine learning apis', 'analyze energy consumption in buildings', 'visualize car data with brunel', 'use xgboost, scikit-learn & ibm watson machine learning apis', 'analyze energy consumption in buildings', 'use xgboost, scikit-learn & ibm watson machine learning apis', 'healthcare python streaming application demo', 'insights from new york car accident reports', 'gosales transactions for logistic regression model', 'insights from new york car accident reports', 'use xgboost, scikit-learn & ibm watson machine learning apis', 'healthcare python streaming application demo', 'healthcare python streaming application demo', 'healthcare python streaming application demo', 'healthcare python streaming application demo', 'use xgboost, scikit-learn & ibm watson machine learning apis', 'predicting churn with the spss random tree algorithm', 'healthcare python streaming application demo', 'healthcare python streaming application demo', 'healthcare python streaming application demo', 'use deep learning for image classification', 'predicting churn with the spss random tree algorithm', 'visualize car data with brunel', 'use xgboost, scikit-learn & ibm watson machine learning apis', 'visualize car data with brunel', 'healthcare python streaming application demo', 'healthcare python streaming application demo', 'visualize car data with brunel', 'apache spark lab, part 1: basic concepts', 'healthcare python streaming application demo', 'insights from new york car accident reports', 'healthcare python streaming application demo', 'use deep learning for image classification', 'use xgboost, scikit-learn & ibm watson machine learning apis', 'use xgboost, scikit-learn & ibm watson machine learning apis', 'use xgboost, scikit-learn & ibm watson machine learning apis', 'use xgboost, scikit-learn & ibm watson machine learning apis', 'healthcare python streaming application demo', 'finding optimal locations of new store using decision optimization', 'finding optimal locations of new store using decision optimization', 'insights from new york car accident reports', 'finding optimal locations of new store using decision optimization', 'insights from new york car accident reports', 'use xgboost, scikit-learn & ibm watson machine learning apis', 'apache spark lab, part 1: basic concepts', 'apache spark lab, part 1: basic concepts', 'predicting churn with the spss random tree algorithm', 'finding optimal locations of new store using decision optimization', 'healthcare python streaming application demo', 'healthcare python streaming application demo', 'use xgboost, scikit-learn & ibm watson machine learning apis', 'healthcare python streaming application demo', 'use xgboost, scikit-learn & ibm watson machine learning apis', 'use xgboost, scikit-learn & ibm watson machine learning apis', 'healthcare python streaming application demo', 'use xgboost, scikit-learn & ibm watson machine learning apis', 'healthcare python streaming application demo', 'gosales transactions for logistic regression model', 'use xgboost, scikit-learn & ibm watson machine learning apis', 'healthcare python streaming application demo', 'use xgboost, scikit-learn & ibm watson machine learning apis', 'analyze energy consumption in buildings', 'insights from new york car accident reports', 'gosales transactions for logistic regression model', 'use deep learning for image classification', 'analyze energy consumption in buildings', 'healthcare python streaming application demo', 'analyze energy consumption in buildings', 'use xgboost, scikit-learn & ibm watson machine learning apis', 'analyze energy consumption in buildings', 'healthcare python streaming application demo', 'gosales transactions for logistic regression model', 'finding optimal locations of new store using decision optimization', 'finding optimal locations of new store using decision optimization', 'gosales transactions for logistic regression model', 'use xgboost, scikit-learn & ibm watson machine learning apis', 'analyze energy consumption in buildings', 'gosales transactions for logistic regression model', 'visualize car data with brunel', 'finding optimal locations of new store using decision optimization', 'gosales transactions for logistic regression model', 'use deep learning for image classification', 'use deep learning for image classification', 'finding optimal locations of new store using decision optimization', 'use xgboost, scikit-learn & ibm watson machine learning apis', 'use xgboost, scikit-learn & ibm watson machine learning apis', 'use xgboost, scikit-learn & ibm watson machine learning apis', 'healthcare python streaming application demo', 'finding optimal locations of new store using decision optimization', 'apache spark lab, part 1: basic concepts', 'predicting churn with the spss random tree algorithm', 'gosales transactions for logistic regression model', 'apache spark lab, part 1: basic concepts', 'use deep learning for image classification', 'use deep learning for image classification', 'use deep learning for image classification', 'use deep learning for image classification', 'use deep learning for image classification', 'predicting churn with the spss random tree algorithm', 'visualize car data with brunel', 'predicting churn with the spss random tree algorithm', 'predicting churn with the spss random tree algorithm', 'gosales transactions for logistic regression model', 'predicting churn with the spss random tree algorithm', 'healthcare python streaming application demo', 'visualize car data with brunel', 'use xgboost, scikit-learn & ibm watson machine learning apis', 'visualize car data with brunel', 'use xgboost, scikit-learn & ibm watson machine learning apis', 'insights from new york car accident reports', 'healthcare python streaming application demo', 'insights from new york car accident reports', 'insights from new york car accident reports', 'insights from new york car accident reports', 'finding optimal locations of new store using decision optimization', 'finding optimal locations of new store using decision optimization', 'gosales transactions for logistic regression model', 'insights from new york car accident reports', 'apache spark lab, part 1: basic concepts', 'insights from new york car accident reports', 'use xgboost, scikit-learn & ibm watson machine learning apis', 'healthcare python streaming application demo', 'healthcare python streaming application demo', 'analyze energy consumption in buildings', 'analyze energy consumption in buildings', 'analyze energy consumption in buildings', 'gosales transactions for logistic regression model', 'gosales transactions for logistic regression model', 'gosales transactions for logistic regression model', 'finding optimal locations of new store using decision optimization', 'gosales transactions for logistic regression model', 'gosales transactions for logistic regression model', 'gosales transactions for logistic regression model', 'finding optimal locations of new store using decision optimization', 'finding optimal locations of new store using decision optimization', 'gosales transactions for logistic regression model', 'gosales transactions for logistic regression model', 'gosales transactions for logistic regression model', 'gosales transactions for logistic regression model', 'gosales transactions for logistic regression model', 'gosales transactions for logistic regression model', 'gosales transactions for logistic regression model', 'visualize car data with brunel', 'visualize car data with brunel', 'visualize car data with brunel', 'healthcare python streaming application demo', 'healthcare python streaming application demo', 'insights from new york car accident reports', 'insights from new york car accident reports', 'insights from new york car accident reports', 'predicting churn with the spss random tree algorithm', 'finding optimal locations of new store using decision optimization', 'finding optimal locations of new store using decision optimization', 'finding optimal locations of new store using decision optimization', 'finding optimal locations of new store using decision optimization', 'finding optimal locations of new store using decision optimization', 'finding optimal locations of new store using decision optimization', 'healthcare python streaming application demo', 'apache spark lab, part 1: basic concepts', 'healthcare python streaming application demo', 'predicting churn with the spss random tree algorithm', 'healthcare python streaming application demo', 'healthcare python streaming application demo', 'apache spark lab, part 1: basic concepts', 'apache spark lab, part 1: basic concepts', 'analyze energy consumption in buildings', 'visualize car data with brunel', 'use xgboost, scikit-learn & ibm watson machine learning apis', 'predicting churn with the spss random tree algorithm', 'finding optimal locations of new store using decision optimization', 'insights from new york car accident reports', 'healthcare python streaming application demo', 'use deep learning for image classification', 'visualize car data with brunel', 'visualize car data with brunel', 'healthcare python streaming application demo', 'analyze energy consumption in buildings', 'analyze energy consumption in buildings', 'analyze energy consumption in buildings', 'use deep learning for image classification', 'insights from new york car accident reports', 'healthcare python streaming application demo', 'healthcare python streaming application demo', 'predicting churn with the spss random tree algorithm', 'insights from new york car accident reports', 'apache spark lab, part 1: basic concepts', 'healthcare python streaming application demo', 'healthcare python streaming application demo', 'finding optimal locations of new store using decision optimization', 'apache spark lab, part 1: basic concepts', 'use deep learning for image classification', 'apache spark lab, part 1: basic concepts', 'apache spark lab, part 1: basic concepts', 'apache spark lab, part 1: basic concepts', 'insights from new york car accident reports', 'insights from new york car accident reports', 'insights from new york car accident reports', 'visualize car data with brunel', 'visualize car data with brunel', 'use deep learning for image classification', 'use deep learning for image classification', 'apache spark lab, part 1: basic concepts', 'insights from new york car accident reports', 'apache spark lab, part 1: basic concepts', 'visualize car data with brunel', 'use xgboost, scikit-learn & ibm watson machine learning apis', 'visualize car data with brunel', 'use deep learning for image classification', 'predicting churn with the spss random tree algorithm', 'insights from new york car accident reports', 'apache spark lab, part 1: basic concepts', 'gosales transactions for logistic regression model', 'use xgboost, scikit-learn & ibm watson machine learning apis', 'visualize car data with brunel', 'gosales transactions for logistic regression model', 'finding optimal locations of new store using decision optimization', 'healthcare python streaming application demo', 'healthcare python streaming application demo', 'healthcare python streaming application demo', 'healthcare python streaming application demo', 'use deep learning for image classification', 'healthcare python streaming application demo', 'healthcare python streaming application demo', 'insights from new york car accident reports', 'use xgboost, scikit-learn & ibm watson machine learning apis', 'use xgboost, scikit-learn & ibm watson machine learning apis', 'insights from new york car accident reports', 'finding optimal locations of new store using decision optimization', 'use xgboost, scikit-learn & ibm watson machine learning apis', 'use xgboost, scikit-learn & ibm watson machine learning apis', 'analyze energy consumption in buildings', 'insights from new york car accident reports', 'finding optimal locations of new store using decision optimization', 'predicting churn with the spss random tree algorithm', 'gosales transactions for logistic regression model', 'analyze energy consumption in buildings', 'analyze energy consumption in buildings', 'insights from new york car accident reports', 'apache spark lab, part 1: basic concepts', 'insights from new york car accident reports', 'insights from new york car accident reports', 'predicting churn with the spss random tree algorithm', 'gosales transactions for logistic regression model', 'use xgboost, scikit-learn & ibm watson machine learning apis', 'analyze energy consumption in buildings', 'visualize car data with brunel', 'insights from new york car accident reports', 'analyze energy consumption in buildings', 'gosales transactions for logistic regression model', 'visualize car data with brunel', 'analyze energy consumption in buildings', 'insights from new york car accident reports', 'insights from new york car accident reports', 'visualize car data with brunel', 'insights from new york car accident reports', 'predicting churn with the spss random tree algorithm', 'visualize car data with brunel', 'insights from new york car accident reports', 'insights from new york car accident reports', 'use xgboost, scikit-learn & ibm watson machine learning apis', 'insights from new york car accident reports', 'healthcare python streaming application demo', 'gosales transactions for logistic regression model', 'insights from new york car accident reports', 'gosales transactions for logistic regression model', 'use deep learning for image classification', 'gosales transactions for logistic regression model', 'healthcare python streaming application demo', 'use xgboost, scikit-learn & ibm watson machine learning apis', 'healthcare python streaming application demo', 'analyze energy consumption in buildings', 'use deep learning for image classification', 'healthcare python streaming application demo', 'visualize car data with brunel', 'apache spark lab, part 1: basic concepts', 'analyze energy consumption in buildings', 'analyze energy consumption in buildings', 'visualize car data with brunel', 'use xgboost, scikit-learn & ibm watson machine learning apis', 'use xgboost, scikit-learn & ibm watson machine learning apis', 'analyze energy consumption in buildings', 'visualize car data with brunel', 'analyze energy consumption in buildings', 'healthcare python streaming application demo', 'healthcare python streaming application demo', 'gosales transactions for logistic regression model', 'gosales transactions for logistic regression model', 'gosales transactions for logistic regression model', 'visualize car data with brunel', 'predicting churn with the spss random tree algorithm', 'use deep learning for image classification', 'apache spark lab, part 1: basic concepts', 'use deep learning for image classification', 'analyze energy consumption in buildings', 'use xgboost, scikit-learn & ibm watson machine learning apis', 'predicting churn with the spss random tree algorithm', 'use xgboost, scikit-learn & ibm watson machine learning apis', 'insights from new york car accident reports', 'visualize car data with brunel', 'analyze energy consumption in buildings', 'insights from new york car accident reports', 'healthcare python streaming application demo', 'insights from new york car accident reports', 'use deep learning for image classification', 'insights from new york car accident reports', 'finding optimal locations of new store using decision optimization', 'finding optimal locations of new store using decision optimization', 'predicting churn with the spss random tree algorithm', 'finding optimal locations of new store using decision optimization', 'insights from new york car accident reports', 'visualize car data with brunel', 'use xgboost, scikit-learn & ibm watson machine learning apis', 'visualize car data with brunel', 'analyze energy consumption in buildings', 'use deep learning for image classification', 'use xgboost, scikit-learn & ibm watson machine learning apis', 'visualize car data with brunel', 'predicting churn with the spss random tree algorithm', 'visualize car data with brunel', 'use deep learning for image classification', 'visualize car data with brunel', 'apache spark lab, part 1: basic concepts', 'apache spark lab, part 1: basic concepts', 'apache spark lab, part 1: basic concepts', 'use xgboost, scikit-learn & ibm watson machine learning apis', 'insights from new york car accident reports', 'finding optimal locations of new store using decision optimization', 'gosales transactions for logistic regression model', 'gosales transactions for logistic regression model', 'gosales transactions for logistic regression model', 'use deep learning for image classification', 'visualize car data with brunel', 'predicting churn with the spss random tree algorithm', 'apache spark lab, part 1: basic concepts', 'use xgboost, scikit-learn & ibm watson machine learning apis', 'predicting churn with the spss random tree algorithm', 'analyze energy consumption in buildings', 'use xgboost, scikit-learn & ibm watson machine learning apis', 'gosales transactions for logistic regression model', 'apache spark lab, part 1: basic concepts', 'insights from new york car accident reports', 'use xgboost, scikit-learn & ibm watson machine learning apis', 'insights from new york car accident reports', 'use xgboost, scikit-learn & ibm watson machine learning apis', 'insights from new york car accident reports', 'use xgboost, scikit-learn & ibm watson machine learning apis', 'gosales transactions for logistic regression model', 'apache spark lab, part 1: basic concepts', 'use xgboost, scikit-learn & ibm watson machine learning apis', 'insights from new york car accident reports', 'insights from new york car accident reports', 'insights from new york car accident reports', 'insights from new york car accident reports', 'use xgboost, scikit-learn & ibm watson machine learning apis', 'finding optimal locations of new store using decision optimization', 'apache spark lab, part 1: basic concepts', 'use deep learning for image classification', 'use xgboost, scikit-learn & ibm watson machine learning apis', 'apache spark lab, part 1: basic concepts', 'insights from new york car accident reports', 'insights from new york car accident reports', 'gosales transactions for logistic regression model', 'use deep learning for image classification', 'use xgboost, scikit-learn & ibm watson machine learning apis', 'predicting churn with the spss random tree algorithm', 'predicting churn with the spss random tree algorithm', 'predicting churn with the spss random tree algorithm', 'analyze energy consumption in buildings', 'finding optimal locations of new store using decision optimization', 'analyze energy consumption in buildings', 'analyze energy consumption in buildings', 'analyze energy consumption in buildings', 'finding optimal locations of new store using decision optimization', 'analyze energy consumption in buildings', 'analyze energy consumption in buildings', 'finding optimal locations of new store using decision optimization', 'analyze energy consumption in buildings', 'analyze energy consumption in buildings', 'healthcare python streaming application demo', 'analyze energy consumption in buildings', 'predicting churn with the spss random tree algorithm', 'finding optimal locations of new store using decision optimization', 'finding optimal locations of new store using decision optimization', 'analyze energy consumption in buildings', 'apache spark lab, part 1: basic concepts', 'insights from new york car accident reports', 'use deep learning for image classification', 'healthcare python streaming application demo', 'insights from new york car accident reports', 'analyze energy consumption in buildings', 'analyze energy consumption in buildings', 'analyze energy consumption in buildings', 'analyze energy consumption in buildings', 'visualize car data with brunel', 'predicting churn with the spss random tree algorithm', 'predicting churn with the spss random tree algorithm', 'gosales transactions for logistic regression model', 'use deep learning for image classification', 'insights from new york car accident reports', 'use xgboost, scikit-learn & ibm watson machine learning apis', 'insights from new york car accident reports', 'analyze energy consumption in buildings', 'predicting churn with the spss random tree algorithm', 'analyze energy consumption in buildings', 'healthcare python streaming application demo', 'predicting churn with the spss random tree algorithm', 'healthcare python streaming application demo', 'insights from new york car accident reports', 'insights from new york car accident reports', 'insights from new york car accident reports', 'insights from new york car accident reports', 'analyze energy consumption in buildings', 'finding optimal locations of new store using decision optimization', 'finding optimal locations of new store using decision optimization', 'analyze energy consumption in buildings', 'use xgboost, scikit-learn & ibm watson machine learning apis', 'healthcare python streaming application demo', 'visualize car data with brunel', 'apache spark lab, part 1: basic concepts', 'healthcare python streaming application demo', 'analyze energy consumption in buildings', 'finding optimal locations of new store using decision optimization', 'predicting churn with the spss random tree algorithm', 'gosales transactions for logistic regression model', 'predicting churn with the spss random tree algorithm', 'healthcare python streaming application demo', 'use deep learning for image classification', 'insights from new york car accident reports', 'healthcare python streaming application demo', 'insights from new york car accident reports', 'insights from new york car accident reports', 'use xgboost, scikit-learn & ibm watson machine learning apis', 'insights from new york car accident reports', 'healthcare python streaming application demo', 'healthcare python streaming application demo', 'healthcare python streaming application demo', 'analyze energy consumption in buildings', 'healthcare python streaming application demo', 'use xgboost, scikit-learn & ibm watson machine learning apis', 'finding optimal locations of new store using decision optimization', 'finding optimal locations of new store using decision optimization', 'finding optimal locations of new store using decision optimization', 'finding optimal locations of new store using decision optimization', 'apache spark lab, part 1: basic concepts', 'insights from new york car accident reports', 'insights from new york car accident reports', 'visualize car data with brunel', 'insights from new york car accident reports', 'insights from new york car accident reports', 'gosales transactions for logistic regression model', 'insights from new york car accident reports', 'apache spark lab, part 1: basic concepts', 'healthcare python streaming application demo', 'analyze energy consumption in buildings', 'use xgboost, scikit-learn & ibm watson machine learning apis', 'analyze energy consumption in buildings', 'insights from new york car accident reports', 'insights from new york car accident reports', 'apache spark lab, part 1: basic concepts', 'use xgboost, scikit-learn & ibm watson machine learning apis', 'use xgboost, scikit-learn & ibm watson machine learning apis', 'analyze energy consumption in buildings', 'analyze energy consumption in buildings', 'insights from new york car accident reports', 'insights from new york car accident reports', 'insights from new york car accident reports', 'healthcare python streaming application demo', 'apache spark lab, part 1: basic concepts', 'apache spark lab, part 1: basic concepts', 'apache spark lab, part 1: basic concepts', 'apache spark lab, part 1: basic concepts', 'gosales transactions for logistic regression model', 'predicting churn with the spss random tree algorithm', 'predicting churn with the spss random tree algorithm', 'gosales transactions for logistic regression model', 'gosales transactions for logistic regression model', 'predicting churn with the spss random tree algorithm', 'analyze energy consumption in buildings', 'use xgboost, scikit-learn & ibm watson machine learning apis', 'insights from new york car accident reports', 'insights from new york car accident reports', 'insights from new york car accident reports', 'use deep learning for image classification', 'healthcare python streaming application demo', 'gosales transactions for logistic regression model', 'insights from new york car accident reports', 'use xgboost, scikit-learn & ibm watson machine learning apis', 'insights from new york car accident reports', 'analyze energy consumption in buildings', 'analyze energy consumption in buildings', 'analyze energy consumption in buildings', 'analyze energy consumption in buildings', 'analyze energy consumption in buildings', 'analyze energy consumption in buildings', 'analyze energy consumption in buildings', 'healthcare python streaming application demo', 'insights from new york car accident reports', 'use deep learning for image classification', 'insights from new york car accident reports', 'analyze energy consumption in buildings', 'analyze energy consumption in buildings', 'insights from new york car accident reports', 'insights from new york car accident reports', 'predicting churn with the spss random tree algorithm', 'analyze energy consumption in buildings', 'visualize car data with brunel', 'visualize car data with brunel', 'finding optimal locations of new store using decision optimization', 'visualize car data with brunel', 'finding optimal locations of new store using decision optimization', 'insights from new york car accident reports', 'insights from new york car accident reports', 'insights from new york car accident reports', 'visualize car data with brunel', 'visualize car data with brunel', 'apache spark lab, part 1: basic concepts', 'gosales transactions for logistic regression model', 'use deep learning for image classification', 'use xgboost, scikit-learn & ibm watson machine learning apis', 'use deep learning for image classification', 'use deep learning for image classification', 'use deep learning for image classification', 'use deep learning for image classification', 'use deep learning for image classification', 'use deep learning for image classification', 'visualize car data with brunel', 'use deep learning for image classification', 'use deep learning for image classification', 'use deep learning for image classification', 'visualize car data with brunel', 'use deep learning for image classification', 'visualize car data with brunel', 'use deep learning for image classification', 'visualize car data with brunel', 'finding optimal locations of new store using decision optimization', 'use deep learning for image classification', 'insights from new york car accident reports', 'use deep learning for image classification', 'use deep learning for image classification', 'use deep learning for image classification', 'use deep learning for image classification', 'use deep learning for image classification', 'use deep learning for image classification', 'use deep learning for image classification', 'use deep learning for image classification', 'use deep learning for image classification', 'finding optimal locations of new store using decision optimization', 'visualize car data with brunel', 'visualize car data with brunel', 'use deep learning for image classification', 'visualize car data with brunel', 'use deep learning for image classification', 'healthcare python streaming application demo', 'use deep learning for image classification', 'use deep learning for image classification', 'healthcare python streaming application demo', 'insights from new york car accident reports', 'insights from new york car accident reports', 'apache spark lab, part 1: basic concepts', 'use xgboost, scikit-learn & ibm watson machine learning apis', 'insights from new york car accident reports', 'apache spark lab, part 1: basic concepts', 'apache spark lab, part 1: basic concepts', 'use deep learning for image classification', 'apache spark lab, part 1: basic concepts', 'apache spark lab, part 1: basic concepts', 'apache spark lab, part 1: basic concepts', 'apache spark lab, part 1: basic concepts', 'apache spark lab, part 1: basic concepts', 'apache spark lab, part 1: basic concepts', 'apache spark lab, part 1: basic concepts', 'apache spark lab, part 1: basic concepts', 'visualize car data with brunel', 'apache spark lab, part 1: basic concepts', 'visualize car data with brunel', 'apache spark lab, part 1: basic concepts', 'apache spark lab, part 1: basic concepts', 'apache spark lab, part 1: basic concepts', 'apache spark lab, part 1: basic concepts', 'apache spark lab, part 1: basic concepts', 'apache spark lab, part 1: basic concepts', 'visualize car data with brunel', 'apache spark lab, part 1: basic concepts', 'predicting churn with the spss random tree algorithm', 'apache spark lab, part 1: basic concepts', 'visualize car data with brunel', 'apache spark lab, part 1: basic concepts', 'apache spark lab, part 1: basic concepts', 'apache spark lab, part 1: basic concepts', 'apache spark lab, part 1: basic concepts', 'apache spark lab, part 1: basic concepts', 'visualize car data with brunel', 'visualize car data with brunel', 'apache spark lab, part 1: basic concepts', 'apache spark lab, part 1: basic concepts', 'apache spark lab, part 1: basic concepts', 'apache spark lab, part 1: basic concepts', 'apache spark lab, part 1: basic concepts', 'apache spark lab, part 1: basic concepts', 'apache spark lab, part 1: basic concepts', 'apache spark lab, part 1: basic concepts', 'apache spark lab, part 1: basic concepts', 'use deep learning for image classification', 'apache spark lab, part 1: basic concepts', 'apache spark lab, part 1: basic concepts', 'apache spark lab, part 1: basic concepts', 'visualize car data with brunel', 'insights from new york car accident reports', 'apache spark lab, part 1: basic concepts', 'apache spark lab, part 1: basic concepts', 'apache spark lab, part 1: basic concepts', 'apache spark lab, part 1: basic concepts', 'apache spark lab, part 1: basic concepts', 'finding optimal locations of new store using decision optimization', 'insights from new york car accident reports', 'insights from new york car accident reports', 'insights from new york car accident reports', 'insights from new york car accident reports', 'insights from new york car accident reports', 'insights from new york car accident reports', 'insights from new york car accident reports', 'insights from new york car accident reports', 'insights from new york car accident reports', 'predicting churn with the spss random tree algorithm', 'use xgboost, scikit-learn & ibm watson machine learning apis', 'insights from new york car accident reports', 'use xgboost, scikit-learn & ibm watson machine learning apis', 'healthcare python streaming application demo', 'predicting churn with the spss random tree algorithm', 'use xgboost, scikit-learn & ibm watson machine learning apis', 'use deep learning for image classification', 'analyze energy consumption in buildings', 'use xgboost, scikit-learn & ibm watson machine learning apis', 'visualize car data with brunel', 'visualize car data with brunel', 'use xgboost, scikit-learn & ibm watson machine learning apis', 'predicting churn with the spss random tree algorithm', 'use xgboost, scikit-learn & ibm watson machine learning apis', 'visualize car data with brunel', 'gosales transactions for logistic regression model', 'healthcare python streaming application demo', 'healthcare python streaming application demo', 'use deep learning for image classification', 'healthcare python streaming application demo', 'use xgboost, scikit-learn & ibm watson machine learning apis', 'predicting churn with the spss random tree algorithm', 'healthcare python streaming application demo', 'use deep learning for image classification', 'use xgboost, scikit-learn & ibm watson machine learning apis', 'use deep learning for image classification', 'analyze energy consumption in buildings', 'analyze energy consumption in buildings', 'predicting churn with the spss random tree algorithm', 'predicting churn with the spss random tree algorithm', 'visualize car data with brunel', 'use deep learning for image classification', 'gosales transactions for logistic regression model', 'analyze energy consumption in buildings', 'predicting churn with the spss random tree algorithm', 'use deep learning for image classification', 'gosales transactions for logistic regression model', 'use deep learning for image classification', 'healthcare python streaming application demo', 'finding optimal locations of new store using decision optimization', 'use deep learning for image classification', 'insights from new york car accident reports', 'finding optimal locations of new store using decision optimization', 'finding optimal locations of new store using decision optimization', 'predicting churn with the spss random tree algorithm', 'finding optimal locations of new store using decision optimization', 'visualize car data with brunel', 'use xgboost, scikit-learn & ibm watson machine learning apis', 'insights from new york car accident reports', 'use deep learning for image classification', 'predicting churn with the spss random tree algorithm', 'predicting churn with the spss random tree algorithm', 'use xgboost, scikit-learn & ibm watson machine learning apis', 'gosales transactions for logistic regression model', 'finding optimal locations of new store using decision optimization', 'gosales transactions for logistic regression model', 'use deep learning for image classification', 'use deep learning for image classification', 'insights from new york car accident reports', 'use deep learning for image classification', 'visualize car data with brunel', 'visualize car data with brunel', 'use deep learning for image classification', 'use deep learning for image classification', 'visualize car data with brunel', 'visualize car data with brunel', 'use deep learning for image classification', 'use deep learning for image classification', 'use deep learning for image classification', 'use deep learning for image classification', 'use deep learning for image classification', 'use deep learning for image classification', 'use deep learning for image classification', 'use deep learning for image classification', 'use deep learning for image classification', 'use deep learning for image classification', 'predicting churn with the spss random tree algorithm', 'predicting churn with the spss random tree algorithm', 'predicting churn with the spss random tree algorithm', 'predicting churn with the spss random tree algorithm', 'finding optimal locations of new store using decision optimization', 'predicting churn with the spss random tree algorithm', 'finding optimal locations of new store using decision optimization', 'finding optimal locations of new store using decision optimization', 'gosales transactions for logistic regression model', 'finding optimal locations of new store using decision optimization', 'use deep learning for image classification', 'use deep learning for image classification', 'use deep learning for image classification', 'predicting churn with the spss random tree algorithm', 'use deep learning for image classification', 'gosales transactions for logistic regression model', 'use xgboost, scikit-learn & ibm watson machine learning apis', 'finding optimal locations of new store using decision optimization', 'finding optimal locations of new store using decision optimization', 'finding optimal locations of new store using decision optimization', 'finding optimal locations of new store using decision optimization', 'finding optimal locations of new store using decision optimization', 'insights from new york car accident reports', 'insights from new york car accident reports', 'finding optimal locations of new store using decision optimization', 'finding optimal locations of new store using decision optimization', 'insights from new york car accident reports', 'apache spark lab, part 1: basic concepts', 'use deep learning for image classification', 'gosales transactions for logistic regression model', 'visualize car data with brunel', 'visualize car data with brunel', 'visualize car data with brunel', 'insights from new york car accident reports', 'visualize car data with brunel', 'predicting churn with the spss random tree algorithm', 'insights from new york car accident reports', 'insights from new york car accident reports', 'use xgboost, scikit-learn & ibm watson machine learning apis', 'use xgboost, scikit-learn & ibm watson machine learning apis', 'apache spark lab, part 1: basic concepts', 'analyze energy consumption in buildings', 'apache spark lab, part 1: basic concepts', 'apache spark lab, part 1: basic concepts', 'apache spark lab, part 1: basic concepts', 'use deep learning for image classification', 'use xgboost, scikit-learn & ibm watson machine learning apis', 'predicting churn with the spss random tree algorithm', 'visualize car data with brunel', 'visualize car data with brunel', 'apache spark lab, part 1: basic concepts', 'apache spark lab, part 1: basic concepts', 'apache spark lab, part 1: basic concepts', 'analyze energy consumption in buildings', 'apache spark lab, part 1: basic concepts', 'use deep learning for image classification', 'predicting churn with the spss random tree algorithm', 'use xgboost, scikit-learn & ibm watson machine learning apis', 'apache spark lab, part 1: basic concepts', 'apache spark lab, part 1: basic concepts', 'use xgboost, scikit-learn & ibm watson machine learning apis', 'apache spark lab, part 1: basic concepts', 'use xgboost, scikit-learn & ibm watson machine learning apis', 'apache spark lab, part 1: basic concepts', 'visualize car data with brunel', 'use deep learning for image classification', 'analyze energy consumption in buildings', 'apache spark lab, part 1: basic concepts', 'use deep learning for image classification', 'apache spark lab, part 1: basic concepts', 'apache spark lab, part 1: basic concepts', 'use deep learning for image classification', 'apache spark lab, part 1: basic concepts', 'predicting churn with the spss random tree algorithm', 'predicting churn with the spss random tree algorithm', 'predicting churn with the spss random tree algorithm', 'gosales transactions for logistic regression model', 'healthcare python streaming application demo', 'predicting churn with the spss random tree algorithm', 'use deep learning for image classification', 'insights from new york car accident reports', 'use deep learning for image classification', 'finding optimal locations of new store using decision optimization', 'gosales transactions for logistic regression model', 'use deep learning for image classification', 'finding optimal locations of new store using decision optimization', 'finding optimal locations of new store using decision optimization', 'gosales transactions for logistic regression model', 'use deep learning for image classification', 'predicting churn with the spss random tree algorithm', 'use xgboost, scikit-learn & ibm watson machine learning apis', 'insights from new york car accident reports', 'insights from new york car accident reports', 'healthcare python streaming application demo', 'healthcare python streaming application demo', 'healthcare python streaming application demo', 'use xgboost, scikit-learn & ibm watson machine learning apis', 'visualize car data with brunel', 'visualize car data with brunel', 'visualize car data with brunel', 'insights from new york car accident reports', 'predicting churn with the spss random tree algorithm', 'predicting churn with the spss random tree algorithm', 'use xgboost, scikit-learn & ibm watson machine learning apis', 'predicting churn with the spss random tree algorithm', 'predicting churn with the spss random tree algorithm', 'use deep learning for image classification', 'visualize car data with brunel', 'use deep learning for image classification', 'use deep learning for image classification', 'predicting churn with the spss random tree algorithm', 'use xgboost, scikit-learn & ibm watson machine learning apis', 'predicting churn with the spss random tree algorithm', 'apache spark lab, part 1: basic concepts', 'use deep learning for image classification', 'use deep learning for image classification', 'predicting churn with the spss random tree algorithm', 'visualize car data with brunel', 'gosales transactions for logistic regression model', 'predicting churn with the spss random tree algorithm', 'visualize car data with brunel', 'visualize car data with brunel', 'predicting churn with the spss random tree algorithm', 'predicting churn with the spss random tree algorithm', 'gosales transactions for logistic regression model', 'predicting churn with the spss random tree algorithm', 'predicting churn with the spss random tree algorithm', 'insights from new york car accident reports', 'insights from new york car accident reports', 'use xgboost, scikit-learn & ibm watson machine learning apis', 'insights from new york car accident reports', 'insights from new york car accident reports', 'use deep learning for image classification', 'insights from new york car accident reports', 'healthcare python streaming application demo', 'use xgboost, scikit-learn & ibm watson machine learning apis', 'insights from new york car accident reports', 'insights from new york car accident reports', 'insights from new york car accident reports', 'insights from new york car accident reports', 'insights from new york car accident reports', 'insights from new york car accident reports', 'analyze energy consumption in buildings', 'insights from new york car accident reports', 'insights from new york car accident reports', 'healthcare python streaming application demo', 'healthcare python streaming application demo', 'insights from new york car accident reports', 'insights from new york car accident reports', 'use deep learning for image classification', 'insights from new york car accident reports', 'insights from new york car accident reports', 'predicting churn with the spss random tree algorithm', 'insights from new york car accident reports', 'use xgboost, scikit-learn & ibm watson machine learning apis', 'insights from new york car accident reports', 'use xgboost, scikit-learn & ibm watson machine learning apis', 'use deep learning for image classification', 'predicting churn with the spss random tree algorithm', 'predicting churn with the spss random tree algorithm', 'predicting churn with the spss random tree algorithm', 'use xgboost, scikit-learn & ibm watson machine learning apis', 'use xgboost, scikit-learn & ibm watson machine learning apis', 'insights from new york car accident reports', 'healthcare python streaming application demo', 'insights from new york car accident reports', 'finding optimal locations of new store using decision optimization', 'use xgboost, scikit-learn & ibm watson machine learning apis', 'gosales transactions for logistic regression model', 'healthcare python streaming application demo', 'healthcare python streaming application demo', 'insights from new york car accident reports', 'healthcare python streaming application demo', 'use xgboost, scikit-learn & ibm watson machine learning apis', 'use xgboost, scikit-learn & ibm watson machine learning apis', 'healthcare python streaming application demo', 'finding optimal locations of new store using decision optimization', 'use deep learning for image classification', 'insights from new york car accident reports', 'insights from new york car accident reports', 'healthcare python streaming application demo', 'insights from new york car accident reports', 'use deep learning for image classification', 'finding optimal locations of new store using decision optimization', 'healthcare python streaming application demo', 'finding optimal locations of new store using decision optimization', 'use deep learning for image classification', 'apache spark lab, part 1: basic concepts', 'use deep learning for image classification', 'predicting churn with the spss random tree algorithm', 'use deep learning for image classification', 'finding optimal locations of new store using decision optimization', 'finding optimal locations of new store using decision optimization', 'finding optimal locations of new store using decision optimization', 'finding optimal locations of new store using decision optimization', 'analyze energy consumption in buildings', 'visualize car data with brunel', 'finding optimal locations of new store using decision optimization', 'visualize car data with brunel', 'finding optimal locations of new store using decision optimization', 'use deep learning for image classification', 'visualize car data with brunel', 'healthcare python streaming application demo', 'use deep learning for image classification', 'analyze energy consumption in buildings', 'analyze energy consumption in buildings', 'use deep learning for image classification', 'finding optimal locations of new store using decision optimization', 'healthcare python streaming application demo', 'use deep learning for image classification', 'analyze energy consumption in buildings', 'analyze energy consumption in buildings', 'insights from new york car accident reports', 'use deep learning for image classification', 'healthcare python streaming application demo', 'finding optimal locations of new store using decision optimization', 'apache spark lab, part 1: basic concepts', 'use deep learning for image classification', 'finding optimal locations of new store using decision optimization', 'apache spark lab, part 1: basic concepts', 'use deep learning for image classification', 'use deep learning for image classification', 'analyze energy consumption in buildings', 'use deep learning for image classification', 'apache spark lab, part 1: basic concepts', 'predicting churn with the spss random tree algorithm', 'finding optimal locations of new store using decision optimization', 'gosales transactions for logistic regression model', 'insights from new york car accident reports', 'insights from new york car accident reports', 'analyze energy consumption in buildings', 'gosales transactions for logistic regression model', 'apache spark lab, part 1: basic concepts', 'use deep learning for image classification', 'use deep learning for image classification', 'use deep learning for image classification', 'visualize car data with brunel', 'predicting churn with the spss random tree algorithm', 'gosales transactions for logistic regression model', 'analyze energy consumption in buildings', 'apache spark lab, part 1: basic concepts', 'insights from new york car accident reports', 'insights from new york car accident reports', 'gosales transactions for logistic regression model', 'insights from new york car accident reports', 'insights from new york car accident reports', 'healthcare python streaming application demo', 'healthcare python streaming application demo', 'healthcare python streaming application demo', 'healthcare python streaming application demo', 'healthcare python streaming application demo', 'healthcare python streaming application demo', 'healthcare python streaming application demo', 'healthcare python streaming application demo', 'insights from new york car accident reports', 'visualize car data with brunel', 'insights from new york car accident reports', 'insights from new york car accident reports', 'insights from new york car accident reports', 'insights from new york car accident reports', 'insights from new york car accident reports', 'insights from new york car accident reports', 'use xgboost, scikit-learn & ibm watson machine learning apis', 'use xgboost, scikit-learn & ibm watson machine learning apis', 'use xgboost, scikit-learn & ibm watson machine learning apis', 'apache spark lab, part 1: basic concepts', 'healthcare python streaming application demo', 'visualize car data with brunel', 'apache spark lab, part 1: basic concepts', 'finding optimal locations of new store using decision optimization', 'predicting churn with the spss random tree algorithm', 'analyze energy consumption in buildings', 'use xgboost, scikit-learn & ibm watson machine learning apis', 'finding optimal locations of new store using decision optimization', 'use xgboost, scikit-learn & ibm watson machine learning apis', 'use deep learning for image classification', 'finding optimal locations of new store using decision optimization', 'finding optimal locations of new store using decision optimization', 'visualize car data with brunel', 'visualize car data with brunel', 'visualize car data with brunel', 'visualize car data with brunel', 'analyze energy consumption in buildings', 'healthcare python streaming application demo', 'healthcare python streaming application demo', 'healthcare python streaming application demo', 'use xgboost, scikit-learn & ibm watson machine learning apis', 'healthcare python streaming application demo', 'use deep learning for image classification', 'apache spark lab, part 1: basic concepts', 'use xgboost, scikit-learn & ibm watson machine learning apis', 'healthcare python streaming application demo', 'insights from new york car accident reports', 'use xgboost, scikit-learn & ibm watson machine learning apis', 'use deep learning for image classification', 'use deep learning for image classification', 'insights from new york car accident reports', 'predicting churn with the spss random tree algorithm', 'healthcare python streaming application demo', 'predicting churn with the spss random tree algorithm', 'gosales transactions for logistic regression model', 'insights from new york car accident reports', 'use xgboost, scikit-learn & ibm watson machine learning apis', 'use xgboost, scikit-learn & ibm watson machine learning apis', 'use xgboost, scikit-learn & ibm watson machine learning apis', 'use xgboost, scikit-learn & ibm watson machine learning apis', 'use xgboost, scikit-learn & ibm watson machine learning apis', 'use xgboost, scikit-learn & ibm watson machine learning apis', 'use xgboost, scikit-learn & ibm watson machine learning apis', 'visualize car data with brunel', 'insights from new york car accident reports', 'insights from new york car accident reports', 'insights from new york car accident reports', 'insights from new york car accident reports', 'finding optimal locations of new store using decision optimization', 'finding optimal locations of new store using decision optimization', 'visualize car data with brunel', 'visualize car data with brunel', 'visualize car data with brunel', 'visualize car data with brunel', 'use deep learning for image classification', 'predicting churn with the spss random tree algorithm', 'gosales transactions for logistic regression model', 'visualize car data with brunel', 'gosales transactions for logistic regression model', 'analyze energy consumption in buildings', 'predicting churn with the spss random tree algorithm', 'insights from new york car accident reports', 'insights from new york car accident reports', 'predicting churn with the spss random tree algorithm', 'visualize car data with brunel', 'gosales transactions for logistic regression model', 'visualize car data with brunel', 'use deep learning for image classification', 'apache spark lab, part 1: basic concepts', 'use deep learning for image classification', 'use deep learning for image classification', 'predicting churn with the spss random tree algorithm', 'predicting churn with the spss random tree algorithm', 'insights from new york car accident reports', 'use deep learning for image classification', 'use xgboost, scikit-learn & ibm watson machine learning apis', 'insights from new york car accident reports', 'insights from new york car accident reports', 'use deep learning for image classification', 'healthcare python streaming application demo', 'gosales transactions for logistic regression model', 'apache spark lab, part 1: basic concepts', 'healthcare python streaming application demo', 'healthcare python streaming application demo', 'use deep learning for image classification', 'healthcare python streaming application demo', 'healthcare python streaming application demo', 'healthcare python streaming application demo', 'use deep learning for image classification', 'use xgboost, scikit-learn & ibm watson machine learning apis', 'apache spark lab, part 1: basic concepts', 'use xgboost, scikit-learn & ibm watson machine learning apis', 'use xgboost, scikit-learn & ibm watson machine learning apis', 'healthcare python streaming application demo', 'use deep learning for image classification', 'use xgboost, scikit-learn & ibm watson machine learning apis', 'healthcare python streaming application demo', 'use deep learning for image classification', 'healthcare python streaming application demo', 'predicting churn with the spss random tree algorithm', 'analyze energy consumption in buildings', 'analyze energy consumption in buildings', 'analyze energy consumption in buildings', 'use xgboost, scikit-learn & ibm watson machine learning apis', 'analyze energy consumption in buildings', 'insights from new york car accident reports', 'analyze energy consumption in buildings', 'use xgboost, scikit-learn & ibm watson machine learning apis', 'healthcare python streaming application demo', 'apache spark lab, part 1: basic concepts', 'insights from new york car accident reports', 'insights from new york car accident reports', 'predicting churn with the spss random tree algorithm', 'insights from new york car accident reports', 'use deep learning for image classification', 'use deep learning for image classification', 'predicting churn with the spss random tree algorithm', 'healthcare python streaming application demo', 'predicting churn with the spss random tree algorithm', 'insights from new york car accident reports', 'healthcare python streaming application demo', 'use xgboost, scikit-learn & ibm watson machine learning apis', 'finding optimal locations of new store using decision optimization', 'visualize car data with brunel', 'analyze energy consumption in buildings', 'analyze energy consumption in buildings', 'use xgboost, scikit-learn & ibm watson machine learning apis', 'healthcare python streaming application demo', 'finding optimal locations of new store using decision optimization', 'healthcare python streaming application demo', 'insights from new york car accident reports', 'healthcare python streaming application demo', 'use xgboost, scikit-learn & ibm watson machine learning apis', 'use deep learning for image classification', 'healthcare python streaming application demo', 'use deep learning for image classification', 'healthcare python streaming application demo', 'gosales transactions for logistic regression model', 'visualize car data with brunel', 'insights from new york car accident reports', 'apache spark lab, part 1: basic concepts', 'insights from new york car accident reports', 'analyze energy consumption in buildings', 'apache spark lab, part 1: basic concepts', 'analyze energy consumption in buildings', 'finding optimal locations of new store using decision optimization', 'healthcare python streaming application demo', 'healthcare python streaming application demo', 'healthcare python streaming application demo', 'healthcare python streaming application demo', 'healthcare python streaming application demo', 'healthcare python streaming application demo', 'healthcare python streaming application demo', 'healthcare python streaming application demo', 'healthcare python streaming application demo', 'healthcare python streaming application demo', 'healthcare python streaming application demo', 'visualize car data with brunel', 'analyze energy consumption in buildings', 'analyze energy consumption in buildings', 'analyze energy consumption in buildings', 'analyze energy consumption in buildings', 'analyze energy consumption in buildings', 'analyze energy consumption in buildings', 'use deep learning for image classification', 'insights from new york car accident reports', 'apache spark lab, part 1: basic concepts', 'apache spark lab, part 1: basic concepts', 'use deep learning for image classification', 'insights from new york car accident reports', 'use deep learning for image classification', 'use deep learning for image classification', 'analyze energy consumption in buildings', 'use deep learning for image classification', 'gosales transactions for logistic regression model', 'gosales transactions for logistic regression model', 'apache spark lab, part 1: basic concepts', 'insights from new york car accident reports', 'insights from new york car accident reports', 'insights from new york car accident reports', 'use deep learning for image classification', 'insights from new york car accident reports', 'insights from new york car accident reports', 'insights from new york car accident reports', 'insights from new york car accident reports', 'insights from new york car accident reports', 'visualize car data with brunel', 'use xgboost, scikit-learn & ibm watson machine learning apis', 'predicting churn with the spss random tree algorithm', 'visualize car data with brunel', 'visualize car data with brunel', 'insights from new york car accident reports', 'finding optimal locations of new store using decision optimization', 'use deep learning for image classification', 'apache spark lab, part 1: basic concepts', 'predicting churn with the spss random tree algorithm', 'use xgboost, scikit-learn & ibm watson machine learning apis', 'analyze energy consumption in buildings', 'use deep learning for image classification', 'analyze energy consumption in buildings', 'analyze energy consumption in buildings', 'insights from new york car accident reports', 'use deep learning for image classification', 'use xgboost, scikit-learn & ibm watson machine learning apis', 'use deep learning for image classification', 'predicting churn with the spss random tree algorithm', 'use deep learning for image classification', 'analyze energy consumption in buildings', 'predicting churn with the spss random tree algorithm', 'use deep learning for image classification', 'finding optimal locations of new store using decision optimization', 'predicting churn with the spss random tree algorithm', 'healthcare python streaming application demo', 'predicting churn with the spss random tree algorithm', 'insights from new york car accident reports', 'use deep learning for image classification', 'use deep learning for image classification', 'finding optimal locations of new store using decision optimization', 'predicting churn with the spss random tree algorithm', 'use deep learning for image classification', 'insights from new york car accident reports', 'insights from new york car accident reports', 'finding optimal locations of new store using decision optimization', 'analyze energy consumption in buildings', 'apache spark lab, part 1: basic concepts', 'healthcare python streaming application demo', 'analyze energy consumption in buildings', 'analyze energy consumption in buildings', 'use deep learning for image classification', 'analyze energy consumption in buildings', 'analyze energy consumption in buildings', 'analyze energy consumption in buildings', 'predicting churn with the spss random tree algorithm', 'predicting churn with the spss random tree algorithm', 'predicting churn with the spss random tree algorithm', 'predicting churn with the spss random tree algorithm', 'predicting churn with the spss random tree algorithm', 'apache spark lab, part 1: basic concepts', 'apache spark lab, part 1: basic concepts', 'healthcare python streaming application demo', 'gosales transactions for logistic regression model', 'use deep learning for image classification', 'visualize car data with brunel', 'analyze energy consumption in buildings', 'use deep learning for image classification', 'insights from new york car accident reports', 'predicting churn with the spss random tree algorithm', 'use deep learning for image classification', 'use deep learning for image classification', 'insights from new york car accident reports', 'predicting churn with the spss random tree algorithm', 'finding optimal locations of new store using decision optimization', 'finding optimal locations of new store using decision optimization', 'use deep learning for image classification', 'visualize car data with brunel', 'use deep learning for image classification', 'gosales transactions for logistic regression model', 'visualize car data with brunel', 'use deep learning for image classification', 'finding optimal locations of new store using decision optimization', 'use deep learning for image classification', 'use deep learning for image classification', 'use deep learning for image classification', 'use deep learning for image classification', 'analyze energy consumption in buildings', 'finding optimal locations of new store using decision optimization', 'use xgboost, scikit-learn & ibm watson machine learning apis', 'use deep learning for image classification', 'analyze energy consumption in buildings', 'finding optimal locations of new store using decision optimization', 'insights from new york car accident reports', 'visualize car data with brunel', 'use deep learning for image classification', 'use deep learning for image classification', 'use deep learning for image classification', 'finding optimal locations of new store using decision optimization', 'use deep learning for image classification', 'analyze energy consumption in buildings', 'finding optimal locations of new store using decision optimization', 'apache spark lab, part 1: basic concepts', 'finding optimal locations of new store using decision optimization', 'visualize car data with brunel', 'use deep learning for image classification', 'use deep learning for image classification', 'use deep learning for image classification', 'analyze energy consumption in buildings', 'finding optimal locations of new store using decision optimization', 'use deep learning for image classification', 'use deep learning for image classification', 'finding optimal locations of new store using decision optimization', 'insights from new york car accident reports', 'use deep learning for image classification', 'healthcare python streaming application demo', 'use deep learning for image classification', 'analyze energy consumption in buildings', 'use deep learning for image classification', 'finding optimal locations of new store using decision optimization', 'finding optimal locations of new store using decision optimization', 'use deep learning for image classification', 'visualize car data with brunel', 'finding optimal locations of new store using decision optimization', 'use deep learning for image classification', 'use deep learning for image classification', 'finding optimal locations of new store using decision optimization', 'predicting churn with the spss random tree algorithm', 'finding optimal locations of new store using decision optimization', 'use deep learning for image classification', 'finding optimal locations of new store using decision optimization', 'use deep learning for image classification', 'insights from new york car accident reports', 'visualize car data with brunel', 'gosales transactions for logistic regression model', 'use deep learning for image classification', 'insights from new york car accident reports', 'analyze energy consumption in buildings', 'insights from new york car accident reports', 'use deep learning for image classification', 'analyze energy consumption in buildings', 'use deep learning for image classification', 'use deep learning for image classification', 'analyze energy consumption in buildings', 'use deep learning for image classification', 'use deep learning for image classification', 'visualize car data with brunel', 'visualize car data with brunel', 'use xgboost, scikit-learn & ibm watson machine learning apis', 'insights from new york car accident reports', 'healthcare python streaming application demo', 'visualize car data with brunel', 'use xgboost, scikit-learn & ibm watson machine learning apis', 'predicting churn with the spss random tree algorithm', 'predicting churn with the spss random tree algorithm', 'finding optimal locations of new store using decision optimization', 'visualize car data with brunel', 'predicting churn with the spss random tree algorithm', 'finding optimal locations of new store using decision optimization', 'finding optimal locations of new store using decision optimization', 'predicting churn with the spss random tree algorithm', 'finding optimal locations of new store using decision optimization', 'finding optimal locations of new store using decision optimization', 'finding optimal locations of new store using decision optimization', 'insights from new york car accident reports', 'finding optimal locations of new store using decision optimization', 'predicting churn with the spss random tree algorithm', 'finding optimal locations of new store using decision optimization', 'finding optimal locations of new store using decision optimization', 'finding optimal locations of new store using decision optimization', 'finding optimal locations of new store using decision optimization', 'predicting churn with the spss random tree algorithm', 'predicting churn with the spss random tree algorithm', 'predicting churn with the spss random tree algorithm', 'apache spark lab, part 1: basic concepts', 'apache spark lab, part 1: basic concepts', 'finding optimal locations of new store using decision optimization', 'analyze energy consumption in buildings', 'finding optimal locations of new store using decision optimization', 'finding optimal locations of new store using decision optimization', 'gosales transactions for logistic regression model', 'predicting churn with the spss random tree algorithm', 'visualize car data with brunel', 'healthcare python streaming application demo', 'insights from new york car accident reports', 'insights from new york car accident reports', 'use deep learning for image classification', 'finding optimal locations of new store using decision optimization', 'visualize car data with brunel', 'use deep learning for image classification', 'use deep learning for image classification', 'predicting churn with the spss random tree algorithm', 'visualize car data with brunel', 'finding optimal locations of new store using decision optimization', 'use deep learning for image classification', 'use deep learning for image classification', 'use deep learning for image classification', 'finding optimal locations of new store using decision optimization', 'visualize car data with brunel', 'visualize car data with brunel', 'finding optimal locations of new store using decision optimization', 'visualize car data with brunel', 'visualize car data with brunel', 'visualize car data with brunel', 'visualize car data with brunel', 'visualize car data with brunel', 'visualize car data with brunel', 'finding optimal locations of new store using decision optimization', 'finding optimal locations of new store using decision optimization', 'use deep learning for image classification', 'visualize car data with brunel', 'use deep learning for image classification', 'finding optimal locations of new store using decision optimization', 'visualize car data with brunel', 'visualize car data with brunel', 'visualize car data with brunel', 'visualize car data with brunel', 'visualize car data with brunel', 'finding optimal locations of new store using decision optimization', 'finding optimal locations of new store using decision optimization', 'finding optimal locations of new store using decision optimization', 'finding optimal locations of new store using decision optimization', 'visualize car data with brunel', 'use deep learning for image classification', 'finding optimal locations of new store using decision optimization', 'finding optimal locations of new store using decision optimization', 'use deep learning for image classification', 'visualize car data with brunel', 'finding optimal locations of new store using decision optimization', 'use xgboost, scikit-learn & ibm watson machine learning apis', 'apache spark lab, part 1: basic concepts', 'finding optimal locations of new store using decision optimization', 'use deep learning for image classification', 'insights from new york car accident reports', 'insights from new york car accident reports', 'predicting churn with the spss random tree algorithm', 'healthcare python streaming application demo', 'healthcare python streaming application demo', 'predicting churn with the spss random tree algorithm', 'gosales transactions for logistic regression model', 'analyze energy consumption in buildings', 'analyze energy consumption in buildings', 'predicting churn with the spss random tree algorithm', 'analyze energy consumption in buildings', 'analyze energy consumption in buildings', 'insights from new york car accident reports', 'insights from new york car accident reports', 'visualize car data with brunel', 'insights from new york car accident reports', 'analyze energy consumption in buildings', 'analyze energy consumption in buildings', 'gosales transactions for logistic regression model', 'analyze energy consumption in buildings', 'analyze energy consumption in buildings', 'analyze energy consumption in buildings', 'use deep learning for image classification', 'healthcare python streaming application demo', 'insights from new york car accident reports', 'apache spark lab, part 1: basic concepts', 'insights from new york car accident reports', 'apache spark lab, part 1: basic concepts', 'apache spark lab, part 1: basic concepts', 'apache spark lab, part 1: basic concepts', 'apache spark lab, part 1: basic concepts', 'insights from new york car accident reports', 'insights from new york car accident reports', 'apache spark lab, part 1: basic concepts', 'apache spark lab, part 1: basic concepts', 'insights from new york car accident reports', 'apache spark lab, part 1: basic concepts', 'apache spark lab, part 1: basic concepts', 'predicting churn with the spss random tree algorithm', 'gosales transactions for logistic regression model', 'gosales transactions for logistic regression model', 'apache spark lab, part 1: basic concepts', 'visualize car data with brunel', 'use deep learning for image classification', 'gosales transactions for logistic regression model', 'apache spark lab, part 1: basic concepts', 'gosales transactions for logistic regression model', 'gosales transactions for logistic regression model', 'healthcare python streaming application demo', 'predicting churn with the spss random tree algorithm', 'analyze energy consumption in buildings', 'insights from new york car accident reports', 'insights from new york car accident reports', 'insights from new york car accident reports', 'use deep learning for image classification', 'insights from new york car accident reports', 'finding optimal locations of new store using decision optimization', 'analyze energy consumption in buildings', 'use xgboost, scikit-learn & ibm watson machine learning apis', 'use xgboost, scikit-learn & ibm watson machine learning apis', 'use deep learning for image classification', 'use xgboost, scikit-learn & ibm watson machine learning apis', 'analyze energy consumption in buildings', 'use deep learning for image classification', 'use xgboost, scikit-learn & ibm watson machine learning apis', 'analyze energy consumption in buildings', 'use xgboost, scikit-learn & ibm watson machine learning apis', 'use deep learning for image classification', 'predicting churn with the spss random tree algorithm', 'healthcare python streaming application demo', 'visualize car data with brunel', 'use xgboost, scikit-learn & ibm watson machine learning apis', 'analyze energy consumption in buildings', 'finding optimal locations of new store using decision optimization', 'predicting churn with the spss random tree algorithm', 'use deep learning for image classification', 'use xgboost, scikit-learn & ibm watson machine learning apis', 'visualize car data with brunel', 'visualize car data with brunel', 'visualize car data with brunel', 'gosales transactions for logistic regression model', 'healthcare python streaming application demo', 'predicting churn with the spss random tree algorithm', 'use xgboost, scikit-learn & ibm watson machine learning apis', 'use xgboost, scikit-learn & ibm watson machine learning apis', 'predicting churn with the spss random tree algorithm', 'use deep learning for image classification', 'analyze energy consumption in buildings', 'predicting churn with the spss random tree algorithm', 'use xgboost, scikit-learn & ibm watson machine learning apis', 'use xgboost, scikit-learn & ibm watson machine learning apis', 'use xgboost, scikit-learn & ibm watson machine learning apis', 'use xgboost, scikit-learn & ibm watson machine learning apis', 'finding optimal locations of new store using decision optimization', 'finding optimal locations of new store using decision optimization', 'use deep learning for image classification', 'finding optimal locations of new store using decision optimization', 'finding optimal locations of new store using decision optimization', 'use deep learning for image classification', 'finding optimal locations of new store using decision optimization', 'use deep learning for image classification', 'use deep learning for image classification', 'insights from new york car accident reports', 'predicting churn with the spss random tree algorithm', 'analyze energy consumption in buildings', 'finding optimal locations of new store using decision optimization', 'predicting churn with the spss random tree algorithm', 'use deep learning for image classification', 'finding optimal locations of new store using decision optimization', 'finding optimal locations of new store using decision optimization', 'use deep learning for image classification', 'analyze energy consumption in buildings', 'visualize car data with brunel', 'insights from new york car accident reports', 'use deep learning for image classification', 'healthcare python streaming application demo', 'predicting churn with the spss random tree algorithm', 'healthcare python streaming application demo', 'use xgboost, scikit-learn & ibm watson machine learning apis', 'analyze energy consumption in buildings', 'predicting churn with the spss random tree algorithm', 'visualize car data with brunel', 'gosales transactions for logistic regression model', 'healthcare python streaming application demo', 'insights from new york car accident reports', 'insights from new york car accident reports', 'apache spark lab, part 1: basic concepts', 'healthcare python streaming application demo', 'apache spark lab, part 1: basic concepts', 'finding optimal locations of new store using decision optimization', 'finding optimal locations of new store using decision optimization', 'finding optimal locations of new store using decision optimization', 'use xgboost, scikit-learn & ibm watson machine learning apis', 'use xgboost, scikit-learn & ibm watson machine learning apis', 'use xgboost, scikit-learn & ibm watson machine learning apis', 'finding optimal locations of new store using decision optimization', 'finding optimal locations of new store using decision optimization', 'finding optimal locations of new store using decision optimization', 'predicting churn with the spss random tree algorithm', 'visualize car data with brunel', 'predicting churn with the spss random tree algorithm', 'visualize car data with brunel', 'predicting churn with the spss random tree algorithm', 'finding optimal locations of new store using decision optimization', 'use deep learning for image classification', 'use deep learning for image classification', 'use xgboost, scikit-learn & ibm watson machine learning apis', 'use xgboost, scikit-learn & ibm watson machine learning apis', 'use xgboost, scikit-learn & ibm watson machine learning apis', 'use xgboost, scikit-learn & ibm watson machine learning apis', 'use xgboost, scikit-learn & ibm watson machine learning apis', 'use deep learning for image classification', 'use deep learning for image classification', 'use xgboost, scikit-learn & ibm watson machine learning apis', 'use deep learning for image classification', 'use xgboost, scikit-learn & ibm watson machine learning apis', 'healthcare python streaming application demo', 'healthcare python streaming application demo', 'use deep learning for image classification', 'healthcare python streaming application demo', 'use xgboost, scikit-learn & ibm watson machine learning apis', 'use xgboost, scikit-learn & ibm watson machine learning apis', 'use xgboost, scikit-learn & ibm watson machine learning apis', 'use xgboost, scikit-learn & ibm watson machine learning apis', 'visualize car data with brunel', 'apache spark lab, part 1: basic concepts', 'insights from new york car accident reports', 'use deep learning for image classification', 'use xgboost, scikit-learn & ibm watson machine learning apis', 'use xgboost, scikit-learn & ibm watson machine learning apis', 'use xgboost, scikit-learn & ibm watson machine learning apis', 'use deep learning for image classification', 'apache spark lab, part 1: basic concepts', 'use xgboost, scikit-learn & ibm watson machine learning apis', 'use xgboost, scikit-learn & ibm watson machine learning apis', 'use xgboost, scikit-learn & ibm watson machine learning apis', 'use deep learning for image classification', 'healthcare python streaming application demo', 'predicting churn with the spss random tree algorithm', 'gosales transactions for logistic regression model', 'insights from new york car accident reports', 'finding optimal locations of new store using decision optimization', 'use xgboost, scikit-learn & ibm watson machine learning apis', 'use xgboost, scikit-learn & ibm watson machine learning apis', 'visualize car data with brunel', 'apache spark lab, part 1: basic concepts', 'use xgboost, scikit-learn & ibm watson machine learning apis', 'apache spark lab, part 1: basic concepts', 'use xgboost, scikit-learn & ibm watson machine learning apis', 'use deep learning for image classification', 'use xgboost, scikit-learn & ibm watson machine learning apis', 'finding optimal locations of new store using decision optimization', 'healthcare python streaming application demo', 'use deep learning for image classification', 'visualize car data with brunel', 'visualize car data with brunel', 'visualize car data with brunel', 'visualize car data with brunel', 'predicting churn with the spss random tree algorithm', 'predicting churn with the spss random tree algorithm', 'visualize car data with brunel', 'apache spark lab, part 1: basic concepts', 'use xgboost, scikit-learn & ibm watson machine learning apis', 'apache spark lab, part 1: basic concepts', 'finding optimal locations of new store using decision optimization', 'visualize car data with brunel', 'use deep learning for image classification', 'predicting churn with the spss random tree algorithm', 'use deep learning for image classification', 'apache spark lab, part 1: basic concepts', 'visualize car data with brunel', 'use deep learning for image classification', 'visualize car data with brunel', 'use deep learning for image classification', 'apache spark lab, part 1: basic concepts', 'insights from new york car accident reports', 'use xgboost, scikit-learn & ibm watson machine learning apis', 'use xgboost, scikit-learn & ibm watson machine learning apis', 'visualize car data with brunel', 'visualize car data with brunel', 'finding optimal locations of new store using decision optimization', 'insights from new york car accident reports', 'predicting churn with the spss random tree algorithm', 'use deep learning for image classification', 'analyze energy consumption in buildings', 'predicting churn with the spss random tree algorithm', 'apache spark lab, part 1: basic concepts', 'apache spark lab, part 1: basic concepts', 'use xgboost, scikit-learn & ibm watson machine learning apis', 'insights from new york car accident reports', 'visualize car data with brunel', 'visualize car data with brunel', 'insights from new york car accident reports', 'predicting churn with the spss random tree algorithm', 'insights from new york car accident reports', 'use xgboost, scikit-learn & ibm watson machine learning apis', 'use deep learning for image classification', 'healthcare python streaming application demo', 'use deep learning for image classification', 'visualize car data with brunel', 'gosales transactions for logistic regression model', 'apache spark lab, part 1: basic concepts', 'use deep learning for image classification', 'insights from new york car accident reports', 'gosales transactions for logistic regression model', 'predicting churn with the spss random tree algorithm', 'use deep learning for image classification', 'visualize car data with brunel', 'visualize car data with brunel', 'apache spark lab, part 1: basic concepts', 'gosales transactions for logistic regression model', 'insights from new york car accident reports', 'healthcare python streaming application demo', 'insights from new york car accident reports', 'predicting churn with the spss random tree algorithm', 'predicting churn with the spss random tree algorithm', 'use deep learning for image classification', 'predicting churn with the spss random tree algorithm', 'visualize car data with brunel', 'visualize car data with brunel', 'analyze energy consumption in buildings', 'finding optimal locations of new store using decision optimization', 'finding optimal locations of new store using decision optimization', 'predicting churn with the spss random tree algorithm', 'gosales transactions for logistic regression model', 'finding optimal locations of new store using decision optimization', 'gosales transactions for logistic regression model', 'finding optimal locations of new store using decision optimization', 'gosales transactions for logistic regression model', 'gosales transactions for logistic regression model', 'gosales transactions for logistic regression model', 'use deep learning for image classification', 'insights from new york car accident reports', 'insights from new york car accident reports', 'analyze energy consumption in buildings', 'healthcare python streaming application demo', 'visualize car data with brunel', 'visualize car data with brunel', 'visualize car data with brunel', 'apache spark lab, part 1: basic concepts', 'gosales transactions for logistic regression model', 'gosales transactions for logistic regression model', 'gosales transactions for logistic regression model', 'use deep learning for image classification', 'predicting churn with the spss random tree algorithm', 'apache spark lab, part 1: basic concepts', 'predicting churn with the spss random tree algorithm', 'use deep learning for image classification', 'apache spark lab, part 1: basic concepts', 'use deep learning for image classification', 'predicting churn with the spss random tree algorithm', 'predicting churn with the spss random tree algorithm', 'predicting churn with the spss random tree algorithm', 'visualize car data with brunel', 'analyze energy consumption in buildings', 'healthcare python streaming application demo', 'healthcare python streaming application demo', 'insights from new york car accident reports', 'insights from new york car accident reports', 'insights from new york car accident reports', 'healthcare python streaming application demo', 'healthcare python streaming application demo', 'healthcare python streaming application demo', 'insights from new york car accident reports', 'insights from new york car accident reports', 'healthcare python streaming application demo', 'use xgboost, scikit-learn & ibm watson machine learning apis', 'use xgboost, scikit-learn & ibm watson machine learning apis', 'insights from new york car accident reports', 'use xgboost, scikit-learn & ibm watson machine learning apis', 'insights from new york car accident reports', 'insights from new york car accident reports', 'use deep learning for image classification', 'use deep learning for image classification', 'use deep learning for image classification', 'use deep learning for image classification', 'use deep learning for image classification', 'gosales transactions for logistic regression model', 'use deep learning for image classification', 'use xgboost, scikit-learn & ibm watson machine learning apis', 'visualize car data with brunel', 'use deep learning for image classification', 'use deep learning for image classification', 'use deep learning for image classification', 'insights from new york car accident reports', 'use deep learning for image classification', 'gosales transactions for logistic regression model', 'use deep learning for image classification', 'gosales transactions for logistic regression model', 'predicting churn with the spss random tree algorithm', 'use xgboost, scikit-learn & ibm watson machine learning apis', 'use deep learning for image classification', 'apache spark lab, part 1: basic concepts', 'apache spark lab, part 1: basic concepts', 'use deep learning for image classification', 'gosales transactions for logistic regression model', 'apache spark lab, part 1: basic concepts', 'use xgboost, scikit-learn & ibm watson machine learning apis', 'use deep learning for image classification', 'insights from new york car accident reports', 'insights from new york car accident reports', 'healthcare python streaming application demo', 'insights from new york car accident reports', 'analyze energy consumption in buildings', 'use xgboost, scikit-learn & ibm watson machine learning apis', 'healthcare python streaming application demo', 'healthcare python streaming application demo', 'healthcare python streaming application demo', 'predicting churn with the spss random tree algorithm', 'gosales transactions for logistic regression model', 'gosales transactions for logistic regression model', 'gosales transactions for logistic regression model', 'use xgboost, scikit-learn & ibm watson machine learning apis', 'use xgboost, scikit-learn & ibm watson machine learning apis', 'healthcare python streaming application demo', 'predicting churn with the spss random tree algorithm', 'predicting churn with the spss random tree algorithm', 'healthcare python streaming application demo', 'use deep learning for image classification', 'predicting churn with the spss random tree algorithm', 'finding optimal locations of new store using decision optimization', 'use deep learning for image classification', 'finding optimal locations of new store using decision optimization', 'finding optimal locations of new store using decision optimization', 'use deep learning for image classification', 'finding optimal locations of new store using decision optimization', 'use xgboost, scikit-learn & ibm watson machine learning apis', 'use deep learning for image classification', 'use deep learning for image classification', 'insights from new york car accident reports', 'visualize car data with brunel', 'visualize car data with brunel', 'predicting churn with the spss random tree algorithm', 'visualize car data with brunel', 'insights from new york car accident reports', 'predicting churn with the spss random tree algorithm', 'visualize car data with brunel', 'insights from new york car accident reports', 'finding optimal locations of new store using decision optimization', 'finding optimal locations of new store using decision optimization', 'use xgboost, scikit-learn & ibm watson machine learning apis', 'use xgboost, scikit-learn & ibm watson machine learning apis', 'visualize car data with brunel', 'use xgboost, scikit-learn & ibm watson machine learning apis', 'healthcare python streaming application demo', 'use xgboost, scikit-learn & ibm watson machine learning apis', 'use xgboost, scikit-learn & ibm watson machine learning apis', 'use xgboost, scikit-learn & ibm watson machine learning apis', 'use xgboost, scikit-learn & ibm watson machine learning apis', 'use xgboost, scikit-learn & ibm watson machine learning apis', 'use xgboost, scikit-learn & ibm watson machine learning apis', 'use xgboost, scikit-learn & ibm watson machine learning apis', 'healthcare python streaming application demo', 'visualize car data with brunel', 'insights from new york car accident reports', 'visualize car data with brunel', 'analyze energy consumption in buildings', 'use xgboost, scikit-learn & ibm watson machine learning apis', 'gosales transactions for logistic regression model', 'insights from new york car accident reports', 'gosales transactions for logistic regression model', 'use deep learning for image classification', 'use xgboost, scikit-learn & ibm watson machine learning apis', 'gosales transactions for logistic regression model', 'insights from new york car accident reports', 'visualize car data with brunel', 'gosales transactions for logistic regression model', 'gosales transactions for logistic regression model', 'analyze energy consumption in buildings', 'finding optimal locations of new store using decision optimization', 'gosales transactions for logistic regression model', 'finding optimal locations of new store using decision optimization', 'insights from new york car accident reports', 'finding optimal locations of new store using decision optimization', 'healthcare python streaming application demo', 'use deep learning for image classification', 'finding optimal locations of new store using decision optimization', 'apache spark lab, part 1: basic concepts', 'finding optimal locations of new store using decision optimization', 'predicting churn with the spss random tree algorithm', 'finding optimal locations of new store using decision optimization', 'insights from new york car accident reports', 'apache spark lab, part 1: basic concepts', 'use deep learning for image classification', 'use deep learning for image classification', 'gosales transactions for logistic regression model', 'insights from new york car accident reports', 'finding optimal locations of new store using decision optimization', 'healthcare python streaming application demo', 'use xgboost, scikit-learn & ibm watson machine learning apis', 'visualize car data with brunel', 'use deep learning for image classification', 'use deep learning for image classification', 'finding optimal locations of new store using decision optimization', 'use xgboost, scikit-learn & ibm watson machine learning apis', 'use xgboost, scikit-learn & ibm watson machine learning apis', 'use xgboost, scikit-learn & ibm watson machine learning apis', 'healthcare python streaming application demo', 'use deep learning for image classification', 'use xgboost, scikit-learn & ibm watson machine learning apis', 'use deep learning for image classification', 'use deep learning for image classification', 'finding optimal locations of new store using decision optimization', 'use deep learning for image classification', 'use deep learning for image classification', 'use deep learning for image classification', 'apache spark lab, part 1: basic concepts', 'use xgboost, scikit-learn & ibm watson machine learning apis', 'use deep learning for image classification', 'use deep learning for image classification', 'use deep learning for image classification', 'use xgboost, scikit-learn & ibm watson machine learning apis', 'use xgboost, scikit-learn & ibm watson machine learning apis', 'use xgboost, scikit-learn & ibm watson machine learning apis', 'use xgboost, scikit-learn & ibm watson machine learning apis', 'use deep learning for image classification', 'use xgboost, scikit-learn & ibm watson machine learning apis', 'finding optimal locations of new store using decision optimization', 'finding optimal locations of new store using decision optimization', 'finding optimal locations of new store using decision optimization', 'use xgboost, scikit-learn & ibm watson machine learning apis', 'finding optimal locations of new store using decision optimization', 'finding optimal locations of new store using decision optimization', 'finding optimal locations of new store using decision optimization', 'use deep learning for image classification', 'use xgboost, scikit-learn & ibm watson machine learning apis', 'use xgboost, scikit-learn & ibm watson machine learning apis', 'use deep learning for image classification', 'finding optimal locations of new store using decision optimization', 'use xgboost, scikit-learn & ibm watson machine learning apis', 'visualize car data with brunel', 'use xgboost, scikit-learn & ibm watson machine learning apis', 'use deep learning for image classification', 'use xgboost, scikit-learn & ibm watson machine learning apis', 'healthcare python streaming application demo', 'healthcare python streaming application demo', 'apache spark lab, part 1: basic concepts', 'visualize car data with brunel', 'analyze energy consumption in buildings', 'insights from new york car accident reports', 'insights from new york car accident reports', 'healthcare python streaming application demo', 'use xgboost, scikit-learn & ibm watson machine learning apis', 'healthcare python streaming application demo', 'use xgboost, scikit-learn & ibm watson machine learning apis', 'predicting churn with the spss random tree algorithm', 'analyze energy consumption in buildings', 'analyze energy consumption in buildings', 'analyze energy consumption in buildings', 'use deep learning for image classification', 'use deep learning for image classification', 'use deep learning for image classification', 'use deep learning for image classification', 'use deep learning for image classification', 'analyze energy consumption in buildings', 'use deep learning for image classification', 'use deep learning for image classification', 'use deep learning for image classification', 'healthcare python streaming application demo', 'use deep learning for image classification', 'healthcare python streaming application demo', 'visualize car data with brunel', 'visualize car data with brunel', 'visualize car data with brunel', 'insights from new york car accident reports', 'insights from new york car accident reports', 'insights from new york car accident reports', 'insights from new york car accident reports', 'insights from new york car accident reports', 'insights from new york car accident reports', 'insights from new york car accident reports', 'visualize car data with brunel', 'visualize car data with brunel', 'insights from new york car accident reports', 'insights from new york car accident reports', 'insights from new york car accident reports', 'insights from new york car accident reports', 'insights from new york car accident reports', 'apache spark lab, part 1: basic concepts', 'gosales transactions for logistic regression model', 'gosales transactions for logistic regression model', 'insights from new york car accident reports', 'gosales transactions for logistic regression model', 'apache spark lab, part 1: basic concepts', 'visualize car data with brunel', 'use deep learning for image classification', 'visualize car data with brunel', 'use deep learning for image classification', 'visualize car data with brunel', 'healthcare python streaming application demo', 'apache spark lab, part 1: basic concepts', 'use xgboost, scikit-learn & ibm watson machine learning apis', 'apache spark lab, part 1: basic concepts', 'visualize car data with brunel', 'use xgboost, scikit-learn & ibm watson machine learning apis', 'use xgboost, scikit-learn & ibm watson machine learning apis', 'use deep learning for image classification', 'use deep learning for image classification', 'use deep learning for image classification', 'use xgboost, scikit-learn & ibm watson machine learning apis', 'finding optimal locations of new store using decision optimization', 'predicting churn with the spss random tree algorithm', 'analyze energy consumption in buildings', 'use deep learning for image classification', 'apache spark lab, part 1: basic concepts', 'use deep learning for image classification', 'finding optimal locations of new store using decision optimization', 'predicting churn with the spss random tree algorithm', 'use xgboost, scikit-learn & ibm watson machine learning apis', 'use xgboost, scikit-learn & ibm watson machine learning apis', 'gosales transactions for logistic regression model', 'use xgboost, scikit-learn & ibm watson machine learning apis', 'insights from new york car accident reports', 'use deep learning for image classification', 'predicting churn with the spss random tree algorithm', 'apache spark lab, part 1: basic concepts', 'apache spark lab, part 1: basic concepts', 'finding optimal locations of new store using decision optimization', 'use xgboost, scikit-learn & ibm watson machine learning apis', 'insights from new york car accident reports', 'use deep learning for image classification', 'use xgboost, scikit-learn & ibm watson machine learning apis', 'apache spark lab, part 1: basic concepts', 'analyze energy consumption in buildings', 'use deep learning for image classification', 'use xgboost, scikit-learn & ibm watson machine learning apis', 'use deep learning for image classification', 'predicting churn with the spss random tree algorithm', 'predicting churn with the spss random tree algorithm', 'gosales transactions for logistic regression model', 'predicting churn with the spss random tree algorithm', 'predicting churn with the spss random tree algorithm', 'predicting churn with the spss random tree algorithm', 'apache spark lab, part 1: basic concepts', 'apache spark lab, part 1: basic concepts', 'use deep learning for image classification', 'use deep learning for image classification', 'apache spark lab, part 1: basic concepts', 'gosales transactions for logistic regression model', 'healthcare python streaming application demo', 'gosales transactions for logistic regression model', 'analyze energy consumption in buildings', 'use xgboost, scikit-learn & ibm watson machine learning apis', 'healthcare python streaming application demo', 'gosales transactions for logistic regression model', 'analyze energy consumption in buildings', 'use deep learning for image classification', 'apache spark lab, part 1: basic concepts', 'analyze energy consumption in buildings', 'healthcare python streaming application demo', 'healthcare python streaming application demo', 'predicting churn with the spss random tree algorithm', 'predicting churn with the spss random tree algorithm', 'healthcare python streaming application demo', 'healthcare python streaming application demo', 'healthcare python streaming application demo', 'use xgboost, scikit-learn & ibm watson machine learning apis', 'use xgboost, scikit-learn & ibm watson machine learning apis', 'use xgboost, scikit-learn & ibm watson machine learning apis', 'use xgboost, scikit-learn & ibm watson machine learning apis', 'use xgboost, scikit-learn & ibm watson machine learning apis', 'predicting churn with the spss random tree algorithm', 'apache spark lab, part 1: basic concepts', 'apache spark lab, part 1: basic concepts', 'apache spark lab, part 1: basic concepts', 'apache spark lab, part 1: basic concepts', 'gosales transactions for logistic regression model', 'gosales transactions for logistic regression model', 'gosales transactions for logistic regression model', 'gosales transactions for logistic regression model', 'gosales transactions for logistic regression model', 'use deep learning for image classification', 'use deep learning for image classification', 'healthcare python streaming application demo', 'gosales transactions for logistic regression model', 'gosales transactions for logistic regression model', 'predicting churn with the spss random tree algorithm', 'predicting churn with the spss random tree algorithm', 'predicting churn with the spss random tree algorithm', 'gosales transactions for logistic regression model', 'predicting churn with the spss random tree algorithm', 'predicting churn with the spss random tree algorithm', 'insights from new york car accident reports', 'insights from new york car accident reports', 'gosales transactions for logistic regression model', 'finding optimal locations of new store using decision optimization', 'use deep learning for image classification', 'use deep learning for image classification', 'use deep learning for image classification', 'insights from new york car accident reports', 'healthcare python streaming application demo', 'analyze energy consumption in buildings', 'visualize car data with brunel', 'predicting churn with the spss random tree algorithm', 'analyze energy consumption in buildings', 'analyze energy consumption in buildings', 'analyze energy consumption in buildings', 'analyze energy consumption in buildings', 'analyze energy consumption in buildings', 'analyze energy consumption in buildings', 'analyze energy consumption in buildings', 'use deep learning for image classification', 'insights from new york car accident reports', 'predicting churn with the spss random tree algorithm', 'insights from new york car accident reports', 'insights from new york car accident reports', 'gosales transactions for logistic regression model', 'healthcare python streaming application demo', 'use deep learning for image classification', 'insights from new york car accident reports', 'visualize car data with brunel', 'predicting churn with the spss random tree algorithm', 'apache spark lab, part 1: basic concepts', 'visualize car data with brunel', 'analyze energy consumption in buildings', 'analyze energy consumption in buildings', 'predicting churn with the spss random tree algorithm', 'visualize car data with brunel', 'visualize car data with brunel', 'use deep learning for image classification', 'predicting churn with the spss random tree algorithm', 'analyze energy consumption in buildings', 'insights from new york car accident reports', 'insights from new york car accident reports', 'predicting churn with the spss random tree algorithm', 'insights from new york car accident reports', 'apache spark lab, part 1: basic concepts', 'apache spark lab, part 1: basic concepts', 'use deep learning for image classification', 'apache spark lab, part 1: basic concepts', 'apache spark lab, part 1: basic concepts', 'apache spark lab, part 1: basic concepts', 'use deep learning for image classification', 'use deep learning for image classification', 'apache spark lab, part 1: basic concepts', 'apache spark lab, part 1: basic concepts', 'apache spark lab, part 1: basic concepts', 'apache spark lab, part 1: basic concepts', 'apache spark lab, part 1: basic concepts', 'apache spark lab, part 1: basic concepts', 'apache spark lab, part 1: basic concepts', 'predicting churn with the spss random tree algorithm', 'healthcare python streaming application demo', 'use xgboost, scikit-learn & ibm watson machine learning apis', 'use xgboost, scikit-learn & ibm watson machine learning apis', 'insights from new york car accident reports', 'gosales transactions for logistic regression model', 'use xgboost, scikit-learn & ibm watson machine learning apis', 'use deep learning for image classification', 'insights from new york car accident reports', 'insights from new york car accident reports', 'analyze energy consumption in buildings', 'analyze energy consumption in buildings', 'finding optimal locations of new store using decision optimization', 'analyze energy consumption in buildings', 'gosales transactions for logistic regression model', 'finding optimal locations of new store using decision optimization', 'visualize car data with brunel', 'analyze energy consumption in buildings', 'insights from new york car accident reports', 'apache spark lab, part 1: basic concepts', 'use xgboost, scikit-learn & ibm watson machine learning apis', 'predicting churn with the spss random tree algorithm', 'healthcare python streaming application demo', 'gosales transactions for logistic regression model', 'gosales transactions for logistic regression model', 'gosales transactions for logistic regression model', 'visualize car data with brunel', 'insights from new york car accident reports', 'insights from new york car accident reports', 'finding optimal locations of new store using decision optimization', 'finding optimal locations of new store using decision optimization', 'finding optimal locations of new store using decision optimization', 'finding optimal locations of new store using decision optimization', 'use xgboost, scikit-learn & ibm watson machine learning apis', 'use xgboost, scikit-learn & ibm watson machine learning apis', 'finding optimal locations of new store using decision optimization', 'use xgboost, scikit-learn & ibm watson machine learning apis', 'use xgboost, scikit-learn & ibm watson machine learning apis', 'healthcare python streaming application demo', 'predicting churn with the spss random tree algorithm', 'healthcare python streaming application demo', 'insights from new york car accident reports', 'gosales transactions for logistic regression model', 'gosales transactions for logistic regression model', 'insights from new york car accident reports', 'gosales transactions for logistic regression model', 'insights from new york car accident reports', 'insights from new york car accident reports', 'gosales transactions for logistic regression model', 'gosales transactions for logistic regression model', 'insights from new york car accident reports', 'gosales transactions for logistic regression model', 'visualize car data with brunel', 'visualize car data with brunel', 'predicting churn with the spss random tree algorithm', 'visualize car data with brunel', 'healthcare python streaming application demo', 'visualize car data with brunel', 'visualize car data with brunel', 'visualize car data with brunel', 'visualize car data with brunel', 'visualize car data with brunel', 'visualize car data with brunel', 'visualize car data with brunel', 'visualize car data with brunel', 'healthcare python streaming application demo', 'visualize car data with brunel', 'visualize car data with brunel', 'visualize car data with brunel', 'visualize car data with brunel', 'visualize car data with brunel', 'visualize car data with brunel', 'use deep learning for image classification', 'visualize car data with brunel', 'visualize car data with brunel', 'visualize car data with brunel', 'use deep learning for image classification', 'visualize car data with brunel', 'visualize car data with brunel', 'visualize car data with brunel', 'predicting churn with the spss random tree algorithm', 'predicting churn with the spss random tree algorithm', 'apache spark lab, part 1: basic concepts', 'healthcare python streaming application demo', 'use xgboost, scikit-learn & ibm watson machine learning apis', 'use xgboost, scikit-learn & ibm watson machine learning apis', 'use xgboost, scikit-learn & ibm watson machine learning apis', 'analyze energy consumption in buildings', 'healthcare python streaming application demo', 'healthcare python streaming application demo', 'healthcare python streaming application demo', 'healthcare python streaming application demo', 'healthcare python streaming application demo', 'healthcare python streaming application demo', 'healthcare python streaming application demo', 'gosales transactions for logistic regression model', 'use deep learning for image classification', 'predicting churn with the spss random tree algorithm', 'visualize car data with brunel', 'gosales transactions for logistic regression model', 'use xgboost, scikit-learn & ibm watson machine learning apis', 'gosales transactions for logistic regression model', 'gosales transactions for logistic regression model', 'gosales transactions for logistic regression model', 'gosales transactions for logistic regression model', 'use xgboost, scikit-learn & ibm watson machine learning apis', 'use xgboost, scikit-learn & ibm watson machine learning apis', 'insights from new york car accident reports', 'insights from new york car accident reports', 'analyze energy consumption in buildings', 'predicting churn with the spss random tree algorithm', 'analyze energy consumption in buildings', 'use xgboost, scikit-learn & ibm watson machine learning apis', 'insights from new york car accident reports', 'visualize car data with brunel', 'visualize car data with brunel', 'finding optimal locations of new store using decision optimization', 'healthcare python streaming application demo', 'finding optimal locations of new store using decision optimization', 'insights from new york car accident reports', 'healthcare python streaming application demo', 'healthcare python streaming application demo', 'gosales transactions for logistic regression model', 'use xgboost, scikit-learn & ibm watson machine learning apis', 'apache spark lab, part 1: basic concepts', 'use deep learning for image classification', 'finding optimal locations of new store using decision optimization', 'apache spark lab, part 1: basic concepts', 'use xgboost, scikit-learn & ibm watson machine learning apis', 'visualize car data with brunel', 'finding optimal locations of new store using decision optimization', 'use xgboost, scikit-learn & ibm watson machine learning apis', 'healthcare python streaming application demo', 'use deep learning for image classification', 'use xgboost, scikit-learn & ibm watson machine learning apis', 'predicting churn with the spss random tree algorithm', 'finding optimal locations of new store using decision optimization', 'use xgboost, scikit-learn & ibm watson machine learning apis', 'use deep learning for image classification', 'visualize car data with brunel', 'predicting churn with the spss random tree algorithm', 'use xgboost, scikit-learn & ibm watson machine learning apis', 'predicting churn with the spss random tree algorithm', 'healthcare python streaming application demo', 'insights from new york car accident reports', 'use deep learning for image classification', 'use deep learning for image classification', 'use deep learning for image classification', 'gosales transactions for logistic regression model', 'use xgboost, scikit-learn & ibm watson machine learning apis', 'insights from new york car accident reports', 'gosales transactions for logistic regression model', 'use deep learning for image classification', 'use deep learning for image classification', 'use deep learning for image classification', 'use deep learning for image classification', 'predicting churn with the spss random tree algorithm', 'use deep learning for image classification', 'apache spark lab, part 1: basic concepts', 'use deep learning for image classification', 'use deep learning for image classification', 'visualize car data with brunel', 'use deep learning for image classification', 'analyze energy consumption in buildings', 'healthcare python streaming application demo', 'healthcare python streaming application demo', 'visualize car data with brunel', 'healthcare python streaming application demo', 'healthcare python streaming application demo', 'healthcare python streaming application demo', 'healthcare python streaming application demo', 'predicting churn with the spss random tree algorithm', 'predicting churn with the spss random tree algorithm', 'healthcare python streaming application demo', 'healthcare python streaming application demo', 'gosales transactions for logistic regression model', 'healthcare python streaming application demo', 'healthcare python streaming application demo', 'healthcare python streaming application demo', 'healthcare python streaming application demo', 'healthcare python streaming application demo', 'healthcare python streaming application demo', 'visualize car data with brunel', 'healthcare python streaming application demo', 'healthcare python streaming application demo', 'healthcare python streaming application demo', 'predicting churn with the spss random tree algorithm', 'use deep learning for image classification', 'visualize car data with brunel', 'insights from new york car accident reports', 'insights from new york car accident reports', 'finding optimal locations of new store using decision optimization', 'finding optimal locations of new store using decision optimization', 'finding optimal locations of new store using decision optimization', 'finding optimal locations of new store using decision optimization', 'use xgboost, scikit-learn & ibm watson machine learning apis', 'predicting churn with the spss random tree algorithm', 'insights from new york car accident reports', 'healthcare python streaming application demo', 'apache spark lab, part 1: basic concepts', 'predicting churn with the spss random tree algorithm', 'insights from new york car accident reports', 'apache spark lab, part 1: basic concepts', 'analyze energy consumption in buildings', 'predicting churn with the spss random tree algorithm', 'predicting churn with the spss random tree algorithm', 'use xgboost, scikit-learn & ibm watson machine learning apis', 'predicting churn with the spss random tree algorithm', 'gosales transactions for logistic regression model', 'finding optimal locations of new store using decision optimization', 'predicting churn with the spss random tree algorithm', 'predicting churn with the spss random tree algorithm', 'gosales transactions for logistic regression model', 'predicting churn with the spss random tree algorithm', 'apache spark lab, part 1: basic concepts', 'predicting churn with the spss random tree algorithm', 'predicting churn with the spss random tree algorithm', 'finding optimal locations of new store using decision optimization', 'predicting churn with the spss random tree algorithm', 'predicting churn with the spss random tree algorithm', 'predicting churn with the spss random tree algorithm', 'finding optimal locations of new store using decision optimization', 'predicting churn with the spss random tree algorithm', 'predicting churn with the spss random tree algorithm', 'predicting churn with the spss random tree algorithm', 'predicting churn with the spss random tree algorithm', 'predicting churn with the spss random tree algorithm', 'gosales transactions for logistic regression model', 'gosales transactions for logistic regression model', 'predicting churn with the spss random tree algorithm', 'gosales transactions for logistic regression model', 'predicting churn with the spss random tree algorithm', 'gosales transactions for logistic regression model', 'gosales transactions for logistic regression model', 'predicting churn with the spss random tree algorithm', 'use deep learning for image classification', 'use deep learning for image classification', 'use deep learning for image classification', 'predicting churn with the spss random tree algorithm', 'analyze energy consumption in buildings', 'apache spark lab, part 1: basic concepts', 'use xgboost, scikit-learn & ibm watson machine learning apis', 'use xgboost, scikit-learn & ibm watson machine learning apis', 'use xgboost, scikit-learn & ibm watson machine learning apis', 'use xgboost, scikit-learn & ibm watson machine learning apis', 'use xgboost, scikit-learn & ibm watson machine learning apis', 'healthcare python streaming application demo', 'healthcare python streaming application demo', 'insights from new york car accident reports', 'insights from new york car accident reports', 'insights from new york car accident reports', 'apache spark lab, part 1: basic concepts', 'gosales transactions for logistic regression model', 'apache spark lab, part 1: basic concepts', 'insights from new york car accident reports', 'visualize car data with brunel', 'visualize car data with brunel', 'insights from new york car accident reports', 'gosales transactions for logistic regression model', 'gosales transactions for logistic regression model', 'use deep learning for image classification', 'insights from new york car accident reports', 'healthcare python streaming application demo', 'healthcare python streaming application demo', 'use deep learning for image classification', 'gosales transactions for logistic regression model', 'insights from new york car accident reports', 'insights from new york car accident reports', 'use deep learning for image classification', 'finding optimal locations of new store using decision optimization', 'visualize car data with brunel', 'predicting churn with the spss random tree algorithm', 'gosales transactions for logistic regression model', 'use deep learning for image classification', 'use deep learning for image classification', 'use deep learning for image classification', 'analyze energy consumption in buildings', 'visualize car data with brunel', 'visualize car data with brunel', 'visualize car data with brunel', 'use deep learning for image classification', 'use deep learning for image classification', 'visualize car data with brunel', 'visualize car data with brunel', 'visualize car data with brunel', 'gosales transactions for logistic regression model', 'gosales transactions for logistic regression model', 'visualize car data with brunel', 'gosales transactions for logistic regression model', 'healthcare python streaming application demo', 'healthcare python streaming application demo', 'healthcare python streaming application demo', 'insights from new york car accident reports', 'insights from new york car accident reports', 'predicting churn with the spss random tree algorithm', 'healthcare python streaming application demo', 'finding optimal locations of new store using decision optimization', 'apache spark lab, part 1: basic concepts', 'predicting churn with the spss random tree algorithm', 'finding optimal locations of new store using decision optimization', 'predicting churn with the spss random tree algorithm', 'finding optimal locations of new store using decision optimization', 'use deep learning for image classification', 'finding optimal locations of new store using decision optimization', 'apache spark lab, part 1: basic concepts', 'predicting churn with the spss random tree algorithm', 'insights from new york car accident reports', 'visualize car data with brunel', 'visualize car data with brunel', 'insights from new york car accident reports', 'insights from new york car accident reports', 'insights from new york car accident reports', 'visualize car data with brunel', 'visualize car data with brunel', 'visualize car data with brunel', 'visualize car data with brunel', 'insights from new york car accident reports', 'insights from new york car accident reports', 'visualize car data with brunel', 'insights from new york car accident reports', 'insights from new york car accident reports', 'visualize car data with brunel', 'insights from new york car accident reports', 'visualize car data with brunel', 'insights from new york car accident reports', 'insights from new york car accident reports', 'gosales transactions for logistic regression model', 'healthcare python streaming application demo', 'analyze energy consumption in buildings', 'analyze energy consumption in buildings', 'visualize car data with brunel', 'insights from new york car accident reports', 'finding optimal locations of new store using decision optimization', 'insights from new york car accident reports', 'use deep learning for image classification', 'analyze energy consumption in buildings', 'analyze energy consumption in buildings', 'visualize car data with brunel', 'insights from new york car accident reports', 'insights from new york car accident reports', 'insights from new york car accident reports', 'use deep learning for image classification', 'insights from new york car accident reports', 'apache spark lab, part 1: basic concepts', 'visualize car data with brunel', 'visualize car data with brunel', 'predicting churn with the spss random tree algorithm', 'use deep learning for image classification', 'use deep learning for image classification', 'insights from new york car accident reports', 'use deep learning for image classification', 'finding optimal locations of new store using decision optimization', 'insights from new york car accident reports', 'use deep learning for image classification', 'visualize car data with brunel', 'use xgboost, scikit-learn & ibm watson machine learning apis', 'visualize car data with brunel', 'use xgboost, scikit-learn & ibm watson machine learning apis', 'use xgboost, scikit-learn & ibm watson machine learning apis', 'insights from new york car accident reports', 'analyze energy consumption in buildings', 'predicting churn with the spss random tree algorithm', 'apache spark lab, part 1: basic concepts', 'healthcare python streaming application demo', 'analyze energy consumption in buildings', 'analyze energy consumption in buildings', 'analyze energy consumption in buildings', 'gosales transactions for logistic regression model', 'finding optimal locations of new store using decision optimization', 'apache spark lab, part 1: basic concepts', 'use deep learning for image classification', 'predicting churn with the spss random tree algorithm', 'use deep learning for image classification', 'insights from new york car accident reports', 'visualize car data with brunel', 'visualize car data with brunel', 'insights from new york car accident reports', 'visualize car data with brunel', 'finding optimal locations of new store using decision optimization', 'predicting churn with the spss random tree algorithm', 'insights from new york car accident reports', 'finding optimal locations of new store using decision optimization', 'analyze energy consumption in buildings', 'insights from new york car accident reports', 'insights from new york car accident reports', 'analyze energy consumption in buildings', 'apache spark lab, part 1: basic concepts', 'healthcare python streaming application demo', 'healthcare python streaming application demo', 'healthcare python streaming application demo', 'healthcare python streaming application demo', 'healthcare python streaming application demo', 'use deep learning for image classification', 'healthcare python streaming application demo', 'use xgboost, scikit-learn & ibm watson machine learning apis', 'predicting churn with the spss random tree algorithm', 'use xgboost, scikit-learn & ibm watson machine learning apis', 'use xgboost, scikit-learn & ibm watson machine learning apis', 'apache spark lab, part 1: basic concepts', 'analyze energy consumption in buildings', 'visualize car data with brunel', 'apache spark lab, part 1: basic concepts', 'apache spark lab, part 1: basic concepts', 'finding optimal locations of new store using decision optimization', 'predicting churn with the spss random tree algorithm', 'apache spark lab, part 1: basic concepts', 'finding optimal locations of new store using decision optimization', 'insights from new york car accident reports', 'gosales transactions for logistic regression model', 'gosales transactions for logistic regression model', 'use deep learning for image classification', 'use xgboost, scikit-learn & ibm watson machine learning apis', 'use xgboost, scikit-learn & ibm watson machine learning apis', 'use xgboost, scikit-learn & ibm watson machine learning apis', 'apache spark lab, part 1: basic concepts', 'insights from new york car accident reports', 'use deep learning for image classification', 'visualize car data with brunel', 'use deep learning for image classification', 'healthcare python streaming application demo', 'use deep learning for image classification', 'use deep learning for image classification', 'insights from new york car accident reports', 'predicting churn with the spss random tree algorithm', 'predicting churn with the spss random tree algorithm', 'apache spark lab, part 1: basic concepts', 'visualize car data with brunel', 'insights from new york car accident reports', 'insights from new york car accident reports', 'predicting churn with the spss random tree algorithm', 'insights from new york car accident reports', 'insights from new york car accident reports', 'insights from new york car accident reports', 'insights from new york car accident reports', 'insights from new york car accident reports', 'insights from new york car accident reports', 'insights from new york car accident reports', 'use deep learning for image classification', 'use deep learning for image classification', 'use deep learning for image classification', 'apache spark lab, part 1: basic concepts', 'finding optimal locations of new store using decision optimization', 'finding optimal locations of new store using decision optimization', 'predicting churn with the spss random tree algorithm', 'use deep learning for image classification', 'gosales transactions for logistic regression model', 'insights from new york car accident reports', 'finding optimal locations of new store using decision optimization', 'finding optimal locations of new store using decision optimization', 'apache spark lab, part 1: basic concepts', 'finding optimal locations of new store using decision optimization', 'finding optimal locations of new store using decision optimization', 'finding optimal locations of new store using decision optimization', 'use xgboost, scikit-learn & ibm watson machine learning apis', 'use xgboost, scikit-learn & ibm watson machine learning apis', 'use xgboost, scikit-learn & ibm watson machine learning apis', 'use xgboost, scikit-learn & ibm watson machine learning apis', 'use deep learning for image classification', 'use deep learning for image classification', 'apache spark lab, part 1: basic concepts', 'apache spark lab, part 1: basic concepts', 'healthcare python streaming application demo', 'visualize car data with brunel', 'predicting churn with the spss random tree algorithm', 'visualize car data with brunel', 'use deep learning for image classification', 'healthcare python streaming application demo', 'insights from new york car accident reports', 'use deep learning for image classification', 'healthcare python streaming application demo', 'finding optimal locations of new store using decision optimization', 'analyze energy consumption in buildings', 'analyze energy consumption in buildings', 'predicting churn with the spss random tree algorithm', 'healthcare python streaming application demo', 'finding optimal locations of new store using decision optimization', 'use xgboost, scikit-learn & ibm watson machine learning apis', 'gosales transactions for logistic regression model', 'use xgboost, scikit-learn & ibm watson machine learning apis', 'use xgboost, scikit-learn & ibm watson machine learning apis', 'finding optimal locations of new store using decision optimization', 'insights from new york car accident reports', 'use deep learning for image classification', 'finding optimal locations of new store using decision optimization', 'healthcare python streaming application demo', 'apache spark lab, part 1: basic concepts', 'insights from new york car accident reports', 'visualize car data with brunel', 'visualize car data with brunel', 'insights from new york car accident reports', 'use deep learning for image classification', 'insights from new york car accident reports', 'finding optimal locations of new store using decision optimization', 'use deep learning for image classification', 'healthcare python streaming application demo', 'insights from new york car accident reports', 'insights from new york car accident reports', 'predicting churn with the spss random tree algorithm', 'insights from new york car accident reports', 'use xgboost, scikit-learn & ibm watson machine learning apis', 'use deep learning for image classification', 'use deep learning for image classification', 'insights from new york car accident reports', 'finding optimal locations of new store using decision optimization', 'use deep learning for image classification', 'use deep learning for image classification', 'use deep learning for image classification', 'insights from new york car accident reports', 'use deep learning for image classification', 'insights from new york car accident reports', 'insights from new york car accident reports', 'insights from new york car accident reports', 'analyze energy consumption in buildings', 'use deep learning for image classification', 'use deep learning for image classification', 'use deep learning for image classification', 'use deep learning for image classification', 'analyze energy consumption in buildings', 'use xgboost, scikit-learn & ibm watson machine learning apis', 'insights from new york car accident reports', 'insights from new york car accident reports', 'finding optimal locations of new store using decision optimization', 'use xgboost, scikit-learn & ibm watson machine learning apis', 'healthcare python streaming application demo', 'predicting churn with the spss random tree algorithm', 'insights from new york car accident reports', 'healthcare python streaming application demo', 'use deep learning for image classification', 'insights from new york car accident reports', 'insights from new york car accident reports', 'finding optimal locations of new store using decision optimization', 'insights from new york car accident reports', 'insights from new york car accident reports', 'finding optimal locations of new store using decision optimization', 'finding optimal locations of new store using decision optimization', 'finding optimal locations of new store using decision optimization', 'predicting churn with the spss random tree algorithm', 'insights from new york car accident reports', 'insights from new york car accident reports', 'insights from new york car accident reports', 'insights from new york car accident reports', 'finding optimal locations of new store using decision optimization', 'finding optimal locations of new store using decision optimization', 'visualize car data with brunel', 'insights from new york car accident reports', 'finding optimal locations of new store using decision optimization', 'finding optimal locations of new store using decision optimization', 'insights from new york car accident reports', 'predicting churn with the spss random tree algorithm', 'finding optimal locations of new store using decision optimization', 'finding optimal locations of new store using decision optimization', 'finding optimal locations of new store using decision optimization', 'predicting churn with the spss random tree algorithm', 'use deep learning for image classification', 'healthcare python streaming application demo', 'analyze energy consumption in buildings', 'healthcare python streaming application demo', 'analyze energy consumption in buildings', 'healthcare python streaming application demo', 'healthcare python streaming application demo', 'analyze energy consumption in buildings', 'predicting churn with the spss random tree algorithm', 'finding optimal locations of new store using decision optimization', 'use deep learning for image classification', 'healthcare python streaming application demo', 'insights from new york car accident reports', 'apache spark lab, part 1: basic concepts', 'use deep learning for image classification', 'gosales transactions for logistic regression model', 'insights from new york car accident reports', 'finding optimal locations of new store using decision optimization', 'finding optimal locations of new store using decision optimization', 'insights from new york car accident reports', 'apache spark lab, part 1: basic concepts', 'finding optimal locations of new store using decision optimization', 'finding optimal locations of new store using decision optimization', 'finding optimal locations of new store using decision optimization', 'predicting churn with the spss random tree algorithm', 'use xgboost, scikit-learn & ibm watson machine learning apis', 'predicting churn with the spss random tree algorithm', 'use xgboost, scikit-learn & ibm watson machine learning apis', 'use xgboost, scikit-learn & ibm watson machine learning apis', 'use xgboost, scikit-learn & ibm watson machine learning apis', 'visualize car data with brunel', 'visualize car data with brunel', 'finding optimal locations of new store using decision optimization', 'visualize car data with brunel', 'predicting churn with the spss random tree algorithm', 'visualize car data with brunel', 'finding optimal locations of new store using decision optimization', 'analyze energy consumption in buildings', 'apache spark lab, part 1: basic concepts', 'visualize car data with brunel', 'analyze energy consumption in buildings', 'analyze energy consumption in buildings', 'analyze energy consumption in buildings', 'analyze energy consumption in buildings', 'insights from new york car accident reports', 'analyze energy consumption in buildings', 'analyze energy consumption in buildings', 'gosales transactions for logistic regression model', 'use deep learning for image classification', 'finding optimal locations of new store using decision optimization', 'use deep learning for image classification', 'healthcare python streaming application demo', 'use deep learning for image classification', 'apache spark lab, part 1: basic concepts', 'apache spark lab, part 1: basic concepts', 'apache spark lab, part 1: basic concepts', 'predicting churn with the spss random tree algorithm', 'gosales transactions for logistic regression model', 'visualize car data with brunel', 'use xgboost, scikit-learn & ibm watson machine learning apis', 'gosales transactions for logistic regression model', 'gosales transactions for logistic regression model', 'gosales transactions for logistic regression model', 'finding optimal locations of new store using decision optimization', 'apache spark lab, part 1: basic concepts', 'use deep learning for image classification', 'gosales transactions for logistic regression model', 'gosales transactions for logistic regression model', 'gosales transactions for logistic regression model', 'gosales transactions for logistic regression model', 'gosales transactions for logistic regression model', 'gosales transactions for logistic regression model', 'gosales transactions for logistic regression model', 'gosales transactions for logistic regression model', 'use xgboost, scikit-learn & ibm watson machine learning apis', 'use xgboost, scikit-learn & ibm watson machine learning apis', 'visualize car data with brunel', 'analyze energy consumption in buildings', 'visualize car data with brunel', 'healthcare python streaming application demo', 'use xgboost, scikit-learn & ibm watson machine learning apis', 'healthcare python streaming application demo', 'use xgboost, scikit-learn & ibm watson machine learning apis', 'visualize car data with brunel', 'predicting churn with the spss random tree algorithm', 'insights from new york car accident reports', 'use deep learning for image classification', 'gosales transactions for logistic regression model', 'analyze energy consumption in buildings', 'insights from new york car accident reports', 'analyze energy consumption in buildings', 'insights from new york car accident reports', 'gosales transactions for logistic regression model', 'analyze energy consumption in buildings', 'gosales transactions for logistic regression model', 'visualize car data with brunel', 'use deep learning for image classification', 'use deep learning for image classification', 'gosales transactions for logistic regression model', 'healthcare python streaming application demo', 'visualize car data with brunel', 'analyze energy consumption in buildings', 'use deep learning for image classification', 'insights from new york car accident reports', 'predicting churn with the spss random tree algorithm', 'apache spark lab, part 1: basic concepts', 'visualize car data with brunel', 'visualize car data with brunel', 'visualize car data with brunel', 'visualize car data with brunel', 'analyze energy consumption in buildings', 'predicting churn with the spss random tree algorithm', 'insights from new york car accident reports', 'insights from new york car accident reports', 'use deep learning for image classification', 'insights from new york car accident reports', 'insights from new york car accident reports', 'healthcare python streaming application demo', 'gosales transactions for logistic regression model', 'gosales transactions for logistic regression model', 'gosales transactions for logistic regression model', 'healthcare python streaming application demo', 'insights from new york car accident reports', 'gosales transactions for logistic regression model', 'analyze energy consumption in buildings', 'analyze energy consumption in buildings', 'analyze energy consumption in buildings', 'use deep learning for image classification', 'healthcare python streaming application demo', 'visualize car data with brunel', 'predicting churn with the spss random tree algorithm', 'use xgboost, scikit-learn & ibm watson machine learning apis', 'use deep learning for image classification', 'analyze energy consumption in buildings', 'gosales transactions for logistic regression model', 'visualize car data with brunel', 'visualize car data with brunel', 'visualize car data with brunel', 'predicting churn with the spss random tree algorithm', 'use xgboost, scikit-learn & ibm watson machine learning apis', 'gosales transactions for logistic regression model', 'analyze energy consumption in buildings', 'use xgboost, scikit-learn & ibm watson machine learning apis', 'use xgboost, scikit-learn & ibm watson machine learning apis', 'analyze energy consumption in buildings', 'analyze energy consumption in buildings', 'healthcare python streaming application demo', 'analyze energy consumption in buildings', 'use xgboost, scikit-learn & ibm watson machine learning apis', 'analyze energy consumption in buildings', 'gosales transactions for logistic regression model', 'predicting churn with the spss random tree algorithm', 'gosales transactions for logistic regression model', 'analyze energy consumption in buildings', 'use deep learning for image classification', 'analyze energy consumption in buildings', 'predicting churn with the spss random tree algorithm', 'use xgboost, scikit-learn & ibm watson machine learning apis', 'use xgboost, scikit-learn & ibm watson machine learning apis', 'use xgboost, scikit-learn & ibm watson machine learning apis', 'finding optimal locations of new store using decision optimization', 'finding optimal locations of new store using decision optimization', 'analyze energy consumption in buildings', 'gosales transactions for logistic regression model', 'insights from new york car accident reports', 'analyze energy consumption in buildings', 'use deep learning for image classification', 'healthcare python streaming application demo', 'visualize car data with brunel', 'analyze energy consumption in buildings', 'insights from new york car accident reports', 'visualize car data with brunel', 'use deep learning for image classification', 'insights from new york car accident reports', 'insights from new york car accident reports', 'use xgboost, scikit-learn & ibm watson machine learning apis', 'predicting churn with the spss random tree algorithm', 'use deep learning for image classification', 'use xgboost, scikit-learn & ibm watson machine learning apis', 'use xgboost, scikit-learn & ibm watson machine learning apis', 'insights from new york car accident reports', 'predicting churn with the spss random tree algorithm', 'use xgboost, scikit-learn & ibm watson machine learning apis', 'use deep learning for image classification', 'healthcare python streaming application demo', 'insights from new york car accident reports', 'use xgboost, scikit-learn & ibm watson machine learning apis', 'use deep learning for image classification', 'use deep learning for image classification', 'use xgboost, scikit-learn & ibm watson machine learning apis', 'finding optimal locations of new store using decision optimization', 'use deep learning for image classification', 'finding optimal locations of new store using decision optimization', 'finding optimal locations of new store using decision optimization', 'use xgboost, scikit-learn & ibm watson machine learning apis', 'finding optimal locations of new store using decision optimization', 'predicting churn with the spss random tree algorithm', 'finding optimal locations of new store using decision optimization', 'use xgboost, scikit-learn & ibm watson machine learning apis', 'use deep learning for image classification', 'predicting churn with the spss random tree algorithm', 'use deep learning for image classification', 'use xgboost, scikit-learn & ibm watson machine learning apis', 'use deep learning for image classification', 'insights from new york car accident reports', 'use deep learning for image classification', 'finding optimal locations of new store using decision optimization', 'use deep learning for image classification', 'finding optimal locations of new store using decision optimization', 'use xgboost, scikit-learn & ibm watson machine learning apis', 'use xgboost, scikit-learn & ibm watson machine learning apis', 'apache spark lab, part 1: basic concepts', 'insights from new york car accident reports', 'insights from new york car accident reports', 'insights from new york car accident reports', 'insights from new york car accident reports', 'insights from new york car accident reports', 'use deep learning for image classification', 'visualize car data with brunel', 'apache spark lab, part 1: basic concepts', 'insights from new york car accident reports', 'insights from new york car accident reports', 'healthcare python streaming application demo', 'apache spark lab, part 1: basic concepts', 'apache spark lab, part 1: basic concepts', 'apache spark lab, part 1: basic concepts', 'predicting churn with the spss random tree algorithm', 'predicting churn with the spss random tree algorithm', 'healthcare python streaming application demo', 'analyze energy consumption in buildings', 'gosales transactions for logistic regression model', 'analyze energy consumption in buildings', 'predicting churn with the spss random tree algorithm', 'use xgboost, scikit-learn & ibm watson machine learning apis', 'use deep learning for image classification', 'analyze energy consumption in buildings', 'use deep learning for image classification', 'use deep learning for image classification', 'visualize car data with brunel', 'healthcare python streaming application demo', 'predicting churn with the spss random tree algorithm', 'predicting churn with the spss random tree algorithm', 'use xgboost, scikit-learn & ibm watson machine learning apis', 'use xgboost, scikit-learn & ibm watson machine learning apis', 'use xgboost, scikit-learn & ibm watson machine learning apis', 'healthcare python streaming application demo', 'use xgboost, scikit-learn & ibm watson machine learning apis', 'insights from new york car accident reports', 'gosales transactions for logistic regression model', 'healthcare python streaming application demo', 'use deep learning for image classification', 'use xgboost, scikit-learn & ibm watson machine learning apis', 'use deep learning for image classification', 'predicting churn with the spss random tree algorithm', 'predicting churn with the spss random tree algorithm', 'gosales transactions for logistic regression model', 'gosales transactions for logistic regression model', 'apache spark lab, part 1: basic concepts', 'apache spark lab, part 1: basic concepts', 'use deep learning for image classification', 'finding optimal locations of new store using decision optimization', 'gosales transactions for logistic regression model', 'visualize car data with brunel', 'predicting churn with the spss random tree algorithm', 'visualize car data with brunel', 'apache spark lab, part 1: basic concepts', 'analyze energy consumption in buildings', 'use deep learning for image classification', 'use deep learning for image classification', 'finding optimal locations of new store using decision optimization', 'visualize car data with brunel', 'predicting churn with the spss random tree algorithm', 'apache spark lab, part 1: basic concepts', 'apache spark lab, part 1: basic concepts', 'apache spark lab, part 1: basic concepts', 'visualize car data with brunel', 'apache spark lab, part 1: basic concepts', 'apache spark lab, part 1: basic concepts', 'use deep learning for image classification', 'visualize car data with brunel', 'apache spark lab, part 1: basic concepts', 'apache spark lab, part 1: basic concepts', 'visualize car data with brunel', 'apache spark lab, part 1: basic concepts', 'use deep learning for image classification', 'apache spark lab, part 1: basic concepts', 'gosales transactions for logistic regression model', 'gosales transactions for logistic regression model', 'gosales transactions for logistic regression model', 'gosales transactions for logistic regression model', 'gosales transactions for logistic regression model', 'visualize car data with brunel', 'use deep learning for image classification', 'visualize car data with brunel', 'visualize car data with brunel', 'visualize car data with brunel', 'use deep learning for image classification', 'use deep learning for image classification', 'visualize car data with brunel', 'use deep learning for image classification', 'use deep learning for image classification', 'healthcare python streaming application demo', 'healthcare python streaming application demo', 'healthcare python streaming application demo', 'healthcare python streaming application demo', 'healthcare python streaming application demo', 'analyze energy consumption in buildings', 'analyze energy consumption in buildings', 'analyze energy consumption in buildings', 'insights from new york car accident reports', 'analyze energy consumption in buildings', 'use xgboost, scikit-learn & ibm watson machine learning apis', 'predicting churn with the spss random tree algorithm', 'insights from new york car accident reports', 'predicting churn with the spss random tree algorithm', 'predicting churn with the spss random tree algorithm', 'apache spark lab, part 1: basic concepts', 'finding optimal locations of new store using decision optimization', 'predicting churn with the spss random tree algorithm', 'finding optimal locations of new store using decision optimization', 'analyze energy consumption in buildings', 'healthcare python streaming application demo', 'healthcare python streaming application demo', 'healthcare python streaming application demo', 'healthcare python streaming application demo', 'healthcare python streaming application demo', 'healthcare python streaming application demo', 'finding optimal locations of new store using decision optimization', 'predicting churn with the spss random tree algorithm', 'finding optimal locations of new store using decision optimization', 'finding optimal locations of new store using decision optimization', 'insights from new york car accident reports', 'use xgboost, scikit-learn & ibm watson machine learning apis', 'visualize car data with brunel', 'use xgboost, scikit-learn & ibm watson machine learning apis', 'visualize car data with brunel', 'visualize car data with brunel', 'use deep learning for image classification', 'healthcare python streaming application demo', 'healthcare python streaming application demo', 'use deep learning for image classification', 'use deep learning for image classification', 'visualize car data with brunel', 'analyze energy consumption in buildings', 'predicting churn with the spss random tree algorithm', 'use deep learning for image classification', 'apache spark lab, part 1: basic concepts', 'apache spark lab, part 1: basic concepts', 'apache spark lab, part 1: basic concepts', 'apache spark lab, part 1: basic concepts', 'visualize car data with brunel', 'visualize car data with brunel', 'finding optimal locations of new store using decision optimization', 'analyze energy consumption in buildings', 'visualize car data with brunel', 'apache spark lab, part 1: basic concepts', 'apache spark lab, part 1: basic concepts', 'apache spark lab, part 1: basic concepts', 'apache spark lab, part 1: basic concepts', 'use xgboost, scikit-learn & ibm watson machine learning apis', 'apache spark lab, part 1: basic concepts', 'apache spark lab, part 1: basic concepts', 'apache spark lab, part 1: basic concepts', 'apache spark lab, part 1: basic concepts', 'apache spark lab, part 1: basic concepts', 'apache spark lab, part 1: basic concepts', 'analyze energy consumption in buildings', 'analyze energy consumption in buildings', 'gosales transactions for logistic regression model', 'gosales transactions for logistic regression model', 'insights from new york car accident reports', 'apache spark lab, part 1: basic concepts', 'insights from new york car accident reports', 'insights from new york car accident reports', 'healthcare python streaming application demo', 'healthcare python streaming application demo', 'insights from new york car accident reports', 'healthcare python streaming application demo', 'predicting churn with the spss random tree algorithm', 'visualize car data with brunel', 'predicting churn with the spss random tree algorithm', 'insights from new york car accident reports', 'analyze energy consumption in buildings', 'predicting churn with the spss random tree algorithm', 'analyze energy consumption in buildings', 'analyze energy consumption in buildings', 'analyze energy consumption in buildings', 'predicting churn with the spss random tree algorithm', 'analyze energy consumption in buildings', 'predicting churn with the spss random tree algorithm', 'predicting churn with the spss random tree algorithm', 'analyze energy consumption in buildings', 'predicting churn with the spss random tree algorithm', 'healthcare python streaming application demo', 'analyze energy consumption in buildings', 'predicting churn with the spss random tree algorithm', 'predicting churn with the spss random tree algorithm', 'analyze energy consumption in buildings', 'predicting churn with the spss random tree algorithm', 'healthcare python streaming application demo', 'healthcare python streaming application demo', 'healthcare python streaming application demo', 'use xgboost, scikit-learn & ibm watson machine learning apis', 'use xgboost, scikit-learn & ibm watson machine learning apis', 'healthcare python streaming application demo', 'insights from new york car accident reports', 'gosales transactions for logistic regression model', 'gosales transactions for logistic regression model', 'gosales transactions for logistic regression model', 'analyze energy consumption in buildings', 'analyze energy consumption in buildings', 'use deep learning for image classification', 'analyze energy consumption in buildings', 'insights from new york car accident reports', 'finding optimal locations of new store using decision optimization', 'healthcare python streaming application demo', 'insights from new york car accident reports', 'visualize car data with brunel', 'predicting churn with the spss random tree algorithm', 'predicting churn with the spss random tree algorithm', 'insights from new york car accident reports', 'insights from new york car accident reports', 'predicting churn with the spss random tree algorithm', 'apache spark lab, part 1: basic concepts', 'visualize car data with brunel', 'predicting churn with the spss random tree algorithm', 'visualize car data with brunel', 'visualize car data with brunel', 'predicting churn with the spss random tree algorithm', 'predicting churn with the spss random tree algorithm', 'predicting churn with the spss random tree algorithm', 'insights from new york car accident reports', 'healthcare python streaming application demo', 'insights from new york car accident reports', 'predicting churn with the spss random tree algorithm', 'insights from new york car accident reports', 'use xgboost, scikit-learn & ibm watson machine learning apis', 'insights from new york car accident reports', 'insights from new york car accident reports', 'visualize car data with brunel', 'insights from new york car accident reports']\n",
      "[1429.0, 1330.0, 1431.0, 1427.0, 1364.0, 1314.0, 1293.0, 1170.0, 1162.0, 1304.0]\n"
     ]
    }
   ],
   "source": [
    "print(get_top_articles(10))\n",
    "print(get_top_article_ids(10))"
   ]
  },
  {
   "cell_type": "code",
   "execution_count": 25,
   "metadata": {},
   "outputs": [
    {
     "name": "stdout",
     "output_type": "stream",
     "text": [
      "Your top_5 looks like the solution list! Nice job.\n",
      "Your top_10 looks like the solution list! Nice job.\n",
      "Your top_20 looks like the solution list! Nice job.\n"
     ]
    }
   ],
   "source": [
    "# Test your function by returning the top 5, 10, and 20 articles\n",
    "top_5 = get_top_articles(5)\n",
    "top_10 = get_top_articles(10)\n",
    "top_20 = get_top_articles(20)\n",
    "\n",
    "# Test each of your three lists from above\n",
    "t.sol_2_test(get_top_articles)"
   ]
  },
  {
   "cell_type": "markdown",
   "metadata": {},
   "source": [
    "### <a class=\"anchor\" id=\"User-User\">Part III: User-User Based Collaborative Filtering</a>\n",
    "\n",
    "\n",
    "`1.` Use the function below to reformat the **df** dataframe to be shaped with users as the rows and articles as the columns.  \n",
    "\n",
    "* Each **user** should only appear in each **row** once.\n",
    "\n",
    "\n",
    "* Each **article** should only show up in one **column**.  \n",
    "\n",
    "\n",
    "* **If a user has interacted with an article, then place a 1 where the user-row meets for that article-column**.  It does not matter how many times a user has interacted with the article, all entries where a user has interacted with an article should be a 1.  \n",
    "\n",
    "\n",
    "* **If a user has not interacted with an item, then place a zero where the user-row meets for that article-column**. \n",
    "\n",
    "Use the tests to make sure the basic structure of your matrix matches what is expected by the solution."
   ]
  },
  {
   "cell_type": "code",
   "execution_count": 26,
   "metadata": {},
   "outputs": [
    {
     "name": "stdout",
     "output_type": "stream",
     "text": [
      "-------------------- Start finding and removing columns matchting to wildcards: ['title', 'email'] --------------------\n",
      "Columns found to remove:  ['title']\n",
      "-------------------- Finished removing columns matchting to wildcards --------------------\n"
     ]
    }
   ],
   "source": [
    "# create the user-article matrix with 1's and 0's\n",
    "\n",
    "def create_user_item_matrix(df):\n",
    "    '''\n",
    "    INPUT:\n",
    "    df - pandas dataframe with article_id, title, user_id columns\n",
    "    \n",
    "    OUTPUT:\n",
    "    user_item - user item matrix \n",
    "    \n",
    "    Description:\n",
    "    Return a matrix with user ids as rows and article ids on the columns with 1 values where a user interacted with \n",
    "    an article and a 0 otherwise\n",
    "    '''\n",
    "    # Fill in the function here\n",
    "    \n",
    "    dfcopy = dsh.RemoveColumnsByWildcard(df, wildcards = ['title', 'email'])\n",
    "    \n",
    "    dfcopy = dfcopy.drop_duplicates().sort_values(by = 'userid')\n",
    "\n",
    "    user_item = pd.crosstab(dfcopy['userid'], dfcopy['article_id'])\n",
    "    \n",
    "    # When reset_index() is used, prevent the column name to be \"article_id\"\n",
    "    user_item.columns.name = None \n",
    "    \n",
    "    return user_item # return the user_item matrix \n",
    "\n",
    "user_item = create_user_item_matrix(df)"
   ]
  },
  {
   "cell_type": "code",
   "execution_count": 27,
   "metadata": {},
   "outputs": [
    {
     "name": "stdout",
     "output_type": "stream",
     "text": [
      "You have passed our quick tests!  Please proceed!\n"
     ]
    }
   ],
   "source": [
    "## Tests: You should just need to run this cell.  Don't change the code.\n",
    "assert user_item.shape[0] == 5149, \"Oops!  The number of users in the user-article matrix doesn't look right.\"\n",
    "assert user_item.shape[1] == 714, \"Oops!  The number of articles in the user-article matrix doesn't look right.\"\n",
    "assert user_item.sum(axis=1)[1] == 36, \"Oops!  The number of articles seen by user 1 doesn't look right.\"\n",
    "print(\"You have passed our quick tests!  Please proceed!\")"
   ]
  },
  {
   "cell_type": "markdown",
   "metadata": {},
   "source": [
    "`2.` Complete the function below which should take a user_id and provide an ordered list of the most similar users to that user (from most similar to least similar).  The returned result should not contain the provided user_id, as we know that each user is similar to him/herself. Because the results for each user here are binary, it (perhaps) makes sense to compute similarity as the dot product of two users. \n",
    "\n",
    "Use the tests to test your function."
   ]
  },
  {
   "cell_type": "code",
   "execution_count": 28,
   "metadata": {},
   "outputs": [],
   "source": [
    "def find_similar_users(user_id, user_item=user_item, returnDfWithDotProd = False):\n",
    "    '''\n",
    "    INPUT:\n",
    "    user_id - (int) a user_id\n",
    "    user_item - (pandas dataframe) matrix of users by articles: \n",
    "                1's when a user has interacted with an article, 0 otherwise\n",
    "    \n",
    "    OUTPUT:\n",
    "    similar_users - (list) an ordered list where the closest users (largest dot product users)\n",
    "                    are listed first\n",
    "    \n",
    "    Description:\n",
    "    Computes the similarity of every pair of users based on the dot product\n",
    "    Returns an ordered\n",
    "    \n",
    "    '''\n",
    "    # compute similarity of each user to the provided user\n",
    "    dfcop = user_item.copy(deep = True)\n",
    "    userValues = dfcop[dfcop.index == user_id].values\n",
    "    dfcop['dotProd'] = dfcop.dot(userValues.transpose())\n",
    "    dfcop = dfcop[dfcop['dotProd'] > 0]\n",
    "    \n",
    "    # sort by similarity\n",
    "    dfcop.sort_values(by = 'dotProd', ascending = False, inplace = True)\n",
    "    dfcop = dfcop[dfcop.index != user_id]\n",
    "    \n",
    "    if returnDfWithDotProd:\n",
    "        return dfcop\n",
    "    \n",
    "    # create list of just the ids\n",
    "    ids = list(dfcop.index)\n",
    "       \n",
    "    most_similar_users = ids\n",
    "    \n",
    "    return most_similar_users # return a list of the users in order from most to least similar\n",
    "        "
   ]
  },
  {
   "cell_type": "code",
   "execution_count": 29,
   "metadata": {},
   "outputs": [
    {
     "name": "stdout",
     "output_type": "stream",
     "text": [
      "The 10 most similar users to user 1 are: [3933, 3782, 23, 203, 4459, 3870, 131, 46, 4201, 395]\n",
      "The 5 most similar users to user 3933 are: [1, 3782, 23, 4459, 203]\n",
      "The 3 most similar users to user 46 are: [4201, 3782, 23]\n"
     ]
    }
   ],
   "source": [
    "# Do a spot check of your function\n",
    "print(\"The 10 most similar users to user 1 are: {}\".format(find_similar_users(1)[:10]))\n",
    "print(\"The 5 most similar users to user 3933 are: {}\".format(find_similar_users(3933)[:5]))\n",
    "print(\"The 3 most similar users to user 46 are: {}\".format(find_similar_users(46)[:3]))"
   ]
  },
  {
   "cell_type": "markdown",
   "metadata": {},
   "source": [
    "`3.` Now that you have a function that provides the most similar users to each user, you will want to use these users to find articles you can recommend.  Complete the functions below to return the articles you would recommend to each user. "
   ]
  },
  {
   "cell_type": "code",
   "execution_count": 30,
   "metadata": {},
   "outputs": [],
   "source": [
    "def get_article_names(article_ids, df=df):\n",
    "    '''\n",
    "    INPUT:\n",
    "    article_ids - (list) a list of article ids\n",
    "    df - (pandas dataframe) df as defined at the top of the notebook\n",
    "    \n",
    "    OUTPUT:\n",
    "    article_names - (list) a list of article names associated with the list of article ids \n",
    "                    (this is identified by the title column)\n",
    "    '''\n",
    "    # Your code here\n",
    "    article_names = df[df['article_id'].astype(str).isin(article_ids)]['title'].unique()\n",
    "    \n",
    "    return article_names # Return the article names associated with list of article ids\n",
    "\n",
    "\n",
    "def get_user_articles(user_id, user_item=user_item):\n",
    "    '''\n",
    "    INPUT:\n",
    "    user_id - (int) a user id\n",
    "    user_item - (pandas dataframe) matrix of users by articles: \n",
    "                1's when a user has interacted with an article, 0 otherwise\n",
    "    \n",
    "    OUTPUT:\n",
    "    article_ids - (list) a list of the article ids seen by the user\n",
    "    article_names - (list) a list of article names associated with the list of article ids \n",
    "                    (this is identified by the doc_full_name column in df_content)\n",
    "    \n",
    "    Description:\n",
    "    Provides a list of the article_ids and article titles that have been seen by a user\n",
    "    '''\n",
    "    # Your code here\n",
    "    article_ids = []\n",
    "\n",
    "    userRow =  user_item[user_item.index == user_id]\n",
    "    \n",
    "    arids = [aid for aid in list(userRow.columns) if userRow.iloc[0][aid] != 0]\n",
    "    titles = list(df[df['article_id'].isin(arids)]['title'].unique())\n",
    "    \n",
    "    article_ids = [str(arid) for arid in arids]\n",
    "    article_names = titles\n",
    "    \n",
    "    return article_ids, article_names # return the ids and names"
   ]
  },
  {
   "cell_type": "markdown",
   "metadata": {},
   "source": [
    "#### Remark:\n",
    "I extended the provided function \"find_similar_users\" with the parameter \"returnDfWithDotProd\" because of the note \"Users who are the same closeness are chosen arbitrarily as the 'next' user\" to have the chance to pick users randomly if dotproduct is the same.\n",
    "\n",
    "Just returning a list of userids does not provice any information about equality of dotproduct from different users."
   ]
  },
  {
   "cell_type": "raw",
   "metadata": {},
   "source": [
    "grpSimUsers = simUsers.groupby('dotProd')\n",
    "\n",
    "keysDesc = list(grpSimUsers.groups.keys())\n",
    "keysDesc.sort(reverse = True)\n",
    "\n",
    "userKnow = get_user_articles(20)\n",
    "userKnowFlt = [float(uk) for uk in userKnow[0]]\n",
    "\n",
    "recs = []\n",
    "m = 10\n",
    "\n",
    "for maxProd in keysDesc:\n",
    "    # get users having this dotproduct\n",
    "    grp = grpSimUsers.get_group(maxProd).copy(deep = True)\n",
    "    \n",
    "    # don't recommend dotProd :)\n",
    "    grp.drop('dotProd', axis = 1, inplace = True)\n",
    "    \n",
    "    # drop articles the user already knows\n",
    "    grp.drop(columns = userKnowFlt, axis = 1, inplace = True)\n",
    "\n",
    "    while True:\n",
    "        # now pick user by index randomly\n",
    "        randUserIndex = random.choice(grp.index)\n",
    "        \n",
    "        currentUser = grp[grp.index == randUserIndex]\n",
    "\n",
    "        # Check if there are articles to recommend\n",
    "        # drop user if there are no more articles\n",
    "        # and continue with next user if there is one\n",
    "        if currentUser.sum().sum() == 0:\n",
    "            print('No more recommendations for userid: ', currentUser.index[0])\n",
    "            grp.drop(index = randUserIndex, inplace = True)\n",
    "            if grp.shape[0] == 0:\n",
    "                break\n",
    "            continue\n",
    "        \n",
    "        # Now, if possible articles added to recommendations does not\n",
    "        # exceed the limit, then add all\n",
    "        if len(recs) + currentUser.sum().sum() <= m:\n",
    "            for col in currentUser.columns:\n",
    "                # then add all possible articles\n",
    "                if currentUser.iloc[0][col] != 0:\n",
    "                    recs.append(col)\n",
    "                    userKnowFlt.append(col)\n",
    "                    \n",
    "                    grp.drop(col, axis = 1, inplace = True)\n",
    "                    \n",
    "        # else choose the last missing ones randomly\n",
    "        else:\n",
    "            \n",
    "            lastPossibleArticles = [x for x in grp.columns if x not in userKnowFlt]\n",
    "            needed = m - len(recs)\n",
    "            lastFillup = random.choices(lastPossibleArticles, k = needed)\n",
    "\n",
    "            recs += lastFillup\n",
    "        \n",
    "        if len(recs) == m:\n",
    "            break\n",
    "            \n",
    "    if len(recs) == m:\n",
    "            break"
   ]
  },
  {
   "cell_type": "code",
   "execution_count": 31,
   "metadata": {},
   "outputs": [],
   "source": [
    "def user_user_recs(user_id, m=10):\n",
    "    '''\n",
    "    INPUT:\n",
    "    user_id - (int) a user id\n",
    "    m - (int) the number of recommendations you want for the user\n",
    "    \n",
    "    OUTPUT:\n",
    "    recs - (list) a list of recommendations for the user\n",
    "    \n",
    "    Description:\n",
    "    Loops through the users based on closeness to the input user_id\n",
    "    For each user - finds articles the user hasn't seen before and provides them as recs\n",
    "    Does this until m recommendations are found\n",
    "    \n",
    "    Notes:\n",
    "    Users who are the same closeness are chosen arbitrarily as the 'next' user\n",
    "    \n",
    "    For the user where the number of recommended articles starts below m \n",
    "    and ends exceeding m, the last items are chosen arbitrarily\n",
    "    \n",
    "    '''\n",
    "    # Your code here\n",
    "    simUsers = find_similar_users(user_id = user_id, returnDfWithDotProd = True)\n",
    "    if simUsers.shape[0] == 0:\n",
    "        dsh.PrintLine('No similar users found for user_id: ', user_id)\n",
    "        return []\n",
    "    \n",
    "    recs = []\n",
    "    userKnow = get_user_articles(user_id)\n",
    "    userKnowFlt = [float(uk) for uk in userKnow[0]]\n",
    "\n",
    "    lstUserUnknownArt = []\n",
    "\n",
    "    # Users with same closeness are choosen randomly\n",
    "\n",
    "    # To provide this function, I need the df with dotproduct,\n",
    "    # group by dotproduct, sort by key desc so that top users come first\n",
    "    # and pick from each group the user/users randomly\n",
    "\n",
    "    grpSimUsers = simUsers.groupby('dotProd')\n",
    "    keysDesc = list(grpSimUsers.groups.keys())\n",
    "    keysDesc.sort(reverse = True)\n",
    "\n",
    "    # Iterate by highest to lowest dot product\n",
    "    for maxProd in keysDesc:\n",
    "        # get users having this dotproduct\n",
    "        grp = grpSimUsers.get_group(maxProd).copy(deep = True)\n",
    "\n",
    "        # don't recommend dotProd :)\n",
    "        grp.drop('dotProd', axis = 1, inplace = True)\n",
    "\n",
    "        # drop articles the user already knows\n",
    "        grp.drop(columns = userKnowFlt, axis = 1, inplace = True)\n",
    "\n",
    "        while True:\n",
    "            # now pick user by index randomly\n",
    "            randUserIndex = random.choice(grp.index)\n",
    "\n",
    "            currentUser = grp[grp.index == randUserIndex]\n",
    "\n",
    "            # Check if there are articles to recommend\n",
    "            # drop user if there are no more articles\n",
    "            # and continue with next user if there is one\n",
    "            if currentUser.sum().sum() == 0:\n",
    "                print('No more recommendations for userid: ', currentUser.index[0])\n",
    "                grp.drop(index = randUserIndex, inplace = True)\n",
    "                if grp.shape[0] == 0:\n",
    "                    break\n",
    "                continue\n",
    "\n",
    "            # Now, if possible articles added to recommendations does not\n",
    "            # exceed the limit, then add all\n",
    "            if len(recs) + currentUser.sum().sum() <= m:\n",
    "                for col in currentUser.columns:\n",
    "                    # then add all possible articles\n",
    "                    if currentUser.iloc[0][col] != 0:\n",
    "                        recs.append(col)\n",
    "                        userKnowFlt.append(col)\n",
    "\n",
    "                        grp.drop(col, axis = 1, inplace = True)\n",
    "\n",
    "            # else choose the last missing ones randomly\n",
    "            else:\n",
    "\n",
    "                lastPossibleArticles = [x for x in grp.columns if x not in userKnowFlt]\n",
    "                needed = m - len(recs)\n",
    "                lastFillup = random.choices(lastPossibleArticles, k = needed)\n",
    "\n",
    "                recs += lastFillup\n",
    "\n",
    "            if len(recs) == m:\n",
    "                break\n",
    "\n",
    "        if len(recs) == m:\n",
    "                break\n",
    "        \n",
    "    recs = [str(rec) for rec in recs]\n",
    "    return recs # return your recommendations for this user_id    "
   ]
  },
  {
   "cell_type": "code",
   "execution_count": 32,
   "metadata": {
    "scrolled": true
   },
   "outputs": [
    {
     "data": {
      "text/plain": [
       "['1162.0',\n",
       " '1165.0',\n",
       " '1185.0',\n",
       " '1293.0',\n",
       " '429.0',\n",
       " '1077.0',\n",
       " '1443.0',\n",
       " '164.0',\n",
       " '947.0',\n",
       " '1354.0']"
      ]
     },
     "execution_count": 32,
     "metadata": {},
     "output_type": "execute_result"
    }
   ],
   "source": [
    "user_user_recs(20, 10)"
   ]
  },
  {
   "cell_type": "code",
   "execution_count": 33,
   "metadata": {
    "scrolled": true
   },
   "outputs": [
    {
     "name": "stdout",
     "output_type": "stream",
     "text": [
      "No more recommendations for userid:  3933\n"
     ]
    },
    {
     "data": {
      "text/plain": [
       "array(['optimizing a marketing campaign: moving from predictions to actions',\n",
       "       'how the circle line rogue train was caught with data',\n",
       "       'deep learning with data science experience',\n",
       "       'spark sql - rapid performance evolution',\n",
       "       'shiny 0.12: interactive plots with ggplot2',\n",
       "       'getting started with graphframes in apache spark™',\n",
       "       'what caused the challenger disaster?',\n",
       "       'worldwide fuel oil consumption by household (in 1000 metric tons)',\n",
       "       'hurricane how-to',\n",
       "       'airbnb data for analytics: new orleans reviews'], dtype=object)"
      ]
     },
     "execution_count": 33,
     "metadata": {},
     "output_type": "execute_result"
    }
   ],
   "source": [
    "# Check Results\n",
    "get_article_names(user_user_recs(1, 10)) # Return 10 recommendations for user 1"
   ]
  },
  {
   "cell_type": "code",
   "execution_count": 34,
   "metadata": {},
   "outputs": [
    {
     "name": "stdout",
     "output_type": "stream",
     "text": [
      "If this is all you see, you passed all of our tests!  Nice job!\n"
     ]
    }
   ],
   "source": [
    "# Test your functions here - No need to change this code - just run this cell\n",
    "assert set(get_article_names(['1024.0', '1176.0', '1305.0', '1314.0', '1422.0', '1427.0'])) == set(['using deep learning to reconstruct high-resolution audio', 'build a python app on the streaming analytics service', 'gosales transactions for naive bayes model', 'healthcare python streaming application demo', 'use r dataframes & ibm watson natural language understanding', 'use xgboost, scikit-learn & ibm watson machine learning apis']), \"Oops! Your the get_article_names function doesn't work quite how we expect.\"\n",
    "assert set(get_article_names(['1320.0', '232.0', '844.0'])) == set(['housing (2015): united states demographic measures','self-service data preparation with ibm data refinery','use the cloudant-spark connector in python notebook']), \"Oops! Your the get_article_names function doesn't work quite how we expect.\"\n",
    "assert set(get_user_articles(20)[0]) == set(['1320.0', '232.0', '844.0'])\n",
    "assert set(get_user_articles(20)[1]) == set(['housing (2015): united states demographic measures', 'self-service data preparation with ibm data refinery','use the cloudant-spark connector in python notebook'])\n",
    "assert set(get_user_articles(2)[0]) == set(['1024.0', '1176.0', '1305.0', '1314.0', '1422.0', '1427.0'])\n",
    "assert set(get_user_articles(2)[1]) == set(['using deep learning to reconstruct high-resolution audio', 'build a python app on the streaming analytics service', 'gosales transactions for naive bayes model', 'healthcare python streaming application demo', 'use r dataframes & ibm watson natural language understanding', 'use xgboost, scikit-learn & ibm watson machine learning apis'])\n",
    "print(\"If this is all you see, you passed all of our tests!  Nice job!\")"
   ]
  },
  {
   "cell_type": "markdown",
   "metadata": {
    "collapsed": true
   },
   "source": [
    "`4.` Now we are going to improve the consistency of the **user_user_recs** function from above.  \n",
    "\n",
    "* Instead of arbitrarily choosing when we obtain users who are all the same closeness to a given user - choose the users that have the most total article interactions before choosing those with fewer article interactions.\n",
    "\n",
    "\n",
    "* Instead of arbitrarily choosing articles from the user where the number of recommended articles starts below m and ends exceeding m, choose articles with the articles with the most total interactions before choosing those with fewer total interactions. This ranking should be  what would be obtained from the **top_articles** function you wrote earlier."
   ]
  },
  {
   "cell_type": "code",
   "execution_count": 170,
   "metadata": {},
   "outputs": [],
   "source": [
    "def get_top_sorted_users(user_id, df=df, user_item=user_item):\n",
    "    '''\n",
    "    INPUT:\n",
    "    user_id - (int)\n",
    "    df - (pandas dataframe) df as defined at the top of the notebook \n",
    "    user_item - (pandas dataframe) matrix of users by articles: \n",
    "            1's when a user has interacted with an article, 0 otherwise\n",
    "    \n",
    "            \n",
    "    OUTPUT:\n",
    "    neighbors_df - (pandas dataframe) a dataframe with:\n",
    "                    neighbor_id - is a neighbor user_id\n",
    "                    similarity - measure of the similarity of each user to the provided user_id\n",
    "                    num_interactions - the number of articles viewed by the user - if a u\n",
    "                    \n",
    "    Other Details - sort the neighbors_df by the similarity and then by number of interactions where \n",
    "                    highest of each is higher in the dataframe\n",
    "     \n",
    "    '''\n",
    "    # Your code here\n",
    "    simUsers = find_similar_users(user_id = user_id, returnDfWithDotProd = True).sort_values(by = 'dotProd', ascending = False)\n",
    "\n",
    "    simUsers = dsh.SelectColumnsByWildcard(simUsers, ['userid', 'dotProd'])\n",
    "    simUsers = dsh.RenameColumn(simUsers, 'dotProd', 'similarity')\n",
    "    \n",
    "    simUsers = simUsers.reset_index()\n",
    "    simUsers = dsh.RenameColumn(simUsers, 'userid', 'neighbor_id')\n",
    "    \n",
    "    simUsers['num_interactions'] = simUsers['neighbor_id'].apply(\n",
    "        \n",
    "        # Consider each article the user interacted with only once\n",
    "        lambda x: len(df[df['userid'] == x]['article_id'].unique())\n",
    "        \n",
    "        # Consider each article the user interacted (means that if a user read\n",
    "        # 1000 times an article, the user interaction count would be that high...\n",
    "        # but that metric is nonsens\n",
    "        #lambda x: df[df['userid'] == x].shape[0]\n",
    "    )\n",
    "    \n",
    "    neighbors_df = simUsers.sort_values(['similarity', 'num_interactions'], ascending=[False, False])\n",
    "    \n",
    "    return neighbors_df # Return the dataframe specified in the doc_string\n",
    "\n",
    "\n",
    "def user_user_recs_part2(user_id, m=10):\n",
    "    '''\n",
    "    INPUT:\n",
    "    user_id - (int) a user id\n",
    "    m - (int) the number of recommendations you want for the user\n",
    "    \n",
    "    OUTPUT:\n",
    "    recs - (list) a list of recommendations for the user by article id\n",
    "    rec_names - (list) a list of recommendations for the user by article title\n",
    "    \n",
    "    Description:\n",
    "    Loops through the users based on closeness to the input user_id\n",
    "    For each user - finds articles the user hasn't seen before and provides them as recs\n",
    "    Does this until m recommendations are found\n",
    "    \n",
    "    Notes:\n",
    "    * Choose the users that have the most total article interactions \n",
    "    before choosing those with fewer article interactions.\n",
    "\n",
    "    * Choose articles with the articles with the most total interactions \n",
    "    before choosing those with fewer total interactions. \n",
    "   \n",
    "    '''\n",
    "    # Your code here\n",
    "    recs, rec_names = [], []\n",
    "    \n",
    "    userKnow = get_user_articles(user_id)\n",
    "    userKnowFlt = [float(uk) for uk in userKnow[0]]\n",
    "    \n",
    "    dfTopUsers = get_top_sorted_users(user_id = user_id).copy(deep = True)\n",
    "    #return dfTopUsers\n",
    "    \n",
    "    mode = 1\n",
    "    \n",
    "    if mode == 0:\n",
    "        \n",
    "        # For each neighbor from best to worst\n",
    "        for ind, row in dfTopUsers.iterrows():\n",
    "            nb = row['neighbor_id']\n",
    "        \n",
    "            dfArticles = df[df['userid'] == nb].drop_duplicates()\n",
    "            dfArticles = dfArticles[~dfArticles['article_id'].isin(userKnowFlt)]\n",
    "\n",
    "            dfArticles['article_interactions'] = df['article_id'].apply(\n",
    "                # Same situation as before:\n",
    "                # take unique userids to prevent high rating if\n",
    "                # an user read an article 1000 times\n",
    "                lambda x: len(df[df['article_id'] == x]['userid'].unique())\n",
    "            )\n",
    "        \n",
    "            dfArticles = dfArticles.sort_values(by = 'article_interactions', ascending = False)\n",
    "\n",
    "            for aind, arow in dfArticles.iterrows():\n",
    "                artId = arow['article_id']\n",
    "                if artId in userKnowFlt:\n",
    "                    continue\n",
    "                \n",
    "                recs.append(artId)\n",
    "                rec_names.append(arow['title'])\n",
    "                userKnowFlt.append(artId)\n",
    "            \n",
    "                if len(recs) == m:\n",
    "                    break\n",
    "            if len(recs) == m:\n",
    "                break\n",
    "                \n",
    "                \n",
    "    elif mode == 1:\n",
    "    \n",
    "        dfArticles = df[df['userid'].isin(dfTopUsers['neighbor_id'])].drop_duplicates()\n",
    "        dfArticles = dfArticles[~dfArticles['article_id'].isin(userKnowFlt)]\n",
    "\n",
    "        dfArticles['article_interactions'] = df['article_id'].apply(\n",
    "            # Same situation as before:\n",
    "            # take unique userids to prevent high rating if\n",
    "            # an user read an article 1000 times\n",
    "            lambda x: len(df[df['article_id'] == x]['userid'].unique())\n",
    "        )\n",
    "\n",
    "        #return dfArticles\n",
    "        dfTopRec = dfTopUsers.merge(\n",
    "            dfArticles,\n",
    "            left_on = 'neighbor_id',\n",
    "            right_on = 'userid',\n",
    "            how = 'inner'\n",
    "        )\n",
    "\n",
    "        # Now that we have unique user interactions and unique article interactions.\n",
    "        # I multiply both numbers with each other to be able to consider both:\n",
    "        # users that have the most article interactions\n",
    "        # and articles with the most total interaction\n",
    "        dfTopRec['suminteractions'] = dfTopRec['num_interactions'] * dfTopRec['article_interactions']\n",
    "        dfTopRec = dfTopRec.sort_values(by = 'suminteractions', ascending = False)\n",
    "\n",
    "        for ind, row in dfTopRec[['article_id', 'title']].drop_duplicates().iterrows():\n",
    "            artId = row['article_id']\n",
    "            print('current article id: ', artId)\n",
    "            if artId in recs:\n",
    "                continue\n",
    "            \n",
    "            recs.append(artId)\n",
    "            rec_names.append(row['title'])\n",
    "            \n",
    "            if len(recs) == m:\n",
    "                break\n",
    "        \n",
    "    return recs, rec_names"
   ]
  },
  {
   "cell_type": "code",
   "execution_count": 164,
   "metadata": {},
   "outputs": [
    {
     "name": "stdout",
     "output_type": "stream",
     "text": [
      "-------------------- Start finding and keeping columns matchting to wildcards: ['userid', 'dotProd'] --------------------\n",
      "-------------------- Finished keeping columns matchting to wildcards: 1 --------------------\n",
      "The top 10 recommendations for user 20 are the following article ids:\n",
      "[1330.0, 1429.0, 1314.0, 1271.0, 43.0, 1351.0, 1336.0, 1368.0, 151.0, 1338.0]\n",
      "\n",
      "The top 10 recommendations for user 20 are the following article names:\n",
      "['insights from new york car accident reports', 'use deep learning for image classification', 'healthcare python streaming application demo', 'customer demographics and sales', 'deep learning with tensorflow course by big data university', 'model bike sharing data with spss', 'learn basics about notebooks and apache spark', 'putting a human face on machine learning', 'jupyter notebook tutorial', 'ml optimization using cognitive assistant']\n"
     ]
    }
   ],
   "source": [
    "# Quick spot check - don't change this code - just use it to test your functions\n",
    "rec_ids, rec_names = user_user_recs_part2(20, 10)\n",
    "print(\"The top 10 recommendations for user 20 are the following article ids:\")\n",
    "print(rec_ids)\n",
    "print()\n",
    "print(\"The top 10 recommendations for user 20 are the following article names:\")\n",
    "print(rec_names)"
   ]
  },
  {
   "cell_type": "markdown",
   "metadata": {},
   "source": [
    "`5.` Use your functions from above to correctly fill in the solutions to the dictionary below.  Then test your dictionary against the solution.  Provide the code you need to answer each following the comments below."
   ]
  },
  {
   "cell_type": "code",
   "execution_count": 165,
   "metadata": {},
   "outputs": [
    {
     "name": "stdout",
     "output_type": "stream",
     "text": [
      "-------------------- Start finding and keeping columns matchting to wildcards: ['userid', 'dotProd'] --------------------\n",
      "-------------------- Finished keeping columns matchting to wildcards: 1 --------------------\n"
     ]
    },
    {
     "data": {
      "text/plain": [
       "3933"
      ]
     },
     "execution_count": 165,
     "metadata": {},
     "output_type": "execute_result"
    }
   ],
   "source": [
    "get_top_sorted_users(user_id = 1).iloc[0]['neighbor_id']"
   ]
  },
  {
   "cell_type": "code",
   "execution_count": 166,
   "metadata": {},
   "outputs": [
    {
     "name": "stdout",
     "output_type": "stream",
     "text": [
      "-------------------- Start finding and keeping columns matchting to wildcards: ['userid', 'dotProd'] --------------------\n",
      "-------------------- Finished keeping columns matchting to wildcards: 1 --------------------\n"
     ]
    },
    {
     "data": {
      "text/plain": [
       "3910"
      ]
     },
     "execution_count": 166,
     "metadata": {},
     "output_type": "execute_result"
    }
   ],
   "source": [
    "get_top_sorted_users(user_id = 131).iloc[9]['neighbor_id']"
   ]
  },
  {
   "cell_type": "code",
   "execution_count": 167,
   "metadata": {
    "scrolled": true
   },
   "outputs": [
    {
     "name": "stdout",
     "output_type": "stream",
     "text": [
      "-------------------- Start finding and keeping columns matchting to wildcards: ['userid', 'dotProd'] --------------------\n",
      "-------------------- Finished keeping columns matchting to wildcards: 1 --------------------\n",
      "-------------------- Start finding and keeping columns matchting to wildcards: ['userid', 'dotProd'] --------------------\n",
      "-------------------- Finished keeping columns matchting to wildcards: 1 --------------------\n"
     ]
    }
   ],
   "source": [
    "### Tests with a dictionary of results\n",
    "\n",
    "user1_most_sim = get_top_sorted_users(user_id = 1).iloc[0]['neighbor_id'] # Find the user that is most similar to user 1 \n",
    "user131_10th_sim = get_top_sorted_users(user_id = 131).iloc[10]['neighbor_id'] # Find the 10th most similar user to user 131"
   ]
  },
  {
   "cell_type": "code",
   "execution_count": 168,
   "metadata": {},
   "outputs": [
    {
     "data": {
      "text/plain": [
       "(3933, 242)"
      ]
     },
     "execution_count": 168,
     "metadata": {},
     "output_type": "execute_result"
    }
   ],
   "source": [
    "user1_most_sim,user131_10th_sim"
   ]
  },
  {
   "cell_type": "code",
   "execution_count": 169,
   "metadata": {
    "scrolled": true
   },
   "outputs": [
    {
     "name": "stdout",
     "output_type": "stream",
     "text": [
      "This all looks good!  Nice job!\n"
     ]
    }
   ],
   "source": [
    "## Dictionary Test Here\n",
    "sol_5_dict = {\n",
    "    'The user that is most similar to user 1.': user1_most_sim, \n",
    "    'The user that is the 10th most similar to user 131': user131_10th_sim,\n",
    "}\n",
    "\n",
    "t.sol_5_test(sol_5_dict)"
   ]
  },
  {
   "cell_type": "markdown",
   "metadata": {},
   "source": [
    "`6.` If we were given a new user, which of the above functions would you be able to use to make recommendations?  Explain.  Can you think of a better way we might make recommendations?  Use the cell below to explain a better method for new users."
   ]
  },
  {
   "cell_type": "markdown",
   "metadata": {},
   "source": [
    "#### Answer:\n",
    "\n"
   ]
  },
  {
   "cell_type": "markdown",
   "metadata": {},
   "source": [
    "`7.` Using your existing functions, provide the top 10 recommended articles you would provide for the a new user below.  You can test your function against our thoughts to make sure we are all on the same page with how we might make a recommendation."
   ]
  },
  {
   "cell_type": "code",
   "execution_count": null,
   "metadata": {},
   "outputs": [],
   "source": [
    "new_user = '0.0'\n",
    "\n",
    "# What would your recommendations be for this new user '0.0'?  As a new user, they have no observed articles.\n",
    "# Provide a list of the top 10 article ids you would give to \n",
    "new_user_recs = # Your recommendations here\n",
    "\n"
   ]
  },
  {
   "cell_type": "code",
   "execution_count": null,
   "metadata": {},
   "outputs": [],
   "source": [
    "assert set(new_user_recs) == set(['1314.0','1429.0','1293.0','1427.0','1162.0','1364.0','1304.0','1170.0','1431.0','1330.0']), \"Oops!  It makes sense that in this case we would want to recommend the most popular articles, because we don't know anything about these users.\"\n",
    "\n",
    "print(\"That's right!  Nice job!\")"
   ]
  },
  {
   "cell_type": "markdown",
   "metadata": {},
   "source": [
    "### <a class=\"anchor\" id=\"Content-Recs\">Part IV: Content Based Recommendations (EXTRA - NOT REQUIRED)</a>\n",
    "\n",
    "Another method we might use to make recommendations is to perform a ranking of the highest ranked articles associated with some term.  You might consider content to be the **doc_body**, **doc_description**, or **doc_full_name**.  There isn't one way to create a content based recommendation, especially considering that each of these columns hold content related information.  \n",
    "\n",
    "`1.` Use the function body below to create a content based recommender.  Since there isn't one right answer for this recommendation tactic, no test functions are provided.  Feel free to change the function inputs if you decide you want to try a method that requires more input values.  The input values are currently set with one idea in mind that you may use to make content based recommendations.  One additional idea is that you might want to choose the most popular recommendations that meet your 'content criteria', but again, there is a lot of flexibility in how you might make these recommendations.\n",
    "\n",
    "### This part is NOT REQUIRED to pass this project.  However, you may choose to take this on as an extra way to show off your skills."
   ]
  },
  {
   "cell_type": "code",
   "execution_count": null,
   "metadata": {},
   "outputs": [],
   "source": [
    "def make_content_recs():\n",
    "    '''\n",
    "    INPUT:\n",
    "    \n",
    "    OUTPUT:\n",
    "    \n",
    "    '''"
   ]
  },
  {
   "cell_type": "markdown",
   "metadata": {},
   "source": [
    "`2.` Now that you have put together your content-based recommendation system, use the cell below to write a summary explaining how your content based recommender works.  Do you see any possible improvements that could be made to your function?  Is there anything novel about your content based recommender?\n",
    "\n",
    "### This part is NOT REQUIRED to pass this project.  However, you may choose to take this on as an extra way to show off your skills."
   ]
  },
  {
   "cell_type": "markdown",
   "metadata": {},
   "source": [
    "**Write an explanation of your content based recommendation system here.**"
   ]
  },
  {
   "cell_type": "markdown",
   "metadata": {},
   "source": [
    "`3.` Use your content-recommendation system to make recommendations for the below scenarios based on the comments.  Again no tests are provided here, because there isn't one right answer that could be used to find these content based recommendations.\n",
    "\n",
    "### This part is NOT REQUIRED to pass this project.  However, you may choose to take this on as an extra way to show off your skills."
   ]
  },
  {
   "cell_type": "code",
   "execution_count": null,
   "metadata": {},
   "outputs": [],
   "source": [
    "# make recommendations for a brand new user\n",
    "\n",
    "\n",
    "# make a recommendations for a user who only has interacted with article id '1427.0'\n",
    "\n"
   ]
  },
  {
   "cell_type": "markdown",
   "metadata": {},
   "source": [
    "### <a class=\"anchor\" id=\"Matrix-Fact\">Part V: Matrix Factorization</a>\n",
    "\n",
    "In this part of the notebook, you will build use matrix factorization to make article recommendations to the users on the IBM Watson Studio platform.\n",
    "\n",
    "`1.` You should have already created a **user_item** matrix above in **question 1** of **Part III** above.  This first question here will just require that you run the cells to get things set up for the rest of **Part V** of the notebook. "
   ]
  },
  {
   "cell_type": "code",
   "execution_count": null,
   "metadata": {},
   "outputs": [],
   "source": [
    "# Load the matrix here\n",
    "user_item_matrix = pd.read_pickle('user_item_matrix.p')"
   ]
  },
  {
   "cell_type": "code",
   "execution_count": null,
   "metadata": {},
   "outputs": [],
   "source": [
    "# quick look at the matrix\n",
    "dsh.DfTailHead(user_item_matrix, count = 3)"
   ]
  },
  {
   "cell_type": "markdown",
   "metadata": {},
   "source": [
    "`2.` In this situation, you can use Singular Value Decomposition from [numpy](https://docs.scipy.org/doc/numpy-1.14.0/reference/generated/numpy.linalg.svd.html) on the user-item matrix.  Use the cell to perform SVD, and explain why this is different than in the lesson."
   ]
  },
  {
   "cell_type": "code",
   "execution_count": null,
   "metadata": {},
   "outputs": [],
   "source": [
    "# Perform SVD on the User-Item Matrix Here\n",
    "\n",
    "\n",
    "\n",
    "u, s, vt = # use the built in to get the three matrices"
   ]
  },
  {
   "cell_type": "markdown",
   "metadata": {},
   "source": [
    "**Provide your response here.**"
   ]
  },
  {
   "cell_type": "markdown",
   "metadata": {},
   "source": [
    "`3.` Now for the tricky part, how do we choose the number of latent features to use?  Running the below cell, you can see that as the number of latent features increases, we obtain a lower error rate on making predictions for the 1 and 0 values in the user-item matrix.  Run the cell below to get an idea of how the accuracy improves as we increase the number of latent features."
   ]
  },
  {
   "cell_type": "code",
   "execution_count": null,
   "metadata": {},
   "outputs": [],
   "source": [
    "num_latent_feats = np.arange(10,700+10,20)\n",
    "sum_errs = []\n",
    "\n",
    "for k in num_latent_feats:\n",
    "    # restructure with k latent features\n",
    "    s_new, u_new, vt_new = np.diag(s[:k]), u[:, :k], vt[:k, :]\n",
    "    \n",
    "    # take dot product\n",
    "    user_item_est = np.around(np.dot(np.dot(u_new, s_new), vt_new))\n",
    "    \n",
    "    # compute error for each prediction to actual value\n",
    "    diffs = np.subtract(user_item_matrix, user_item_est)\n",
    "    \n",
    "    # total errors and keep track of them\n",
    "    err = np.sum(np.sum(np.abs(diffs)))\n",
    "    sum_errs.append(err)\n",
    "    \n",
    "    \n",
    "plt.plot(num_latent_feats, 1 - np.array(sum_errs)/df.shape[0]);\n",
    "plt.xlabel('Number of Latent Features');\n",
    "plt.ylabel('Accuracy');\n",
    "plt.title('Accuracy vs. Number of Latent Features');"
   ]
  },
  {
   "cell_type": "markdown",
   "metadata": {},
   "source": [
    "`4.` From the above, we can't really be sure how many features to use, because simply having a better way to predict the 1's and 0's of the matrix doesn't exactly give us an indication of if we are able to make good recommendations.  Instead, we might split our dataset into a training and test set of data, as shown in the cell below.  \n",
    "\n",
    "Use the code from question 3 to understand the impact on accuracy of the training and test sets of data with different numbers of latent features. Using the split below: \n",
    "\n",
    "* How many users can we make predictions for in the test set?  \n",
    "* How many users are we not able to make predictions for because of the cold start problem?\n",
    "* How many movies can we make predictions for in the test set?  \n",
    "* How many movies are we not able to make predictions for because of the cold start problem?"
   ]
  },
  {
   "cell_type": "code",
   "execution_count": null,
   "metadata": {},
   "outputs": [],
   "source": [
    "df_train = df.head(40000)\n",
    "df_test = df.tail(5993)\n",
    "\n",
    "def create_test_and_train_user_item(df_train, df_test):\n",
    "    '''\n",
    "    INPUT:\n",
    "    df_train - training dataframe\n",
    "    df_test - test dataframe\n",
    "    \n",
    "    OUTPUT:\n",
    "    user_item_train - a user-item matrix of the training dataframe \n",
    "                      (unique users for each row and unique articles for each column)\n",
    "    user_item_test - a user-item matrix of the testing dataframe \n",
    "                    (unique users for each row and unique articles for each column)\n",
    "    test_idx - all of the test user ids\n",
    "    test_arts - all of the test article ids\n",
    "    \n",
    "    '''\n",
    "    # Your code here\n",
    "    \n",
    "    return user_item_train, user_item_test, test_idx, test_arts\n",
    "\n",
    "user_item_train, user_item_test, test_idx, test_arts = create_test_and_train_user_item(df_train, df_test)"
   ]
  },
  {
   "cell_type": "code",
   "execution_count": null,
   "metadata": {},
   "outputs": [],
   "source": [
    "# Replace the values in the dictionary below\n",
    "a = 662 \n",
    "b = 574 \n",
    "c = 20 \n",
    "d = 0 \n",
    "\n",
    "\n",
    "sol_4_dict = {\n",
    "    'How many users can we make predictions for in the test set?': # letter here, \n",
    "    'How many users in the test set are we not able to make predictions for because of the cold start problem?': # letter here, \n",
    "    'How many movies can we make predictions for in the test set?': # letter here,\n",
    "    'How many movies in the test set are we not able to make predictions for because of the cold start problem?': # letter here\n",
    "}\n",
    "\n",
    "t.sol_4_test(sol_4_dict)"
   ]
  },
  {
   "cell_type": "markdown",
   "metadata": {},
   "source": [
    "`5.` Now use the **user_item_train** dataset from above to find **U**, **S**, and **V** transpose using SVD. Then find the subset of rows in the **user_item_test** dataset that you can predict using this matrix decomposition with different numbers of latent features to see how many features makes sense to keep based on the accuracy on the test data. This will require combining what was done in questions `2` - `4`.\n",
    "\n",
    "Use the cells below to explore how well SVD works towards making predictions for recommendations on the test data.  "
   ]
  },
  {
   "cell_type": "code",
   "execution_count": null,
   "metadata": {},
   "outputs": [],
   "source": [
    "# fit SVD on the user_item_train matrix\n",
    "u_train, s_train, vt_train = # fit svd similar to above then use the cells below"
   ]
  },
  {
   "cell_type": "code",
   "execution_count": null,
   "metadata": {},
   "outputs": [],
   "source": [
    "# Use these cells to see how well you can use the training \n",
    "# decomposition to predict on test data"
   ]
  },
  {
   "cell_type": "code",
   "execution_count": null,
   "metadata": {},
   "outputs": [],
   "source": []
  },
  {
   "cell_type": "code",
   "execution_count": null,
   "metadata": {},
   "outputs": [],
   "source": []
  },
  {
   "cell_type": "markdown",
   "metadata": {
    "collapsed": true
   },
   "source": [
    "`6.` Use the cell below to comment on the results you found in the previous question. Given the circumstances of your results, discuss what you might do to determine if the recommendations you make with any of the above recommendation systems are an improvement to how users currently find articles? "
   ]
  },
  {
   "cell_type": "markdown",
   "metadata": {},
   "source": [
    "**Your response here.**"
   ]
  },
  {
   "cell_type": "markdown",
   "metadata": {
    "collapsed": true
   },
   "source": [
    "<a id='conclusions'></a>\n",
    "### Extras\n",
    "Using your workbook, you could now save your recommendations for each user, develop a class to make new predictions and update your results, and make a flask app to deploy your results.  These tasks are beyond what is required for this project.  However, from what you learned in the lessons, you certainly capable of taking these tasks on to improve upon your work here!\n",
    "\n",
    "\n",
    "## Conclusion\n",
    "\n",
    "> Congratulations!  You have reached the end of the Recommendations with IBM project! \n",
    "\n",
    "> **Tip**: Once you are satisfied with your work here, check over your report to make sure that it is satisfies all the areas of the [rubric](https://review.udacity.com/#!/rubrics/2322/view). You should also probably remove all of the \"Tips\" like this one so that the presentation is as polished as possible.\n",
    "\n",
    "\n",
    "## Directions to Submit\n",
    "\n",
    "> Before you submit your project, you need to create a .html or .pdf version of this notebook in the workspace here. To do that, run the code cell below. If it worked correctly, you should get a return code of 0, and you should see the generated .html file in the workspace directory (click on the orange Jupyter icon in the upper left).\n",
    "\n",
    "> Alternatively, you can download this report as .html via the **File** > **Download as** submenu, and then manually upload it into the workspace directory by clicking on the orange Jupyter icon in the upper left, then using the Upload button.\n",
    "\n",
    "> Once you've done this, you can submit your project by clicking on the \"Submit Project\" button in the lower right here. This will create and submit a zip file with this .ipynb doc and the .html or .pdf version you created. Congratulations! "
   ]
  },
  {
   "cell_type": "code",
   "execution_count": null,
   "metadata": {},
   "outputs": [],
   "source": [
    "from subprocess import call\n",
    "call(['python', '-m', 'nbconvert', 'Recommendations_with_IBM.ipynb'])"
   ]
  }
 ],
 "metadata": {
  "kernelspec": {
   "display_name": "Python 3",
   "language": "python",
   "name": "python3"
  },
  "language_info": {
   "codemirror_mode": {
    "name": "ipython",
    "version": 3
   },
   "file_extension": ".py",
   "mimetype": "text/x-python",
   "name": "python",
   "nbconvert_exporter": "python",
   "pygments_lexer": "ipython3",
   "version": "3.6.5"
  }
 },
 "nbformat": 4,
 "nbformat_minor": 2
}
